{
 "cells": [
  {
   "cell_type": "markdown",
   "metadata": {},
   "source": [
    "# Part 14"
   ]
  },
  {
   "cell_type": "markdown",
   "metadata": {},
   "source": [
    "## # Dataset"
   ]
  },
  {
   "cell_type": "code",
   "execution_count": 1,
   "metadata": {},
   "outputs": [],
   "source": [
    "import pandas as pd\n",
    "import numpy as np"
   ]
  },
  {
   "cell_type": "code",
   "execution_count": 2,
   "metadata": {},
   "outputs": [
    {
     "data": {
      "text/plain": [
       "((1245, 7),\n",
       " Index(['Date', 'Open', 'High', 'Low', 'Close', 'Adj Close', 'Volume'], dtype='object'))"
      ]
     },
     "execution_count": 2,
     "metadata": {},
     "output_type": "execute_result"
    }
   ],
   "source": [
    "df_train = pd.read_csv('../datasets/petr4_treinamento.csv')\n",
    "df_train.shape, df_train.columns"
   ]
  },
  {
   "cell_type": "code",
   "execution_count": 3,
   "metadata": {},
   "outputs": [
    {
     "data": {
      "text/html": [
       "<div>\n",
       "<style scoped>\n",
       "    .dataframe tbody tr th:only-of-type {\n",
       "        vertical-align: middle;\n",
       "    }\n",
       "\n",
       "    .dataframe tbody tr th {\n",
       "        vertical-align: top;\n",
       "    }\n",
       "\n",
       "    .dataframe thead th {\n",
       "        text-align: right;\n",
       "    }\n",
       "</style>\n",
       "<table border=\"1\" class=\"dataframe\">\n",
       "  <thead>\n",
       "    <tr style=\"text-align: right;\">\n",
       "      <th></th>\n",
       "      <th>Date</th>\n",
       "      <th>Open</th>\n",
       "      <th>High</th>\n",
       "      <th>Low</th>\n",
       "      <th>Close</th>\n",
       "      <th>Adj Close</th>\n",
       "      <th>Volume</th>\n",
       "    </tr>\n",
       "  </thead>\n",
       "  <tbody>\n",
       "    <tr>\n",
       "      <th>0</th>\n",
       "      <td>2013-01-02</td>\n",
       "      <td>19.990000</td>\n",
       "      <td>20.209999</td>\n",
       "      <td>19.690001</td>\n",
       "      <td>19.690001</td>\n",
       "      <td>18.086271</td>\n",
       "      <td>30182600.0</td>\n",
       "    </tr>\n",
       "    <tr>\n",
       "      <th>1</th>\n",
       "      <td>2013-01-03</td>\n",
       "      <td>19.809999</td>\n",
       "      <td>20.400000</td>\n",
       "      <td>19.700001</td>\n",
       "      <td>20.400000</td>\n",
       "      <td>18.738441</td>\n",
       "      <td>30552600.0</td>\n",
       "    </tr>\n",
       "    <tr>\n",
       "      <th>2</th>\n",
       "      <td>2013-01-04</td>\n",
       "      <td>20.330000</td>\n",
       "      <td>20.620001</td>\n",
       "      <td>20.170000</td>\n",
       "      <td>20.430000</td>\n",
       "      <td>18.766001</td>\n",
       "      <td>36141000.0</td>\n",
       "    </tr>\n",
       "    <tr>\n",
       "      <th>3</th>\n",
       "      <td>2013-01-07</td>\n",
       "      <td>20.480000</td>\n",
       "      <td>20.670000</td>\n",
       "      <td>19.950001</td>\n",
       "      <td>20.080000</td>\n",
       "      <td>18.444506</td>\n",
       "      <td>28069600.0</td>\n",
       "    </tr>\n",
       "    <tr>\n",
       "      <th>4</th>\n",
       "      <td>2013-01-08</td>\n",
       "      <td>20.110001</td>\n",
       "      <td>20.230000</td>\n",
       "      <td>19.459999</td>\n",
       "      <td>19.500000</td>\n",
       "      <td>17.911745</td>\n",
       "      <td>29091300.0</td>\n",
       "    </tr>\n",
       "  </tbody>\n",
       "</table>\n",
       "</div>"
      ],
      "text/plain": [
       "         Date       Open       High        Low      Close  Adj Close  \\\n",
       "0  2013-01-02  19.990000  20.209999  19.690001  19.690001  18.086271   \n",
       "1  2013-01-03  19.809999  20.400000  19.700001  20.400000  18.738441   \n",
       "2  2013-01-04  20.330000  20.620001  20.170000  20.430000  18.766001   \n",
       "3  2013-01-07  20.480000  20.670000  19.950001  20.080000  18.444506   \n",
       "4  2013-01-08  20.110001  20.230000  19.459999  19.500000  17.911745   \n",
       "\n",
       "       Volume  \n",
       "0  30182600.0  \n",
       "1  30552600.0  \n",
       "2  36141000.0  \n",
       "3  28069600.0  \n",
       "4  29091300.0  "
      ]
     },
     "execution_count": 3,
     "metadata": {},
     "output_type": "execute_result"
    }
   ],
   "source": [
    "df_train.head()"
   ]
  },
  {
   "cell_type": "code",
   "execution_count": 4,
   "metadata": {},
   "outputs": [],
   "source": [
    "def _isnull(df):\n",
    "    for c in df.columns:\n",
    "        cnt = df[pd.isnull(df[c])].shape[0]\n",
    "        if cnt != 0:\n",
    "            print(f'# {c}: {cnt} rows')"
   ]
  },
  {
   "cell_type": "code",
   "execution_count": 5,
   "metadata": {},
   "outputs": [
    {
     "name": "stdout",
     "output_type": "stream",
     "text": [
      "# Open: 3 rows\n",
      "# High: 3 rows\n",
      "# Low: 3 rows\n",
      "# Close: 3 rows\n",
      "# Adj Close: 3 rows\n",
      "# Volume: 3 rows\n"
     ]
    }
   ],
   "source": [
    "_isnull(df_train)"
   ]
  },
  {
   "cell_type": "code",
   "execution_count": 6,
   "metadata": {},
   "outputs": [
    {
     "data": {
      "text/plain": [
       "(1242, 7)"
      ]
     },
     "execution_count": 6,
     "metadata": {},
     "output_type": "execute_result"
    }
   ],
   "source": [
    "df_train.dropna(axis=0, inplace=True)\n",
    "df_train.reset_index(inplace=True, drop=True)\n",
    "df_train.shape"
   ]
  },
  {
   "cell_type": "code",
   "execution_count": 7,
   "metadata": {},
   "outputs": [
    {
     "data": {
      "text/plain": [
       "(1242, 7)"
      ]
     },
     "execution_count": 7,
     "metadata": {},
     "output_type": "execute_result"
    }
   ],
   "source": [
    "df_train.shape"
   ]
  },
  {
   "cell_type": "markdown",
   "metadata": {},
   "source": [
    "DAYS BEFORE = 90"
   ]
  },
  {
   "cell_type": "code",
   "execution_count": 8,
   "metadata": {},
   "outputs": [],
   "source": [
    "def daysbefore(df, days_before, col):\n",
    "    feature = []\n",
    "    target = []\n",
    "    for i in range(days_before, df.shape[0]):\n",
    "        slice_start = i - days_before\n",
    "        slice_stop = i\n",
    "        feature.append(df[col].iloc[slice_start:slice_stop].values)\n",
    "        target.append(df[col].iloc[i])\n",
    "    return np.array(feature), np.array(target)"
   ]
  },
  {
   "cell_type": "code",
   "execution_count": 9,
   "metadata": {},
   "outputs": [],
   "source": [
    "x, y = daysbefore(df_train, 90, 'Open')"
   ]
  },
  {
   "cell_type": "code",
   "execution_count": 10,
   "metadata": {},
   "outputs": [
    {
     "data": {
      "text/plain": [
       "(1152, 91)"
      ]
     },
     "execution_count": 10,
     "metadata": {},
     "output_type": "execute_result"
    }
   ],
   "source": [
    "df_open_train = pd.DataFrame(data=x)\n",
    "df_open_train['target'] = y\n",
    "df_open_train.shape"
   ]
  },
  {
   "cell_type": "code",
   "execution_count": 11,
   "metadata": {},
   "outputs": [
    {
     "data": {
      "text/html": [
       "<div>\n",
       "<style scoped>\n",
       "    .dataframe tbody tr th:only-of-type {\n",
       "        vertical-align: middle;\n",
       "    }\n",
       "\n",
       "    .dataframe tbody tr th {\n",
       "        vertical-align: top;\n",
       "    }\n",
       "\n",
       "    .dataframe thead th {\n",
       "        text-align: right;\n",
       "    }\n",
       "</style>\n",
       "<table border=\"1\" class=\"dataframe\">\n",
       "  <thead>\n",
       "    <tr style=\"text-align: right;\">\n",
       "      <th></th>\n",
       "      <th>0</th>\n",
       "      <th>1</th>\n",
       "      <th>2</th>\n",
       "      <th>3</th>\n",
       "      <th>4</th>\n",
       "      <th>5</th>\n",
       "      <th>6</th>\n",
       "      <th>7</th>\n",
       "      <th>8</th>\n",
       "      <th>9</th>\n",
       "      <th>...</th>\n",
       "      <th>81</th>\n",
       "      <th>82</th>\n",
       "      <th>83</th>\n",
       "      <th>84</th>\n",
       "      <th>85</th>\n",
       "      <th>86</th>\n",
       "      <th>87</th>\n",
       "      <th>88</th>\n",
       "      <th>89</th>\n",
       "      <th>target</th>\n",
       "    </tr>\n",
       "  </thead>\n",
       "  <tbody>\n",
       "    <tr>\n",
       "      <th>1147</th>\n",
       "      <td>13.64</td>\n",
       "      <td>13.70</td>\n",
       "      <td>13.78</td>\n",
       "      <td>13.78</td>\n",
       "      <td>13.87</td>\n",
       "      <td>13.93</td>\n",
       "      <td>13.76</td>\n",
       "      <td>13.79</td>\n",
       "      <td>13.53</td>\n",
       "      <td>13.85</td>\n",
       "      <td>...</td>\n",
       "      <td>15.36</td>\n",
       "      <td>15.65</td>\n",
       "      <td>15.10</td>\n",
       "      <td>15.05</td>\n",
       "      <td>15.16</td>\n",
       "      <td>15.18</td>\n",
       "      <td>15.21</td>\n",
       "      <td>15.31</td>\n",
       "      <td>15.75</td>\n",
       "      <td>15.75</td>\n",
       "    </tr>\n",
       "    <tr>\n",
       "      <th>1148</th>\n",
       "      <td>13.70</td>\n",
       "      <td>13.78</td>\n",
       "      <td>13.78</td>\n",
       "      <td>13.87</td>\n",
       "      <td>13.93</td>\n",
       "      <td>13.76</td>\n",
       "      <td>13.79</td>\n",
       "      <td>13.53</td>\n",
       "      <td>13.85</td>\n",
       "      <td>13.96</td>\n",
       "      <td>...</td>\n",
       "      <td>15.65</td>\n",
       "      <td>15.10</td>\n",
       "      <td>15.05</td>\n",
       "      <td>15.16</td>\n",
       "      <td>15.18</td>\n",
       "      <td>15.21</td>\n",
       "      <td>15.31</td>\n",
       "      <td>15.75</td>\n",
       "      <td>15.75</td>\n",
       "      <td>15.75</td>\n",
       "    </tr>\n",
       "    <tr>\n",
       "      <th>1149</th>\n",
       "      <td>13.78</td>\n",
       "      <td>13.78</td>\n",
       "      <td>13.87</td>\n",
       "      <td>13.93</td>\n",
       "      <td>13.76</td>\n",
       "      <td>13.79</td>\n",
       "      <td>13.53</td>\n",
       "      <td>13.85</td>\n",
       "      <td>13.96</td>\n",
       "      <td>14.57</td>\n",
       "      <td>...</td>\n",
       "      <td>15.10</td>\n",
       "      <td>15.05</td>\n",
       "      <td>15.16</td>\n",
       "      <td>15.18</td>\n",
       "      <td>15.21</td>\n",
       "      <td>15.31</td>\n",
       "      <td>15.75</td>\n",
       "      <td>15.75</td>\n",
       "      <td>15.75</td>\n",
       "      <td>15.99</td>\n",
       "    </tr>\n",
       "    <tr>\n",
       "      <th>1150</th>\n",
       "      <td>13.78</td>\n",
       "      <td>13.87</td>\n",
       "      <td>13.93</td>\n",
       "      <td>13.76</td>\n",
       "      <td>13.79</td>\n",
       "      <td>13.53</td>\n",
       "      <td>13.85</td>\n",
       "      <td>13.96</td>\n",
       "      <td>14.57</td>\n",
       "      <td>14.65</td>\n",
       "      <td>...</td>\n",
       "      <td>15.05</td>\n",
       "      <td>15.16</td>\n",
       "      <td>15.18</td>\n",
       "      <td>15.21</td>\n",
       "      <td>15.31</td>\n",
       "      <td>15.75</td>\n",
       "      <td>15.75</td>\n",
       "      <td>15.75</td>\n",
       "      <td>15.99</td>\n",
       "      <td>16.10</td>\n",
       "    </tr>\n",
       "    <tr>\n",
       "      <th>1151</th>\n",
       "      <td>13.87</td>\n",
       "      <td>13.93</td>\n",
       "      <td>13.76</td>\n",
       "      <td>13.79</td>\n",
       "      <td>13.53</td>\n",
       "      <td>13.85</td>\n",
       "      <td>13.96</td>\n",
       "      <td>14.57</td>\n",
       "      <td>14.65</td>\n",
       "      <td>15.02</td>\n",
       "      <td>...</td>\n",
       "      <td>15.16</td>\n",
       "      <td>15.18</td>\n",
       "      <td>15.21</td>\n",
       "      <td>15.31</td>\n",
       "      <td>15.75</td>\n",
       "      <td>15.75</td>\n",
       "      <td>15.75</td>\n",
       "      <td>15.99</td>\n",
       "      <td>16.10</td>\n",
       "      <td>16.10</td>\n",
       "    </tr>\n",
       "  </tbody>\n",
       "</table>\n",
       "<p>5 rows × 91 columns</p>\n",
       "</div>"
      ],
      "text/plain": [
       "          0      1      2      3      4      5      6      7      8      9  \\\n",
       "1147  13.64  13.70  13.78  13.78  13.87  13.93  13.76  13.79  13.53  13.85   \n",
       "1148  13.70  13.78  13.78  13.87  13.93  13.76  13.79  13.53  13.85  13.96   \n",
       "1149  13.78  13.78  13.87  13.93  13.76  13.79  13.53  13.85  13.96  14.57   \n",
       "1150  13.78  13.87  13.93  13.76  13.79  13.53  13.85  13.96  14.57  14.65   \n",
       "1151  13.87  13.93  13.76  13.79  13.53  13.85  13.96  14.57  14.65  15.02   \n",
       "\n",
       "      ...     81     82     83     84     85     86     87     88     89  \\\n",
       "1147  ...  15.36  15.65  15.10  15.05  15.16  15.18  15.21  15.31  15.75   \n",
       "1148  ...  15.65  15.10  15.05  15.16  15.18  15.21  15.31  15.75  15.75   \n",
       "1149  ...  15.10  15.05  15.16  15.18  15.21  15.31  15.75  15.75  15.75   \n",
       "1150  ...  15.05  15.16  15.18  15.21  15.31  15.75  15.75  15.75  15.99   \n",
       "1151  ...  15.16  15.18  15.21  15.31  15.75  15.75  15.75  15.99  16.10   \n",
       "\n",
       "      target  \n",
       "1147   15.75  \n",
       "1148   15.75  \n",
       "1149   15.99  \n",
       "1150   16.10  \n",
       "1151   16.10  \n",
       "\n",
       "[5 rows x 91 columns]"
      ]
     },
     "execution_count": 11,
     "metadata": {},
     "output_type": "execute_result"
    }
   ],
   "source": [
    "df_open_train.tail()"
   ]
  },
  {
   "cell_type": "code",
   "execution_count": 12,
   "metadata": {},
   "outputs": [
    {
     "data": {
      "text/plain": [
       "((1152, 90, 1), (1152,))"
      ]
     },
     "execution_count": 12,
     "metadata": {},
     "output_type": "execute_result"
    }
   ],
   "source": [
    "x = np.reshape(x, (x.shape[0], x.shape[1], 1))\n",
    "x.shape, y.shape"
   ]
  },
  {
   "cell_type": "code",
   "execution_count": 13,
   "metadata": {},
   "outputs": [],
   "source": [
    "from sklearn.model_selection import train_test_split"
   ]
  },
  {
   "cell_type": "code",
   "execution_count": 14,
   "metadata": {},
   "outputs": [
    {
     "data": {
      "text/plain": [
       "'(864, 90, 1), (864,), (288, 90, 1), (288,)'"
      ]
     },
     "execution_count": 14,
     "metadata": {},
     "output_type": "execute_result"
    }
   ],
   "source": [
    "xtrain, xtest, ytrain, ytest = train_test_split(x, y, test_size=0.25, random_state=42)\n",
    "\n",
    "f'{xtrain.shape}, {ytrain.shape}, {xtest.shape}, {ytest.shape}'"
   ]
  },
  {
   "cell_type": "markdown",
   "metadata": {},
   "source": [
    "## # Model"
   ]
  },
  {
   "cell_type": "code",
   "execution_count": 15,
   "metadata": {},
   "outputs": [],
   "source": [
    "from keras.models import Sequential\n",
    "from keras.backend import clear_session\n",
    "from keras.layers import Dropout, Dense, LSTM, RNN"
   ]
  },
  {
   "cell_type": "code",
   "execution_count": 16,
   "metadata": {},
   "outputs": [],
   "source": [
    "def model():\n",
    "    clear_session()\n",
    "    model = Sequential()\n",
    "    model.add(LSTM(units=100, return_sequences=True,\n",
    "                   input_shape=(xtrain.shape[1], xtrain.shape[2])))\n",
    "    model.add(Dropout(rate=0.5))\n",
    "    model.add(LSTM(units=50, return_sequences=True))\n",
    "    model.add(Dropout(rate=0.5))\n",
    "    model.add(LSTM(units=50, return_sequences=True))\n",
    "    model.add(Dropout(rate=0.5))\n",
    "    model.add(LSTM(units=50))\n",
    "    model.add(Dropout(rate=0.5))\n",
    "    model.add(Dense(units=1, activation='linear'))\n",
    "    model.compile(optimizer='rmsprop', loss='mse', metrics='mae')\n",
    "    print(model.summary())\n",
    "    return model"
   ]
  },
  {
   "cell_type": "code",
   "execution_count": 17,
   "metadata": {},
   "outputs": [
    {
     "name": "stdout",
     "output_type": "stream",
     "text": [
      "Model: \"sequential\"\n",
      "_________________________________________________________________\n",
      "Layer (type)                 Output Shape              Param #   \n",
      "=================================================================\n",
      "lstm (LSTM)                  (None, 90, 100)           40800     \n",
      "_________________________________________________________________\n",
      "dropout (Dropout)            (None, 90, 100)           0         \n",
      "_________________________________________________________________\n",
      "lstm_1 (LSTM)                (None, 90, 50)            30200     \n",
      "_________________________________________________________________\n",
      "dropout_1 (Dropout)          (None, 90, 50)            0         \n",
      "_________________________________________________________________\n",
      "lstm_2 (LSTM)                (None, 90, 50)            20200     \n",
      "_________________________________________________________________\n",
      "dropout_2 (Dropout)          (None, 90, 50)            0         \n",
      "_________________________________________________________________\n",
      "lstm_3 (LSTM)                (None, 50)                20200     \n",
      "_________________________________________________________________\n",
      "dropout_3 (Dropout)          (None, 50)                0         \n",
      "_________________________________________________________________\n",
      "dense (Dense)                (None, 1)                 51        \n",
      "=================================================================\n",
      "Total params: 111,451\n",
      "Trainable params: 111,451\n",
      "Non-trainable params: 0\n",
      "_________________________________________________________________\n",
      "None\n"
     ]
    }
   ],
   "source": [
    "clf = model()"
   ]
  },
  {
   "cell_type": "code",
   "execution_count": 18,
   "metadata": {
    "scrolled": true
   },
   "outputs": [
    {
     "name": "stdout",
     "output_type": "stream",
     "text": [
      "Epoch 1/200\n",
      "27/27 [==============================] - 3s 115ms/step - loss: 86.9676 - mae: 8.1310 - val_loss: 45.1387 - val_mae: 5.5962\n",
      "Epoch 2/200\n",
      "27/27 [==============================] - 2s 62ms/step - loss: 36.7297 - mae: 5.1121 - val_loss: 29.2168 - val_mae: 4.4439\n",
      "Epoch 3/200\n",
      "27/27 [==============================] - 2s 65ms/step - loss: 25.2547 - mae: 4.0573 - val_loss: 19.8961 - val_mae: 3.5661\n",
      "Epoch 4/200\n",
      "27/27 [==============================] - 2s 62ms/step - loss: 17.6218 - mae: 3.2879 - val_loss: 13.2295 - val_mae: 2.7902\n",
      "Epoch 5/200\n",
      "27/27 [==============================] - 2s 61ms/step - loss: 12.4558 - mae: 2.7764 - val_loss: 9.2370 - val_mae: 2.2387\n",
      "Epoch 6/200\n",
      "27/27 [==============================] - 2s 63ms/step - loss: 9.7743 - mae: 2.3809 - val_loss: 6.4093 - val_mae: 1.8267\n",
      "Epoch 7/200\n",
      "27/27 [==============================] - 2s 62ms/step - loss: 9.8208 - mae: 2.4329 - val_loss: 5.3737 - val_mae: 1.7237\n",
      "Epoch 8/200\n",
      "27/27 [==============================] - 2s 62ms/step - loss: 7.8299 - mae: 2.1743 - val_loss: 4.0596 - val_mae: 1.4835\n",
      "Epoch 9/200\n",
      "27/27 [==============================] - 2s 66ms/step - loss: 7.2221 - mae: 2.0833 - val_loss: 3.6781 - val_mae: 1.4962\n",
      "Epoch 10/200\n",
      "27/27 [==============================] - 2s 62ms/step - loss: 7.1453 - mae: 2.1259 - val_loss: 2.5877 - val_mae: 1.1158\n",
      "Epoch 11/200\n",
      "27/27 [==============================] - 2s 61ms/step - loss: 7.1233 - mae: 2.0808 - val_loss: 2.4080 - val_mae: 1.1262\n",
      "Epoch 12/200\n",
      "27/27 [==============================] - 2s 63ms/step - loss: 6.2202 - mae: 1.9294 - val_loss: 2.7929 - val_mae: 1.2966\n",
      "Epoch 13/200\n",
      "27/27 [==============================] - 2s 64ms/step - loss: 6.1855 - mae: 1.9643 - val_loss: 2.1842 - val_mae: 1.0724\n",
      "Epoch 14/200\n",
      "27/27 [==============================] - 2s 63ms/step - loss: 5.6703 - mae: 1.8723 - val_loss: 2.4147 - val_mae: 1.1863\n",
      "Epoch 15/200\n",
      "27/27 [==============================] - 2s 64ms/step - loss: 6.0836 - mae: 1.9306 - val_loss: 1.8629 - val_mae: 0.9976\n",
      "Epoch 16/200\n",
      "27/27 [==============================] - 2s 62ms/step - loss: 5.4786 - mae: 1.8588 - val_loss: 3.2122 - val_mae: 1.5528\n",
      "Epoch 17/200\n",
      "27/27 [==============================] - 2s 64ms/step - loss: 6.0890 - mae: 1.9199 - val_loss: 2.4885 - val_mae: 1.2699\n",
      "Epoch 18/200\n",
      "27/27 [==============================] - 2s 64ms/step - loss: 6.2641 - mae: 1.9104 - val_loss: 1.6522 - val_mae: 0.9579\n",
      "Epoch 19/200\n",
      "27/27 [==============================] - 2s 63ms/step - loss: 5.7156 - mae: 1.8505 - val_loss: 1.3709 - val_mae: 0.8303\n",
      "Epoch 20/200\n",
      "27/27 [==============================] - 2s 65ms/step - loss: 5.8848 - mae: 1.8589 - val_loss: 1.2361 - val_mae: 0.7719\n",
      "Epoch 21/200\n",
      "27/27 [==============================] - 2s 62ms/step - loss: 5.2778 - mae: 1.7956 - val_loss: 1.2177 - val_mae: 0.7756\n",
      "Epoch 22/200\n",
      "27/27 [==============================] - 2s 65ms/step - loss: 5.5681 - mae: 1.8560 - val_loss: 1.3131 - val_mae: 0.8498\n",
      "Epoch 23/200\n",
      "27/27 [==============================] - 2s 63ms/step - loss: 5.5664 - mae: 1.8221 - val_loss: 1.1667 - val_mae: 0.7531\n",
      "Epoch 24/200\n",
      "27/27 [==============================] - 2s 65ms/step - loss: 5.2643 - mae: 1.7864 - val_loss: 1.0731 - val_mae: 0.7321\n",
      "Epoch 25/200\n",
      "27/27 [==============================] - 2s 64ms/step - loss: 5.1026 - mae: 1.7673 - val_loss: 1.8440 - val_mae: 1.0819\n",
      "Epoch 26/200\n",
      "27/27 [==============================] - 2s 64ms/step - loss: 5.0772 - mae: 1.7562 - val_loss: 1.6452 - val_mae: 0.9487\n",
      "Epoch 27/200\n",
      "27/27 [==============================] - 2s 65ms/step - loss: 5.7470 - mae: 1.8450 - val_loss: 1.0443 - val_mae: 0.7335\n",
      "Epoch 28/200\n",
      "27/27 [==============================] - 2s 63ms/step - loss: 5.0980 - mae: 1.7526 - val_loss: 1.4214 - val_mae: 0.9041\n",
      "Epoch 29/200\n",
      "27/27 [==============================] - 2s 64ms/step - loss: 5.3041 - mae: 1.7638 - val_loss: 1.3648 - val_mae: 0.9138\n",
      "Epoch 30/200\n",
      "27/27 [==============================] - 2s 63ms/step - loss: 5.3605 - mae: 1.7574 - val_loss: 0.9051 - val_mae: 0.6626\n",
      "Epoch 31/200\n",
      "27/27 [==============================] - 2s 64ms/step - loss: 5.1365 - mae: 1.7657 - val_loss: 0.9504 - val_mae: 0.7114\n",
      "Epoch 32/200\n",
      "27/27 [==============================] - 2s 64ms/step - loss: 4.6882 - mae: 1.7181 - val_loss: 2.9251 - val_mae: 1.5532\n",
      "Epoch 33/200\n",
      "27/27 [==============================] - 2s 63ms/step - loss: 5.2526 - mae: 1.7208 - val_loss: 1.4950 - val_mae: 1.0350\n",
      "Epoch 34/200\n",
      "27/27 [==============================] - 2s 65ms/step - loss: 4.6393 - mae: 1.6829 - val_loss: 0.9077 - val_mae: 0.6950\n",
      "Epoch 35/200\n",
      "27/27 [==============================] - 2s 65ms/step - loss: 5.0830 - mae: 1.7407 - val_loss: 1.0750 - val_mae: 0.7898\n",
      "Epoch 36/200\n",
      "27/27 [==============================] - 2s 62ms/step - loss: 4.7998 - mae: 1.7181 - val_loss: 1.4026 - val_mae: 0.8349\n",
      "Epoch 37/200\n",
      "27/27 [==============================] - 2s 64ms/step - loss: 4.9284 - mae: 1.7269 - val_loss: 0.8642 - val_mae: 0.6770\n",
      "Epoch 38/200\n",
      "27/27 [==============================] - 2s 62ms/step - loss: 4.8175 - mae: 1.7154 - val_loss: 0.7147 - val_mae: 0.5858\n",
      "Epoch 39/200\n",
      "27/27 [==============================] - 2s 65ms/step - loss: 4.2974 - mae: 1.6341 - val_loss: 0.7943 - val_mae: 0.6486\n",
      "Epoch 40/200\n",
      "27/27 [==============================] - 2s 61ms/step - loss: 4.8903 - mae: 1.7416 - val_loss: 12.5261 - val_mae: 1.5791\n",
      "Epoch 41/200\n",
      "27/27 [==============================] - 2s 62ms/step - loss: 4.7985 - mae: 1.7197 - val_loss: 1.0856 - val_mae: 0.8068\n",
      "Epoch 42/200\n",
      "27/27 [==============================] - 2s 63ms/step - loss: 4.5276 - mae: 1.6482 - val_loss: 0.6937 - val_mae: 0.5938\n",
      "Epoch 43/200\n",
      "27/27 [==============================] - 2s 61ms/step - loss: 5.1627 - mae: 1.7563 - val_loss: 0.8682 - val_mae: 0.7068\n",
      "Epoch 44/200\n",
      "27/27 [==============================] - 2s 62ms/step - loss: 4.5959 - mae: 1.6593 - val_loss: 0.8307 - val_mae: 0.6594\n",
      "Epoch 45/200\n",
      "27/27 [==============================] - 2s 64ms/step - loss: 4.7003 - mae: 1.7020 - val_loss: 0.9576 - val_mae: 0.7421\n",
      "Epoch 46/200\n",
      "27/27 [==============================] - 2s 63ms/step - loss: 4.7412 - mae: 1.6647 - val_loss: 1.3701 - val_mae: 0.9490\n",
      "Epoch 47/200\n",
      "27/27 [==============================] - 2s 63ms/step - loss: 5.0451 - mae: 1.7485 - val_loss: 0.6934 - val_mae: 0.6158\n",
      "Epoch 48/200\n",
      "27/27 [==============================] - 2s 62ms/step - loss: 4.5601 - mae: 1.6608 - val_loss: 0.5770 - val_mae: 0.5240\n",
      "Epoch 49/200\n",
      "27/27 [==============================] - 2s 64ms/step - loss: 4.6609 - mae: 1.6768 - val_loss: 0.8658 - val_mae: 0.6817\n",
      "Epoch 50/200\n",
      "27/27 [==============================] - 2s 62ms/step - loss: 4.8498 - mae: 1.6993 - val_loss: 0.8000 - val_mae: 0.6319\n",
      "Epoch 51/200\n",
      "27/27 [==============================] - 2s 62ms/step - loss: 4.6083 - mae: 1.7007 - val_loss: 0.8406 - val_mae: 0.7060\n",
      "Epoch 52/200\n",
      "27/27 [==============================] - 2s 63ms/step - loss: 4.7414 - mae: 1.6809 - val_loss: 0.8627 - val_mae: 0.6803\n",
      "Epoch 53/200\n",
      "27/27 [==============================] - 2s 65ms/step - loss: 4.5140 - mae: 1.6767 - val_loss: 0.5836 - val_mae: 0.5406\n",
      "Epoch 54/200\n",
      "27/27 [==============================] - 2s 69ms/step - loss: 4.7090 - mae: 1.6991 - val_loss: 0.5696 - val_mae: 0.5283\n",
      "Epoch 55/200\n",
      "27/27 [==============================] - 2s 65ms/step - loss: 4.3774 - mae: 1.6417 - val_loss: 0.6704 - val_mae: 0.6125\n",
      "Epoch 56/200\n",
      "27/27 [==============================] - 2s 63ms/step - loss: 4.4859 - mae: 1.6363 - val_loss: 1.0774 - val_mae: 0.7924\n",
      "Epoch 57/200\n",
      "27/27 [==============================] - 2s 68ms/step - loss: 4.7139 - mae: 1.6827 - val_loss: 1.1066 - val_mae: 0.8677\n",
      "Epoch 58/200\n",
      "27/27 [==============================] - 2s 69ms/step - loss: 4.2680 - mae: 1.6097 - val_loss: 1.0316 - val_mae: 0.8084\n",
      "Epoch 59/200\n",
      "27/27 [==============================] - 2s 68ms/step - loss: 4.5961 - mae: 1.6963 - val_loss: 0.5514 - val_mae: 0.5311\n",
      "Epoch 60/200\n",
      "27/27 [==============================] - 2s 72ms/step - loss: 4.9841 - mae: 1.7169 - val_loss: 0.5000 - val_mae: 0.4867\n",
      "Epoch 61/200\n",
      "27/27 [==============================] - 2s 75ms/step - loss: 4.9615 - mae: 1.6926 - val_loss: 0.9513 - val_mae: 0.7181\n",
      "Epoch 62/200\n",
      "27/27 [==============================] - 2s 65ms/step - loss: 4.4552 - mae: 1.6231 - val_loss: 1.7299 - val_mae: 1.1824\n",
      "Epoch 63/200\n",
      "27/27 [==============================] - 2s 63ms/step - loss: 5.1609 - mae: 1.7169 - val_loss: 0.5606 - val_mae: 0.5101\n",
      "Epoch 64/200\n",
      "27/27 [==============================] - 2s 62ms/step - loss: 4.2883 - mae: 1.5809 - val_loss: 1.1654 - val_mae: 0.8949\n",
      "Epoch 65/200\n",
      "27/27 [==============================] - 2s 66ms/step - loss: 4.6444 - mae: 1.6806 - val_loss: 0.6045 - val_mae: 0.5623\n",
      "Epoch 66/200\n",
      "27/27 [==============================] - 2s 64ms/step - loss: 4.4027 - mae: 1.6527 - val_loss: 2.0513 - val_mae: 1.2998\n",
      "Epoch 67/200\n",
      "27/27 [==============================] - 2s 64ms/step - loss: 3.9843 - mae: 1.5491 - val_loss: 0.7190 - val_mae: 0.6428\n",
      "Epoch 68/200\n",
      "27/27 [==============================] - 2s 61ms/step - loss: 4.7360 - mae: 1.6710 - val_loss: 0.6168 - val_mae: 0.5686\n",
      "Epoch 69/200\n",
      "27/27 [==============================] - 2s 61ms/step - loss: 3.8381 - mae: 1.5093 - val_loss: 0.4511 - val_mae: 0.4507\n",
      "Epoch 70/200\n",
      "27/27 [==============================] - 2s 62ms/step - loss: 4.2938 - mae: 1.6306 - val_loss: 0.5366 - val_mae: 0.5174\n",
      "Epoch 71/200\n",
      "27/27 [==============================] - 2s 61ms/step - loss: 4.7144 - mae: 1.6930 - val_loss: 0.6354 - val_mae: 0.5952\n",
      "Epoch 72/200\n",
      "27/27 [==============================] - 2s 63ms/step - loss: 4.5014 - mae: 1.6317 - val_loss: 0.5539 - val_mae: 0.5730\n",
      "Epoch 73/200\n",
      "27/27 [==============================] - 2s 61ms/step - loss: 4.6707 - mae: 1.6952 - val_loss: 0.6626 - val_mae: 0.5999\n",
      "Epoch 74/200\n",
      "27/27 [==============================] - 2s 64ms/step - loss: 4.6336 - mae: 1.6595 - val_loss: 0.7151 - val_mae: 0.6590\n",
      "Epoch 75/200\n",
      "27/27 [==============================] - 2s 67ms/step - loss: 4.5266 - mae: 1.6572 - val_loss: 0.7031 - val_mae: 0.6584\n",
      "Epoch 76/200\n",
      "27/27 [==============================] - 2s 63ms/step - loss: 4.4110 - mae: 1.6379 - val_loss: 0.4426 - val_mae: 0.4781\n",
      "Epoch 77/200\n",
      "27/27 [==============================] - 2s 63ms/step - loss: 4.3109 - mae: 1.6089 - val_loss: 1.3668 - val_mae: 1.0371\n",
      "Epoch 78/200\n",
      "27/27 [==============================] - 2s 62ms/step - loss: 4.2236 - mae: 1.6298 - val_loss: 0.4961 - val_mae: 0.5425\n",
      "Epoch 79/200\n",
      "27/27 [==============================] - 2s 62ms/step - loss: 3.9411 - mae: 1.5347 - val_loss: 0.4424 - val_mae: 0.4656\n",
      "Epoch 80/200\n",
      "27/27 [==============================] - 2s 62ms/step - loss: 4.5539 - mae: 1.6347 - val_loss: 1.1275 - val_mae: 0.8724\n",
      "Epoch 81/200\n",
      "27/27 [==============================] - 2s 60ms/step - loss: 3.6682 - mae: 1.4784 - val_loss: 0.7065 - val_mae: 0.6662\n",
      "Epoch 82/200\n",
      "27/27 [==============================] - 2s 60ms/step - loss: 4.5435 - mae: 1.6215 - val_loss: 0.4823 - val_mae: 0.4879\n",
      "Epoch 83/200\n",
      "27/27 [==============================] - 2s 62ms/step - loss: 4.3885 - mae: 1.6103 - val_loss: 0.4759 - val_mae: 0.4936\n",
      "Epoch 84/200\n",
      "27/27 [==============================] - 2s 63ms/step - loss: 4.4112 - mae: 1.6155 - val_loss: 0.5019 - val_mae: 0.5297\n",
      "Epoch 85/200\n",
      "27/27 [==============================] - 2s 64ms/step - loss: 4.0458 - mae: 1.5694 - val_loss: 0.4907 - val_mae: 0.4934\n",
      "Epoch 86/200\n",
      "27/27 [==============================] - 2s 60ms/step - loss: 4.0699 - mae: 1.5642 - val_loss: 0.5567 - val_mae: 0.5599\n",
      "Epoch 87/200\n",
      "27/27 [==============================] - 2s 61ms/step - loss: 4.2120 - mae: 1.6128 - val_loss: 0.5927 - val_mae: 0.6134\n",
      "Epoch 88/200\n",
      "27/27 [==============================] - 2s 64ms/step - loss: 4.3024 - mae: 1.5515 - val_loss: 0.9696 - val_mae: 0.8550\n",
      "Epoch 89/200\n",
      "27/27 [==============================] - 2s 63ms/step - loss: 4.1695 - mae: 1.5958 - val_loss: 1.1120 - val_mae: 0.9169\n",
      "Epoch 90/200\n",
      "27/27 [==============================] - 2s 61ms/step - loss: 3.8975 - mae: 1.5263 - val_loss: 1.1246 - val_mae: 0.9118\n",
      "Epoch 91/200\n",
      "27/27 [==============================] - 2s 64ms/step - loss: 4.3699 - mae: 1.5893 - val_loss: 0.4455 - val_mae: 0.4600\n",
      "Epoch 92/200\n",
      "27/27 [==============================] - 2s 63ms/step - loss: 4.0414 - mae: 1.5663 - val_loss: 0.5897 - val_mae: 0.5606\n",
      "Epoch 93/200\n",
      "27/27 [==============================] - 2s 63ms/step - loss: 4.4754 - mae: 1.6235 - val_loss: 0.5264 - val_mae: 0.5328\n",
      "Epoch 94/200\n",
      "27/27 [==============================] - 2s 60ms/step - loss: 4.1579 - mae: 1.5895 - val_loss: 0.7504 - val_mae: 0.6804\n",
      "Epoch 95/200\n",
      "27/27 [==============================] - 2s 65ms/step - loss: 4.4343 - mae: 1.6265 - val_loss: 0.5889 - val_mae: 0.5655\n",
      "Epoch 96/200\n",
      "27/27 [==============================] - 2s 61ms/step - loss: 4.0284 - mae: 1.5501 - val_loss: 0.5231 - val_mae: 0.5255\n",
      "Epoch 97/200\n",
      "27/27 [==============================] - 2s 61ms/step - loss: 4.0284 - mae: 1.5400 - val_loss: 0.5969 - val_mae: 0.5634\n",
      "Epoch 98/200\n",
      "27/27 [==============================] - 2s 61ms/step - loss: 4.1753 - mae: 1.5749 - val_loss: 0.6920 - val_mae: 0.6438\n",
      "Epoch 99/200\n",
      "27/27 [==============================] - 2s 62ms/step - loss: 4.1634 - mae: 1.5815 - val_loss: 0.5006 - val_mae: 0.5122\n",
      "Epoch 100/200\n",
      "27/27 [==============================] - 2s 61ms/step - loss: 4.2945 - mae: 1.6020 - val_loss: 0.8401 - val_mae: 0.7090\n",
      "Epoch 101/200\n",
      "27/27 [==============================] - 2s 63ms/step - loss: 4.1429 - mae: 1.5709 - val_loss: 0.8072 - val_mae: 0.6902\n",
      "Epoch 102/200\n",
      "27/27 [==============================] - 2s 62ms/step - loss: 4.5666 - mae: 1.6437 - val_loss: 0.4276 - val_mae: 0.4438\n",
      "Epoch 103/200\n",
      "27/27 [==============================] - 2s 62ms/step - loss: 4.2450 - mae: 1.5767 - val_loss: 1.2770 - val_mae: 0.9765\n",
      "Epoch 104/200\n",
      "27/27 [==============================] - 2s 61ms/step - loss: 4.4068 - mae: 1.6205 - val_loss: 0.8731 - val_mae: 0.7770\n",
      "Epoch 105/200\n",
      "27/27 [==============================] - 2s 61ms/step - loss: 4.1594 - mae: 1.5642 - val_loss: 0.4414 - val_mae: 0.4561\n",
      "Epoch 106/200\n",
      "27/27 [==============================] - 2s 61ms/step - loss: 4.0459 - mae: 1.5337 - val_loss: 0.4905 - val_mae: 0.5100\n",
      "Epoch 107/200\n",
      "27/27 [==============================] - 2s 61ms/step - loss: 3.8943 - mae: 1.5492 - val_loss: 1.3229 - val_mae: 1.0201\n",
      "Epoch 108/200\n",
      "27/27 [==============================] - 2s 61ms/step - loss: 4.2878 - mae: 1.6005 - val_loss: 0.5292 - val_mae: 0.5431\n",
      "Epoch 109/200\n",
      "27/27 [==============================] - 2s 61ms/step - loss: 4.0644 - mae: 1.5328 - val_loss: 0.7045 - val_mae: 0.6847\n",
      "Epoch 110/200\n",
      "27/27 [==============================] - 2s 61ms/step - loss: 4.8302 - mae: 1.6900 - val_loss: 0.4007 - val_mae: 0.4550\n",
      "Epoch 111/200\n",
      "27/27 [==============================] - 2s 61ms/step - loss: 4.5340 - mae: 1.6233 - val_loss: 0.7951 - val_mae: 0.6922\n",
      "Epoch 112/200\n",
      "27/27 [==============================] - 2s 65ms/step - loss: 3.8893 - mae: 1.5287 - val_loss: 0.6856 - val_mae: 0.6334\n",
      "Epoch 113/200\n",
      "27/27 [==============================] - 2s 61ms/step - loss: 3.9203 - mae: 1.5374 - val_loss: 0.8412 - val_mae: 0.7515\n",
      "Epoch 114/200\n",
      "27/27 [==============================] - 2s 60ms/step - loss: 4.2289 - mae: 1.5954 - val_loss: 0.5009 - val_mae: 0.5260\n",
      "Epoch 115/200\n",
      "27/27 [==============================] - 2s 61ms/step - loss: 4.2910 - mae: 1.5859 - val_loss: 0.4466 - val_mae: 0.4778\n",
      "Epoch 116/200\n",
      "27/27 [==============================] - 2s 60ms/step - loss: 4.3437 - mae: 1.6252 - val_loss: 0.8122 - val_mae: 0.7220\n",
      "Epoch 117/200\n",
      "27/27 [==============================] - 2s 61ms/step - loss: 3.8626 - mae: 1.5289 - val_loss: 0.4184 - val_mae: 0.4511\n",
      "Epoch 118/200\n",
      "27/27 [==============================] - 2s 60ms/step - loss: 3.6484 - mae: 1.4771 - val_loss: 1.9583 - val_mae: 1.2829\n",
      "Epoch 119/200\n",
      "27/27 [==============================] - 2s 61ms/step - loss: 4.2536 - mae: 1.5966 - val_loss: 0.4107 - val_mae: 0.4372\n",
      "Epoch 120/200\n",
      "27/27 [==============================] - 2s 61ms/step - loss: 3.9462 - mae: 1.5024 - val_loss: 0.9855 - val_mae: 0.8529\n",
      "Epoch 121/200\n",
      "27/27 [==============================] - 2s 61ms/step - loss: 4.1630 - mae: 1.5978 - val_loss: 0.3886 - val_mae: 0.4384\n",
      "Epoch 122/200\n",
      "27/27 [==============================] - 2s 61ms/step - loss: 4.1333 - mae: 1.5794 - val_loss: 0.5060 - val_mae: 0.5083\n",
      "Epoch 123/200\n"
     ]
    },
    {
     "name": "stdout",
     "output_type": "stream",
     "text": [
      "27/27 [==============================] - 2s 64ms/step - loss: 4.3210 - mae: 1.5995 - val_loss: 0.4099 - val_mae: 0.4302\n",
      "Epoch 124/200\n",
      "27/27 [==============================] - 2s 61ms/step - loss: 4.0585 - mae: 1.5572 - val_loss: 0.5181 - val_mae: 0.5128\n",
      "Epoch 125/200\n",
      "27/27 [==============================] - 2s 63ms/step - loss: 4.0963 - mae: 1.5457 - val_loss: 0.6668 - val_mae: 0.6642\n",
      "Epoch 126/200\n",
      "27/27 [==============================] - 2s 65ms/step - loss: 4.0313 - mae: 1.5559 - val_loss: 0.4050 - val_mae: 0.4525\n",
      "Epoch 127/200\n",
      "27/27 [==============================] - 2s 63ms/step - loss: 3.8915 - mae: 1.5148 - val_loss: 0.6047 - val_mae: 0.5890\n",
      "Epoch 128/200\n",
      "27/27 [==============================] - 2s 63ms/step - loss: 4.0209 - mae: 1.5669 - val_loss: 0.9101 - val_mae: 0.7835\n",
      "Epoch 129/200\n",
      "27/27 [==============================] - 2s 61ms/step - loss: 3.6234 - mae: 1.4947 - val_loss: 0.4444 - val_mae: 0.4616\n",
      "Epoch 130/200\n",
      "27/27 [==============================] - 2s 67ms/step - loss: 3.9172 - mae: 1.5455 - val_loss: 0.4280 - val_mae: 0.4546\n",
      "Epoch 131/200\n",
      "27/27 [==============================] - 2s 61ms/step - loss: 3.9295 - mae: 1.5009 - val_loss: 0.5869 - val_mae: 0.5699\n",
      "Epoch 132/200\n",
      "27/27 [==============================] - 2s 63ms/step - loss: 3.9928 - mae: 1.5506 - val_loss: 0.8914 - val_mae: 0.7993\n",
      "Epoch 133/200\n",
      "27/27 [==============================] - 2s 63ms/step - loss: 4.1471 - mae: 1.5775 - val_loss: 0.5314 - val_mae: 0.5191\n",
      "Epoch 134/200\n",
      "27/27 [==============================] - 2s 61ms/step - loss: 4.2127 - mae: 1.5654 - val_loss: 0.7549 - val_mae: 0.6564\n",
      "Epoch 135/200\n",
      "27/27 [==============================] - 2s 61ms/step - loss: 3.7818 - mae: 1.4916 - val_loss: 0.4480 - val_mae: 0.4643\n",
      "Epoch 136/200\n",
      "27/27 [==============================] - 2s 62ms/step - loss: 3.4275 - mae: 1.4340 - val_loss: 0.7463 - val_mae: 0.6362\n",
      "Epoch 137/200\n",
      "27/27 [==============================] - 2s 61ms/step - loss: 3.7800 - mae: 1.5139 - val_loss: 0.4509 - val_mae: 0.4718\n",
      "Epoch 138/200\n",
      "27/27 [==============================] - 2s 62ms/step - loss: 3.6387 - mae: 1.4767 - val_loss: 0.6322 - val_mae: 0.6138\n",
      "Epoch 139/200\n",
      "27/27 [==============================] - 2s 61ms/step - loss: 3.9788 - mae: 1.5438 - val_loss: 0.8253 - val_mae: 0.7231\n",
      "Epoch 140/200\n",
      "27/27 [==============================] - 2s 61ms/step - loss: 3.4478 - mae: 1.4307 - val_loss: 0.9314 - val_mae: 0.8087\n",
      "Epoch 141/200\n",
      "27/27 [==============================] - 2s 60ms/step - loss: 3.8578 - mae: 1.4592 - val_loss: 0.4671 - val_mae: 0.4727\n",
      "Epoch 142/200\n",
      "27/27 [==============================] - 2s 61ms/step - loss: 4.2982 - mae: 1.5950 - val_loss: 1.5420 - val_mae: 1.1131\n",
      "Epoch 143/200\n",
      "27/27 [==============================] - 2s 61ms/step - loss: 3.4779 - mae: 1.4321 - val_loss: 0.4175 - val_mae: 0.4674\n",
      "Epoch 144/200\n",
      "27/27 [==============================] - 2s 61ms/step - loss: 3.7346 - mae: 1.4826 - val_loss: 0.4373 - val_mae: 0.4750\n",
      "Epoch 145/200\n",
      "27/27 [==============================] - 2s 61ms/step - loss: 3.5439 - mae: 1.4643 - val_loss: 0.6603 - val_mae: 0.6588\n",
      "Epoch 146/200\n",
      "27/27 [==============================] - 2s 61ms/step - loss: 3.8806 - mae: 1.5241 - val_loss: 0.3852 - val_mae: 0.4253\n",
      "Epoch 147/200\n",
      "27/27 [==============================] - 2s 62ms/step - loss: 3.7297 - mae: 1.4851 - val_loss: 0.8446 - val_mae: 0.7545\n",
      "Epoch 148/200\n",
      "27/27 [==============================] - 2s 64ms/step - loss: 3.6092 - mae: 1.4779 - val_loss: 0.4683 - val_mae: 0.4919\n",
      "Epoch 149/200\n",
      "27/27 [==============================] - 2s 61ms/step - loss: 3.8559 - mae: 1.4966 - val_loss: 0.4891 - val_mae: 0.4982\n",
      "Epoch 150/200\n",
      "27/27 [==============================] - 2s 61ms/step - loss: 3.7866 - mae: 1.4943 - val_loss: 0.4022 - val_mae: 0.4326\n",
      "Epoch 151/200\n",
      "27/27 [==============================] - 2s 60ms/step - loss: 3.7957 - mae: 1.5145 - val_loss: 0.3778 - val_mae: 0.4107\n",
      "Epoch 152/200\n",
      "27/27 [==============================] - 2s 62ms/step - loss: 3.6621 - mae: 1.4677 - val_loss: 0.4313 - val_mae: 0.4669\n",
      "Epoch 153/200\n",
      "27/27 [==============================] - 2s 61ms/step - loss: 4.1422 - mae: 1.5306 - val_loss: 0.4595 - val_mae: 0.4862\n",
      "Epoch 154/200\n",
      "27/27 [==============================] - 2s 60ms/step - loss: 3.7653 - mae: 1.4948 - val_loss: 0.9900 - val_mae: 0.8409\n",
      "Epoch 155/200\n",
      "27/27 [==============================] - 2s 61ms/step - loss: 3.6954 - mae: 1.4770 - val_loss: 0.5475 - val_mae: 0.5601\n",
      "Epoch 156/200\n",
      "27/27 [==============================] - 2s 60ms/step - loss: 3.6428 - mae: 1.4574 - val_loss: 0.3772 - val_mae: 0.4296\n",
      "Epoch 157/200\n",
      "27/27 [==============================] - 2s 61ms/step - loss: 3.8538 - mae: 1.4960 - val_loss: 0.3773 - val_mae: 0.4300\n",
      "Epoch 158/200\n",
      "27/27 [==============================] - 2s 61ms/step - loss: 3.9278 - mae: 1.5118 - val_loss: 0.8380 - val_mae: 0.6926\n",
      "Epoch 159/200\n",
      "27/27 [==============================] - 2s 62ms/step - loss: 3.7540 - mae: 1.4845 - val_loss: 0.4018 - val_mae: 0.4530\n",
      "Epoch 160/200\n",
      "27/27 [==============================] - 2s 65ms/step - loss: 3.6693 - mae: 1.4720 - val_loss: 0.4275 - val_mae: 0.4709\n",
      "Epoch 161/200\n",
      "27/27 [==============================] - 2s 63ms/step - loss: 3.7066 - mae: 1.4822 - val_loss: 0.3917 - val_mae: 0.4440\n",
      "Epoch 162/200\n",
      "27/27 [==============================] - 2s 61ms/step - loss: 3.6989 - mae: 1.4741 - val_loss: 0.5119 - val_mae: 0.5111\n",
      "Epoch 163/200\n",
      "27/27 [==============================] - 2s 69ms/step - loss: 3.4629 - mae: 1.4563 - val_loss: 0.5915 - val_mae: 0.5572\n",
      "Epoch 164/200\n",
      "27/27 [==============================] - 2s 65ms/step - loss: 3.5364 - mae: 1.4784 - val_loss: 0.4895 - val_mae: 0.4940\n",
      "Epoch 165/200\n",
      "27/27 [==============================] - 2s 65ms/step - loss: 3.5326 - mae: 1.4467 - val_loss: 0.7075 - val_mae: 0.6783\n",
      "Epoch 166/200\n",
      "27/27 [==============================] - 2s 63ms/step - loss: 3.5317 - mae: 1.4542 - val_loss: 1.0574 - val_mae: 0.8535\n",
      "Epoch 167/200\n",
      "27/27 [==============================] - 2s 70ms/step - loss: 3.4072 - mae: 1.4110 - val_loss: 0.7523 - val_mae: 0.7168\n",
      "Epoch 168/200\n",
      "27/27 [==============================] - 2s 65ms/step - loss: 4.0287 - mae: 1.5101 - val_loss: 0.6297 - val_mae: 0.6314\n",
      "Epoch 169/200\n",
      "27/27 [==============================] - 2s 67ms/step - loss: 3.8002 - mae: 1.4897 - val_loss: 1.1654 - val_mae: 0.9444\n",
      "Epoch 170/200\n",
      "27/27 [==============================] - 2s 65ms/step - loss: 4.0575 - mae: 1.4914 - val_loss: 0.3327 - val_mae: 0.3906\n",
      "Epoch 171/200\n",
      "27/27 [==============================] - 2s 65ms/step - loss: 3.6616 - mae: 1.4738 - val_loss: 0.6891 - val_mae: 0.6809\n",
      "Epoch 172/200\n",
      "27/27 [==============================] - 2s 64ms/step - loss: 3.3105 - mae: 1.4112 - val_loss: 1.2914 - val_mae: 1.0003\n",
      "Epoch 173/200\n",
      "27/27 [==============================] - 2s 63ms/step - loss: 3.6309 - mae: 1.4242 - val_loss: 0.6174 - val_mae: 0.5937\n",
      "Epoch 174/200\n",
      "27/27 [==============================] - 2s 61ms/step - loss: 3.1916 - mae: 1.3737 - val_loss: 0.3706 - val_mae: 0.4166\n",
      "Epoch 175/200\n",
      "27/27 [==============================] - 2s 61ms/step - loss: 3.3470 - mae: 1.4056 - val_loss: 0.7202 - val_mae: 0.6623\n",
      "Epoch 176/200\n",
      "27/27 [==============================] - 2s 62ms/step - loss: 3.3559 - mae: 1.4046 - val_loss: 0.6686 - val_mae: 0.6340\n",
      "Epoch 177/200\n",
      "27/27 [==============================] - 2s 64ms/step - loss: 3.7029 - mae: 1.4615 - val_loss: 0.4733 - val_mae: 0.4783\n",
      "Epoch 178/200\n",
      "27/27 [==============================] - 2s 63ms/step - loss: 3.2678 - mae: 1.3988 - val_loss: 0.5407 - val_mae: 0.5539\n",
      "Epoch 179/200\n",
      "27/27 [==============================] - 2s 63ms/step - loss: 3.5973 - mae: 1.4572 - val_loss: 0.4508 - val_mae: 0.5020\n",
      "Epoch 180/200\n",
      "27/27 [==============================] - 2s 61ms/step - loss: 3.5460 - mae: 1.4461 - val_loss: 0.4442 - val_mae: 0.4818\n",
      "Epoch 181/200\n",
      "27/27 [==============================] - 2s 61ms/step - loss: 3.4907 - mae: 1.4594 - val_loss: 0.4251 - val_mae: 0.4569\n",
      "Epoch 182/200\n",
      "27/27 [==============================] - 2s 62ms/step - loss: 3.4516 - mae: 1.4328 - val_loss: 0.4167 - val_mae: 0.4503\n",
      "Epoch 183/200\n",
      "27/27 [==============================] - 2s 61ms/step - loss: 3.3000 - mae: 1.4017 - val_loss: 0.6073 - val_mae: 0.5414\n",
      "Epoch 184/200\n",
      "27/27 [==============================] - 2s 67ms/step - loss: 3.4818 - mae: 1.4390 - val_loss: 0.9777 - val_mae: 0.8253\n",
      "Epoch 185/200\n",
      "27/27 [==============================] - 2s 64ms/step - loss: 3.5174 - mae: 1.4294 - val_loss: 1.9196 - val_mae: 1.2764\n",
      "Epoch 186/200\n",
      "27/27 [==============================] - 2s 61ms/step - loss: 3.5072 - mae: 1.4578 - val_loss: 0.8875 - val_mae: 0.8035\n",
      "Epoch 187/200\n",
      "27/27 [==============================] - 2s 63ms/step - loss: 3.4459 - mae: 1.4243 - val_loss: 0.4137 - val_mae: 0.4719\n",
      "Epoch 188/200\n",
      "27/27 [==============================] - 2s 64ms/step - loss: 3.6024 - mae: 1.4570 - val_loss: 0.6385 - val_mae: 0.6260\n",
      "Epoch 189/200\n",
      "27/27 [==============================] - 2s 66ms/step - loss: 3.4677 - mae: 1.4405 - val_loss: 0.5303 - val_mae: 0.5389\n",
      "Epoch 190/200\n",
      "27/27 [==============================] - 2s 72ms/step - loss: 3.2121 - mae: 1.3618 - val_loss: 0.8141 - val_mae: 0.7689\n",
      "Epoch 191/200\n",
      "27/27 [==============================] - 2s 68ms/step - loss: 3.2969 - mae: 1.4206 - val_loss: 1.1119 - val_mae: 0.9242\n",
      "Epoch 192/200\n",
      "27/27 [==============================] - 2s 69ms/step - loss: 3.6616 - mae: 1.4589 - val_loss: 0.6223 - val_mae: 0.6471\n",
      "Epoch 193/200\n",
      "27/27 [==============================] - 2s 66ms/step - loss: 3.3327 - mae: 1.4199 - val_loss: 0.4291 - val_mae: 0.4992\n",
      "Epoch 194/200\n",
      "27/27 [==============================] - 2s 63ms/step - loss: 3.4319 - mae: 1.4182 - val_loss: 0.9146 - val_mae: 0.7813\n",
      "Epoch 195/200\n",
      "27/27 [==============================] - 2s 68ms/step - loss: 3.2523 - mae: 1.3955 - val_loss: 0.9308 - val_mae: 0.7657\n",
      "Epoch 196/200\n",
      "27/27 [==============================] - 2s 65ms/step - loss: 3.3322 - mae: 1.3856 - val_loss: 0.4791 - val_mae: 0.4999\n",
      "Epoch 197/200\n",
      "27/27 [==============================] - 2s 63ms/step - loss: 3.2237 - mae: 1.3612 - val_loss: 1.0647 - val_mae: 0.8473\n",
      "Epoch 198/200\n",
      "27/27 [==============================] - 2s 66ms/step - loss: 3.3917 - mae: 1.4259 - val_loss: 0.4291 - val_mae: 0.4466\n",
      "Epoch 199/200\n",
      "27/27 [==============================] - 2s 62ms/step - loss: 3.1606 - mae: 1.3950 - val_loss: 0.6904 - val_mae: 0.6589\n",
      "Epoch 200/200\n",
      "27/27 [==============================] - 2s 60ms/step - loss: 3.3418 - mae: 1.3977 - val_loss: 0.4025 - val_mae: 0.4409\n"
     ]
    },
    {
     "data": {
      "text/plain": [
       "<tensorflow.python.keras.callbacks.History at 0x7f02acecc280>"
      ]
     },
     "execution_count": 18,
     "metadata": {},
     "output_type": "execute_result"
    }
   ],
   "source": [
    "clf.fit(x=xtrain, y=ytrain, validation_data=(xtest, ytest), epochs=200)"
   ]
  },
  {
   "cell_type": "markdown",
   "metadata": {},
   "source": [
    "## # Evaluation"
   ]
  },
  {
   "cell_type": "code",
   "execution_count": 19,
   "metadata": {},
   "outputs": [],
   "source": [
    "pred = clf.predict(xtest)"
   ]
  },
  {
   "cell_type": "code",
   "execution_count": 20,
   "metadata": {},
   "outputs": [
    {
     "data": {
      "text/plain": [
       "((288,), (288, 1))"
      ]
     },
     "execution_count": 20,
     "metadata": {},
     "output_type": "execute_result"
    }
   ],
   "source": [
    "ytest.shape, pred.shape"
   ]
  },
  {
   "cell_type": "code",
   "execution_count": 21,
   "metadata": {},
   "outputs": [
    {
     "data": {
      "text/plain": [
       "-0.14881262655300453"
      ]
     },
     "execution_count": 21,
     "metadata": {},
     "output_type": "execute_result"
    }
   ],
   "source": [
    "ytest.mean() - pred.mean()"
   ]
  },
  {
   "cell_type": "code",
   "execution_count": 22,
   "metadata": {},
   "outputs": [
    {
     "data": {
      "text/plain": [
       "0.017990239404587882"
      ]
     },
     "execution_count": 22,
     "metadata": {},
     "output_type": "execute_result"
    }
   ],
   "source": [
    "ytest.std() - pred.std()"
   ]
  },
  {
   "cell_type": "markdown",
   "metadata": {},
   "source": [
    "### ## Test data"
   ]
  },
  {
   "cell_type": "code",
   "execution_count": 23,
   "metadata": {},
   "outputs": [
    {
     "data": {
      "text/plain": [
       "((22, 7),\n",
       " Index(['Date', 'Open', 'High', 'Low', 'Close', 'Adj Close', 'Volume'], dtype='object'))"
      ]
     },
     "execution_count": 23,
     "metadata": {},
     "output_type": "execute_result"
    }
   ],
   "source": [
    "df_test = pd.read_csv('../datasets/petr4_teste.csv')\n",
    "df_test.shape, df_test.columns"
   ]
  },
  {
   "cell_type": "code",
   "execution_count": 24,
   "metadata": {},
   "outputs": [
    {
     "data": {
      "text/html": [
       "<div>\n",
       "<style scoped>\n",
       "    .dataframe tbody tr th:only-of-type {\n",
       "        vertical-align: middle;\n",
       "    }\n",
       "\n",
       "    .dataframe tbody tr th {\n",
       "        vertical-align: top;\n",
       "    }\n",
       "\n",
       "    .dataframe thead th {\n",
       "        text-align: right;\n",
       "    }\n",
       "</style>\n",
       "<table border=\"1\" class=\"dataframe\">\n",
       "  <thead>\n",
       "    <tr style=\"text-align: right;\">\n",
       "      <th></th>\n",
       "      <th>Date</th>\n",
       "      <th>Open</th>\n",
       "      <th>High</th>\n",
       "      <th>Low</th>\n",
       "      <th>Close</th>\n",
       "      <th>Adj Close</th>\n",
       "      <th>Volume</th>\n",
       "    </tr>\n",
       "  </thead>\n",
       "  <tbody>\n",
       "    <tr>\n",
       "      <th>17</th>\n",
       "      <td>2018-01-25</td>\n",
       "      <td>19.340000</td>\n",
       "      <td>19.340000</td>\n",
       "      <td>19.340000</td>\n",
       "      <td>19.340000</td>\n",
       "      <td>19.301397</td>\n",
       "      <td>0</td>\n",
       "    </tr>\n",
       "    <tr>\n",
       "      <th>18</th>\n",
       "      <td>2018-01-26</td>\n",
       "      <td>19.620001</td>\n",
       "      <td>19.980000</td>\n",
       "      <td>19.100000</td>\n",
       "      <td>19.930000</td>\n",
       "      <td>19.890221</td>\n",
       "      <td>81989500</td>\n",
       "    </tr>\n",
       "    <tr>\n",
       "      <th>19</th>\n",
       "      <td>2018-01-29</td>\n",
       "      <td>19.670000</td>\n",
       "      <td>20.049999</td>\n",
       "      <td>19.570000</td>\n",
       "      <td>19.850000</td>\n",
       "      <td>19.810381</td>\n",
       "      <td>55726200</td>\n",
       "    </tr>\n",
       "    <tr>\n",
       "      <th>20</th>\n",
       "      <td>2018-01-30</td>\n",
       "      <td>19.770000</td>\n",
       "      <td>19.770000</td>\n",
       "      <td>19.360001</td>\n",
       "      <td>19.490000</td>\n",
       "      <td>19.451097</td>\n",
       "      <td>46203000</td>\n",
       "    </tr>\n",
       "    <tr>\n",
       "      <th>21</th>\n",
       "      <td>2018-01-31</td>\n",
       "      <td>19.740000</td>\n",
       "      <td>19.930000</td>\n",
       "      <td>19.680000</td>\n",
       "      <td>19.700001</td>\n",
       "      <td>19.660681</td>\n",
       "      <td>41576600</td>\n",
       "    </tr>\n",
       "  </tbody>\n",
       "</table>\n",
       "</div>"
      ],
      "text/plain": [
       "          Date       Open       High        Low      Close  Adj Close  \\\n",
       "17  2018-01-25  19.340000  19.340000  19.340000  19.340000  19.301397   \n",
       "18  2018-01-26  19.620001  19.980000  19.100000  19.930000  19.890221   \n",
       "19  2018-01-29  19.670000  20.049999  19.570000  19.850000  19.810381   \n",
       "20  2018-01-30  19.770000  19.770000  19.360001  19.490000  19.451097   \n",
       "21  2018-01-31  19.740000  19.930000  19.680000  19.700001  19.660681   \n",
       "\n",
       "      Volume  \n",
       "17         0  \n",
       "18  81989500  \n",
       "19  55726200  \n",
       "20  46203000  \n",
       "21  41576600  "
      ]
     },
     "execution_count": 24,
     "metadata": {},
     "output_type": "execute_result"
    }
   ],
   "source": [
    "df_test.tail()"
   ]
  },
  {
   "cell_type": "code",
   "execution_count": 25,
   "metadata": {},
   "outputs": [
    {
     "data": {
      "text/plain": [
       "(1264, 7)"
      ]
     },
     "execution_count": 25,
     "metadata": {},
     "output_type": "execute_result"
    }
   ],
   "source": [
    "df_complete = pd.concat(objs=[df_train, df_test], axis=0)\n",
    "df_complete.reset_index(inplace=True, drop=True)\n",
    "df_complete.shape"
   ]
  },
  {
   "cell_type": "code",
   "execution_count": 26,
   "metadata": {},
   "outputs": [
    {
     "data": {
      "text/html": [
       "<div>\n",
       "<style scoped>\n",
       "    .dataframe tbody tr th:only-of-type {\n",
       "        vertical-align: middle;\n",
       "    }\n",
       "\n",
       "    .dataframe tbody tr th {\n",
       "        vertical-align: top;\n",
       "    }\n",
       "\n",
       "    .dataframe thead th {\n",
       "        text-align: right;\n",
       "    }\n",
       "</style>\n",
       "<table border=\"1\" class=\"dataframe\">\n",
       "  <thead>\n",
       "    <tr style=\"text-align: right;\">\n",
       "      <th></th>\n",
       "      <th>Date</th>\n",
       "      <th>Open</th>\n",
       "      <th>High</th>\n",
       "      <th>Low</th>\n",
       "      <th>Close</th>\n",
       "      <th>Adj Close</th>\n",
       "      <th>Volume</th>\n",
       "    </tr>\n",
       "  </thead>\n",
       "  <tbody>\n",
       "    <tr>\n",
       "      <th>1259</th>\n",
       "      <td>2018-01-25</td>\n",
       "      <td>19.340000</td>\n",
       "      <td>19.340000</td>\n",
       "      <td>19.340000</td>\n",
       "      <td>19.340000</td>\n",
       "      <td>19.301397</td>\n",
       "      <td>0.0</td>\n",
       "    </tr>\n",
       "    <tr>\n",
       "      <th>1260</th>\n",
       "      <td>2018-01-26</td>\n",
       "      <td>19.620001</td>\n",
       "      <td>19.980000</td>\n",
       "      <td>19.100000</td>\n",
       "      <td>19.930000</td>\n",
       "      <td>19.890221</td>\n",
       "      <td>81989500.0</td>\n",
       "    </tr>\n",
       "    <tr>\n",
       "      <th>1261</th>\n",
       "      <td>2018-01-29</td>\n",
       "      <td>19.670000</td>\n",
       "      <td>20.049999</td>\n",
       "      <td>19.570000</td>\n",
       "      <td>19.850000</td>\n",
       "      <td>19.810381</td>\n",
       "      <td>55726200.0</td>\n",
       "    </tr>\n",
       "    <tr>\n",
       "      <th>1262</th>\n",
       "      <td>2018-01-30</td>\n",
       "      <td>19.770000</td>\n",
       "      <td>19.770000</td>\n",
       "      <td>19.360001</td>\n",
       "      <td>19.490000</td>\n",
       "      <td>19.451097</td>\n",
       "      <td>46203000.0</td>\n",
       "    </tr>\n",
       "    <tr>\n",
       "      <th>1263</th>\n",
       "      <td>2018-01-31</td>\n",
       "      <td>19.740000</td>\n",
       "      <td>19.930000</td>\n",
       "      <td>19.680000</td>\n",
       "      <td>19.700001</td>\n",
       "      <td>19.660681</td>\n",
       "      <td>41576600.0</td>\n",
       "    </tr>\n",
       "  </tbody>\n",
       "</table>\n",
       "</div>"
      ],
      "text/plain": [
       "            Date       Open       High        Low      Close  Adj Close  \\\n",
       "1259  2018-01-25  19.340000  19.340000  19.340000  19.340000  19.301397   \n",
       "1260  2018-01-26  19.620001  19.980000  19.100000  19.930000  19.890221   \n",
       "1261  2018-01-29  19.670000  20.049999  19.570000  19.850000  19.810381   \n",
       "1262  2018-01-30  19.770000  19.770000  19.360001  19.490000  19.451097   \n",
       "1263  2018-01-31  19.740000  19.930000  19.680000  19.700001  19.660681   \n",
       "\n",
       "          Volume  \n",
       "1259         0.0  \n",
       "1260  81989500.0  \n",
       "1261  55726200.0  \n",
       "1262  46203000.0  \n",
       "1263  41576600.0  "
      ]
     },
     "execution_count": 26,
     "metadata": {},
     "output_type": "execute_result"
    }
   ],
   "source": [
    "df_complete.tail()"
   ]
  },
  {
   "cell_type": "code",
   "execution_count": 162,
   "metadata": {},
   "outputs": [],
   "source": [
    "x, y = daysbefore(df_complete, 90, 'Open')"
   ]
  },
  {
   "cell_type": "code",
   "execution_count": 28,
   "metadata": {},
   "outputs": [
    {
     "data": {
      "text/plain": [
       "((1174, 90), (1174,))"
      ]
     },
     "execution_count": 28,
     "metadata": {},
     "output_type": "execute_result"
    }
   ],
   "source": [
    "x.shape, y.shape"
   ]
  },
  {
   "cell_type": "code",
   "execution_count": 29,
   "metadata": {},
   "outputs": [
    {
     "data": {
      "text/plain": [
       "(1174, 91)"
      ]
     },
     "execution_count": 29,
     "metadata": {},
     "output_type": "execute_result"
    }
   ],
   "source": [
    "df_open_test = pd.DataFrame(data=x)\n",
    "df_open_test['target'] = y\n",
    "df_open_test.shape"
   ]
  },
  {
   "cell_type": "code",
   "execution_count": 30,
   "metadata": {},
   "outputs": [
    {
     "data": {
      "text/html": [
       "<div>\n",
       "<style scoped>\n",
       "    .dataframe tbody tr th:only-of-type {\n",
       "        vertical-align: middle;\n",
       "    }\n",
       "\n",
       "    .dataframe tbody tr th {\n",
       "        vertical-align: top;\n",
       "    }\n",
       "\n",
       "    .dataframe thead th {\n",
       "        text-align: right;\n",
       "    }\n",
       "</style>\n",
       "<table border=\"1\" class=\"dataframe\">\n",
       "  <thead>\n",
       "    <tr style=\"text-align: right;\">\n",
       "      <th></th>\n",
       "      <th>0</th>\n",
       "      <th>1</th>\n",
       "      <th>2</th>\n",
       "      <th>3</th>\n",
       "      <th>4</th>\n",
       "      <th>5</th>\n",
       "      <th>6</th>\n",
       "      <th>7</th>\n",
       "      <th>8</th>\n",
       "      <th>9</th>\n",
       "      <th>...</th>\n",
       "      <th>81</th>\n",
       "      <th>82</th>\n",
       "      <th>83</th>\n",
       "      <th>84</th>\n",
       "      <th>85</th>\n",
       "      <th>86</th>\n",
       "      <th>87</th>\n",
       "      <th>88</th>\n",
       "      <th>89</th>\n",
       "      <th>target</th>\n",
       "    </tr>\n",
       "  </thead>\n",
       "  <tbody>\n",
       "    <tr>\n",
       "      <th>1169</th>\n",
       "      <td>15.25</td>\n",
       "      <td>15.85</td>\n",
       "      <td>15.60</td>\n",
       "      <td>15.79</td>\n",
       "      <td>15.86</td>\n",
       "      <td>15.70</td>\n",
       "      <td>15.37</td>\n",
       "      <td>15.50</td>\n",
       "      <td>15.19</td>\n",
       "      <td>15.60</td>\n",
       "      <td>...</td>\n",
       "      <td>17.040001</td>\n",
       "      <td>17.320000</td>\n",
       "      <td>17.350000</td>\n",
       "      <td>17.920000</td>\n",
       "      <td>18.350000</td>\n",
       "      <td>18.309999</td>\n",
       "      <td>18.260000</td>\n",
       "      <td>18.400000</td>\n",
       "      <td>18.420000</td>\n",
       "      <td>19.340000</td>\n",
       "    </tr>\n",
       "    <tr>\n",
       "      <th>1170</th>\n",
       "      <td>15.85</td>\n",
       "      <td>15.60</td>\n",
       "      <td>15.79</td>\n",
       "      <td>15.86</td>\n",
       "      <td>15.70</td>\n",
       "      <td>15.37</td>\n",
       "      <td>15.50</td>\n",
       "      <td>15.19</td>\n",
       "      <td>15.60</td>\n",
       "      <td>15.90</td>\n",
       "      <td>...</td>\n",
       "      <td>17.320000</td>\n",
       "      <td>17.350000</td>\n",
       "      <td>17.920000</td>\n",
       "      <td>18.350000</td>\n",
       "      <td>18.309999</td>\n",
       "      <td>18.260000</td>\n",
       "      <td>18.400000</td>\n",
       "      <td>18.420000</td>\n",
       "      <td>19.340000</td>\n",
       "      <td>19.620001</td>\n",
       "    </tr>\n",
       "    <tr>\n",
       "      <th>1171</th>\n",
       "      <td>15.60</td>\n",
       "      <td>15.79</td>\n",
       "      <td>15.86</td>\n",
       "      <td>15.70</td>\n",
       "      <td>15.37</td>\n",
       "      <td>15.50</td>\n",
       "      <td>15.19</td>\n",
       "      <td>15.60</td>\n",
       "      <td>15.90</td>\n",
       "      <td>15.88</td>\n",
       "      <td>...</td>\n",
       "      <td>17.350000</td>\n",
       "      <td>17.920000</td>\n",
       "      <td>18.350000</td>\n",
       "      <td>18.309999</td>\n",
       "      <td>18.260000</td>\n",
       "      <td>18.400000</td>\n",
       "      <td>18.420000</td>\n",
       "      <td>19.340000</td>\n",
       "      <td>19.620001</td>\n",
       "      <td>19.670000</td>\n",
       "    </tr>\n",
       "    <tr>\n",
       "      <th>1172</th>\n",
       "      <td>15.79</td>\n",
       "      <td>15.86</td>\n",
       "      <td>15.70</td>\n",
       "      <td>15.37</td>\n",
       "      <td>15.50</td>\n",
       "      <td>15.19</td>\n",
       "      <td>15.60</td>\n",
       "      <td>15.90</td>\n",
       "      <td>15.88</td>\n",
       "      <td>15.66</td>\n",
       "      <td>...</td>\n",
       "      <td>17.920000</td>\n",
       "      <td>18.350000</td>\n",
       "      <td>18.309999</td>\n",
       "      <td>18.260000</td>\n",
       "      <td>18.400000</td>\n",
       "      <td>18.420000</td>\n",
       "      <td>19.340000</td>\n",
       "      <td>19.620001</td>\n",
       "      <td>19.670000</td>\n",
       "      <td>19.770000</td>\n",
       "    </tr>\n",
       "    <tr>\n",
       "      <th>1173</th>\n",
       "      <td>15.86</td>\n",
       "      <td>15.70</td>\n",
       "      <td>15.37</td>\n",
       "      <td>15.50</td>\n",
       "      <td>15.19</td>\n",
       "      <td>15.60</td>\n",
       "      <td>15.90</td>\n",
       "      <td>15.88</td>\n",
       "      <td>15.66</td>\n",
       "      <td>15.61</td>\n",
       "      <td>...</td>\n",
       "      <td>18.350000</td>\n",
       "      <td>18.309999</td>\n",
       "      <td>18.260000</td>\n",
       "      <td>18.400000</td>\n",
       "      <td>18.420000</td>\n",
       "      <td>19.340000</td>\n",
       "      <td>19.620001</td>\n",
       "      <td>19.670000</td>\n",
       "      <td>19.770000</td>\n",
       "      <td>19.740000</td>\n",
       "    </tr>\n",
       "  </tbody>\n",
       "</table>\n",
       "<p>5 rows × 91 columns</p>\n",
       "</div>"
      ],
      "text/plain": [
       "          0      1      2      3      4      5      6      7      8      9  \\\n",
       "1169  15.25  15.85  15.60  15.79  15.86  15.70  15.37  15.50  15.19  15.60   \n",
       "1170  15.85  15.60  15.79  15.86  15.70  15.37  15.50  15.19  15.60  15.90   \n",
       "1171  15.60  15.79  15.86  15.70  15.37  15.50  15.19  15.60  15.90  15.88   \n",
       "1172  15.79  15.86  15.70  15.37  15.50  15.19  15.60  15.90  15.88  15.66   \n",
       "1173  15.86  15.70  15.37  15.50  15.19  15.60  15.90  15.88  15.66  15.61   \n",
       "\n",
       "      ...         81         82         83         84         85         86  \\\n",
       "1169  ...  17.040001  17.320000  17.350000  17.920000  18.350000  18.309999   \n",
       "1170  ...  17.320000  17.350000  17.920000  18.350000  18.309999  18.260000   \n",
       "1171  ...  17.350000  17.920000  18.350000  18.309999  18.260000  18.400000   \n",
       "1172  ...  17.920000  18.350000  18.309999  18.260000  18.400000  18.420000   \n",
       "1173  ...  18.350000  18.309999  18.260000  18.400000  18.420000  19.340000   \n",
       "\n",
       "             87         88         89     target  \n",
       "1169  18.260000  18.400000  18.420000  19.340000  \n",
       "1170  18.400000  18.420000  19.340000  19.620001  \n",
       "1171  18.420000  19.340000  19.620001  19.670000  \n",
       "1172  19.340000  19.620001  19.670000  19.770000  \n",
       "1173  19.620001  19.670000  19.770000  19.740000  \n",
       "\n",
       "[5 rows x 91 columns]"
      ]
     },
     "execution_count": 30,
     "metadata": {},
     "output_type": "execute_result"
    }
   ],
   "source": [
    "df_open_test.tail()"
   ]
  },
  {
   "cell_type": "code",
   "execution_count": 31,
   "metadata": {},
   "outputs": [
    {
     "data": {
      "text/plain": [
       "((1174, 90, 1), (1174,))"
      ]
     },
     "execution_count": 31,
     "metadata": {},
     "output_type": "execute_result"
    }
   ],
   "source": [
    "x = np.reshape(x, (x.shape[0], x.shape[1], 1))\n",
    "x.shape, y.shape"
   ]
  },
  {
   "cell_type": "code",
   "execution_count": 32,
   "metadata": {},
   "outputs": [],
   "source": [
    "pred = clf.predict(x)"
   ]
  },
  {
   "cell_type": "code",
   "execution_count": 33,
   "metadata": {},
   "outputs": [
    {
     "data": {
      "text/plain": [
       "((1174, 1), (1174,))"
      ]
     },
     "execution_count": 33,
     "metadata": {},
     "output_type": "execute_result"
    }
   ],
   "source": [
    "pred.shape, y.shape"
   ]
  },
  {
   "cell_type": "code",
   "execution_count": 34,
   "metadata": {},
   "outputs": [
    {
     "data": {
      "text/plain": [
       "-0.1250889455340758"
      ]
     },
     "execution_count": 34,
     "metadata": {},
     "output_type": "execute_result"
    }
   ],
   "source": [
    "y.mean() - pred.mean()"
   ]
  },
  {
   "cell_type": "code",
   "execution_count": 35,
   "metadata": {},
   "outputs": [
    {
     "data": {
      "text/plain": [
       "0.02129808379464926"
      ]
     },
     "execution_count": 35,
     "metadata": {},
     "output_type": "execute_result"
    }
   ],
   "source": [
    "y.std() - pred.std()"
   ]
  },
  {
   "cell_type": "code",
   "execution_count": 72,
   "metadata": {},
   "outputs": [],
   "source": [
    "import matplotlib.pyplot as plt\n",
    "\n",
    "%matplotlib inline"
   ]
  },
  {
   "cell_type": "code",
   "execution_count": 143,
   "metadata": {},
   "outputs": [
    {
     "data": {
      "image/png": "[encoded data removed]",
      "text/plain": [
       "<Figure size 432x288 with 1 Axes>"
      ]
     },
     "metadata": {
      "needs_background": "light"
     },
     "output_type": "display_data"
    }
   ],
   "source": [
    "plt.plot(y, color='red', label='real value')\n",
    "plt.plot(pred, color='blue', label='prediction')\n",
    "plt.title('PETR4 - Stock OPEN price prediction')\n",
    "plt.xlabel('time line')\n",
    "plt.ylabel('Value R$ (Yahoo)')\n",
    "plt.legend()\n",
    "plt.show()"
   ]
  },
  {
   "cell_type": "markdown",
   "metadata": {},
   "source": [
    "## ## Multiple inputs & Callbacks"
   ]
  },
  {
   "cell_type": "code",
   "execution_count": 197,
   "metadata": {},
   "outputs": [
    {
     "data": {
      "text/plain": [
       "Index(['Date', 'Open', 'High', 'Low', 'Close', 'Adj Close', 'Volume'], dtype='object')"
      ]
     },
     "execution_count": 197,
     "metadata": {},
     "output_type": "execute_result"
    }
   ],
   "source": [
    "df_train.columns"
   ]
  },
  {
   "cell_type": "code",
   "execution_count": 198,
   "metadata": {},
   "outputs": [
    {
     "data": {
      "text/plain": [
       "((1152, 90, 6), (1152,))"
      ]
     },
     "execution_count": 198,
     "metadata": {},
     "output_type": "execute_result"
    }
   ],
   "source": [
    "x_m, _ = daysbefore(df_train, 90, ['Open', 'High', 'Low', 'Close', 'Adj Close', 'Volume'])\n",
    "y_m = df_train['Open'][90:]\n",
    "x_m.shape, y_m.shape"
   ]
  },
  {
   "cell_type": "code",
   "execution_count": 186,
   "metadata": {},
   "outputs": [
    {
     "data": {
      "text/plain": [
       "((864, 90, 6), (864,), (288, 90, 6), (288,))"
      ]
     },
     "execution_count": 186,
     "metadata": {},
     "output_type": "execute_result"
    }
   ],
   "source": [
    "xtrain_m, xtest_m, ytrain_m, ytest_m = train_test_split(x_m, y_m,\n",
    "                                                        test_size=0.25, random_state=42)\n",
    "\n",
    "xtrain_m.shape, ytrain_m.shape, xtest_m.shape, ytest_m.shape"
   ]
  },
  {
   "cell_type": "code",
   "execution_count": 97,
   "metadata": {},
   "outputs": [],
   "source": [
    "from keras.callbacks import EarlyStopping, ReduceLROnPlateau, ModelCheckpoint"
   ]
  },
  {
   "cell_type": "code",
   "execution_count": 98,
   "metadata": {},
   "outputs": [],
   "source": [
    "es = EarlyStopping(monitor='loss', min_delta=1e-20, patience=10, verbose=1)\n",
    "rlr = ReduceLROnPlateau(monitor='loss', factor=0.2, patience=5, verbose=1)\n",
    "mcp = ModelCheckpoint(monitor='loss', filepath='sess_14-weights.h5.',\n",
    "                      save_best_only=True, verbose=1)"
   ]
  },
  {
   "cell_type": "code",
   "execution_count": 199,
   "metadata": {
    "scrolled": true
   },
   "outputs": [],
   "source": [
    "def model_m():\n",
    "    clear_session()\n",
    "    model = Sequential()\n",
    "    model.add(LSTM(units=100, return_sequences=True,\n",
    "                   input_shape=(xtrain_m.shape[1], xtrain_m.shape[2])))\n",
    "    model.add(Dropout(rate=0.5))\n",
    "    model.add(LSTM(units=50, return_sequences=True))\n",
    "    model.add(Dropout(rate=0.5))\n",
    "    model.add(LSTM(units=50, return_sequences=True))\n",
    "    model.add(Dropout(rate=0.5))\n",
    "    model.add(Dense(units=10, activation='relu'))\n",
    "    model.add(Dense(units=1, activation='linear'))\n",
    "    model.compile(optimizer='rmsprop', loss='mse', metrics='mae')\n",
    "    print(model.summary())\n",
    "    return model"
   ]
  },
  {
   "cell_type": "code",
   "execution_count": 178,
   "metadata": {},
   "outputs": [
    {
     "name": "stdout",
     "output_type": "stream",
     "text": [
      "Model: \"sequential\"\n",
      "_________________________________________________________________\n",
      "Layer (type)                 Output Shape              Param #   \n",
      "=================================================================\n",
      "lstm (LSTM)                  (None, 90, 100)           42800     \n",
      "_________________________________________________________________\n",
      "dropout (Dropout)            (None, 90, 100)           0         \n",
      "_________________________________________________________________\n",
      "lstm_1 (LSTM)                (None, 90, 50)            30200     \n",
      "_________________________________________________________________\n",
      "dropout_1 (Dropout)          (None, 90, 50)            0         \n",
      "_________________________________________________________________\n",
      "lstm_2 (LSTM)                (None, 90, 50)            20200     \n",
      "_________________________________________________________________\n",
      "dropout_2 (Dropout)          (None, 90, 50)            0         \n",
      "_________________________________________________________________\n",
      "dense (Dense)                (None, 90, 10)            510       \n",
      "_________________________________________________________________\n",
      "dense_1 (Dense)              (None, 90, 1)             11        \n",
      "=================================================================\n",
      "Total params: 93,721\n",
      "Trainable params: 93,721\n",
      "Non-trainable params: 0\n",
      "_________________________________________________________________\n",
      "None\n"
     ]
    }
   ],
   "source": [
    "clf_m = model_m()"
   ]
  },
  {
   "cell_type": "code",
   "execution_count": 201,
   "metadata": {
    "scrolled": true
   },
   "outputs": [
    {
     "name": "stdout",
     "output_type": "stream",
     "text": [
      "Epoch 1/20\n",
      "27/27 [==============================] - 1s 49ms/step - loss: 16.7829 - mae: 3.3139 - val_loss: 17.7778 - val_mae: 3.4741\n",
      "Epoch 2/20\n",
      "27/27 [==============================] - 1s 50ms/step - loss: 16.8278 - mae: 3.3174 - val_loss: 17.6541 - val_mae: 3.4471\n",
      "Epoch 3/20\n",
      "27/27 [==============================] - 1s 51ms/step - loss: 16.7631 - mae: 3.3166 - val_loss: 17.6755 - val_mae: 3.4589\n",
      "Epoch 4/20\n",
      "27/27 [==============================] - 1s 51ms/step - loss: 16.7585 - mae: 3.3214 - val_loss: 17.7312 - val_mae: 3.4686\n",
      "Epoch 5/20\n",
      "27/27 [==============================] - 1s 52ms/step - loss: 16.8192 - mae: 3.3177 - val_loss: 17.7650 - val_mae: 3.4716\n",
      "Epoch 6/20\n",
      "27/27 [==============================] - 1s 50ms/step - loss: 16.7394 - mae: 3.3222 - val_loss: 17.6636 - val_mae: 3.4408\n",
      "Epoch 7/20\n",
      "27/27 [==============================] - 1s 50ms/step - loss: 16.8147 - mae: 3.3159 - val_loss: 17.7469 - val_mae: 3.4691\n",
      "Epoch 8/20\n",
      "27/27 [==============================] - 1s 49ms/step - loss: 16.7055 - mae: 3.3032 - val_loss: 18.0841 - val_mae: 3.5193\n",
      "Epoch 9/20\n",
      "27/27 [==============================] - 1s 49ms/step - loss: 16.7068 - mae: 3.3056 - val_loss: 18.0425 - val_mae: 3.5147\n",
      "Epoch 10/20\n",
      "27/27 [==============================] - 1s 52ms/step - loss: 16.7557 - mae: 3.3029 - val_loss: 18.5157 - val_mae: 3.5865\n",
      "Epoch 11/20\n",
      "27/27 [==============================] - 1s 49ms/step - loss: 16.7300 - mae: 3.3072 - val_loss: 18.2044 - val_mae: 3.5387\n",
      "Epoch 12/20\n",
      "27/27 [==============================] - 1s 52ms/step - loss: 16.7654 - mae: 3.3209 - val_loss: 17.7466 - val_mae: 3.4682\n",
      "Epoch 13/20\n",
      "27/27 [==============================] - 1s 50ms/step - loss: 16.7193 - mae: 3.3080 - val_loss: 17.6512 - val_mae: 3.4460\n",
      "Epoch 14/20\n",
      "27/27 [==============================] - 1s 50ms/step - loss: 16.6385 - mae: 3.3031 - val_loss: 18.8385 - val_mae: 3.6248\n",
      "Epoch 15/20\n",
      "27/27 [==============================] - 1s 51ms/step - loss: 16.7629 - mae: 3.3135 - val_loss: 17.9917 - val_mae: 3.5048\n",
      "Epoch 16/20\n",
      "27/27 [==============================] - 1s 51ms/step - loss: 16.6722 - mae: 3.3097 - val_loss: 17.7155 - val_mae: 3.4628\n",
      "Epoch 17/20\n",
      "27/27 [==============================] - 1s 48ms/step - loss: 16.6797 - mae: 3.3060 - val_loss: 17.6572 - val_mae: 3.4445\n",
      "Epoch 18/20\n",
      "27/27 [==============================] - 1s 54ms/step - loss: 16.5837 - mae: 3.2901 - val_loss: 18.3421 - val_mae: 3.5603\n",
      "Epoch 19/20\n",
      "27/27 [==============================] - 2s 58ms/step - loss: 16.7149 - mae: 3.3090 - val_loss: 18.3673 - val_mae: 3.5649\n",
      "Epoch 20/20\n",
      "27/27 [==============================] - 2s 56ms/step - loss: 16.6453 - mae: 3.2956 - val_loss: 18.7387 - val_mae: 3.6180\n"
     ]
    },
    {
     "data": {
      "text/plain": [
       "<tensorflow.python.keras.callbacks.History at 0x7f0217a88d00>"
      ]
     },
     "execution_count": 201,
     "metadata": {},
     "output_type": "execute_result"
    }
   ],
   "source": [
    "# clf_m.fit(x=xtrain_m, y=xtrain_m, validation_data=(xtest_m, ytest_m), epochs=200,\n",
    "#          callbacks=[es, rlr, mcp])\n",
    "clf_m.fit(x=xtrain_m, y=ytrain_m, validation_data=(xtest_m, ytest_m), epochs=20)"
   ]
  },
  {
   "cell_type": "markdown",
   "metadata": {},
   "source": [
    "### ## Evaluation"
   ]
  },
  {
   "cell_type": "code",
   "execution_count": 202,
   "metadata": {},
   "outputs": [],
   "source": [
    "pred_m = clf_m.predict(xtest_m)"
   ]
  },
  {
   "cell_type": "code",
   "execution_count": 203,
   "metadata": {},
   "outputs": [
    {
     "data": {
      "text/plain": [
       "((288, 90, 1), (288,))"
      ]
     },
     "execution_count": 203,
     "metadata": {},
     "output_type": "execute_result"
    }
   ],
   "source": [
    "pred_m.shape, ytest_m.shape"
   ]
  },
  {
   "cell_type": "code",
   "execution_count": 204,
   "metadata": {},
   "outputs": [
    {
     "data": {
      "text/plain": [
       "1.0404335511203353"
      ]
     },
     "execution_count": 204,
     "metadata": {},
     "output_type": "execute_result"
    }
   ],
   "source": [
    "ytest_m.mean() - pred_m.mean()"
   ]
  },
  {
   "cell_type": "code",
   "execution_count": 190,
   "metadata": {},
   "outputs": [
    {
     "data": {
      "text/plain": [
       "3.8127434620240166"
      ]
     },
     "execution_count": 190,
     "metadata": {},
     "output_type": "execute_result"
    }
   ],
   "source": [
    "ytest_m.std() - pred_m.std()"
   ]
  },
  {
   "cell_type": "markdown",
   "metadata": {},
   "source": [
    "### ## Test data"
   ]
  },
  {
   "cell_type": "code",
   "execution_count": 191,
   "metadata": {},
   "outputs": [
    {
     "data": {
      "text/plain": [
       "((1174, 90, 6), (1174,))"
      ]
     },
     "execution_count": 191,
     "metadata": {},
     "output_type": "execute_result"
    }
   ],
   "source": [
    "x_m, _ = daysbefore(df_complete, 90, ['Open', 'High', 'Low', 'Close', 'Adj Close', 'Volume'])\n",
    "# y_m = df_complete['Open'][90:]\n",
    "x_m.shape, y.shape"
   ]
  },
  {
   "cell_type": "code",
   "execution_count": 192,
   "metadata": {},
   "outputs": [],
   "source": [
    "pred_m = clf_m.predict(x_m) "
   ]
  },
  {
   "cell_type": "code",
   "execution_count": 193,
   "metadata": {},
   "outputs": [
    {
     "data": {
      "text/plain": [
       "((1174, 90, 1), (1152,))"
      ]
     },
     "execution_count": 193,
     "metadata": {},
     "output_type": "execute_result"
    }
   ],
   "source": [
    "pred_m.shape, y_m.shape, "
   ]
  },
  {
   "cell_type": "code",
   "execution_count": 194,
   "metadata": {},
   "outputs": [
    {
     "data": {
      "text/plain": [
       "0.052397344760471753"
      ]
     },
     "execution_count": 194,
     "metadata": {},
     "output_type": "execute_result"
    }
   ],
   "source": [
    "y_m.mean() - pred_m.mean()"
   ]
  },
  {
   "cell_type": "code",
   "execution_count": 195,
   "metadata": {},
   "outputs": [
    {
     "data": {
      "text/plain": [
       "3.574721311223649"
      ]
     },
     "execution_count": 195,
     "metadata": {},
     "output_type": "execute_result"
    }
   ],
   "source": [
    "y_m.std() - pred_m.std()"
   ]
  },
  {
   "cell_type": "code",
   "execution_count": 196,
   "metadata": {},
   "outputs": [
    {
     "ename": "ValueError",
     "evalue": "x and y can be no greater than 2-D, but have shapes (1174,) and (1174, 90, 1)",
     "output_type": "error",
     "traceback": [
      "\u001b[0;31m---------------------------------------------------------------------------\u001b[0m",
      "\u001b[0;31mValueError\u001b[0m                                Traceback (most recent call last)",
      "\u001b[0;32m<ipython-input-196-9ff811071664>\u001b[0m in \u001b[0;36m<module>\u001b[0;34m\u001b[0m\n\u001b[1;32m      1\u001b[0m \u001b[0mplt\u001b[0m\u001b[0;34m.\u001b[0m\u001b[0mplot\u001b[0m\u001b[0;34m(\u001b[0m\u001b[0my_m\u001b[0m\u001b[0;34m,\u001b[0m \u001b[0mcolor\u001b[0m\u001b[0;34m=\u001b[0m\u001b[0;34m'red'\u001b[0m\u001b[0;34m,\u001b[0m \u001b[0mlabel\u001b[0m\u001b[0;34m=\u001b[0m\u001b[0;34m'real value'\u001b[0m\u001b[0;34m)\u001b[0m\u001b[0;34m\u001b[0m\u001b[0;34m\u001b[0m\u001b[0m\n\u001b[0;32m----> 2\u001b[0;31m \u001b[0mplt\u001b[0m\u001b[0;34m.\u001b[0m\u001b[0mplot\u001b[0m\u001b[0;34m(\u001b[0m\u001b[0mpred_m\u001b[0m\u001b[0;34m,\u001b[0m \u001b[0mcolor\u001b[0m\u001b[0;34m=\u001b[0m\u001b[0;34m'blue'\u001b[0m\u001b[0;34m,\u001b[0m \u001b[0mlabel\u001b[0m\u001b[0;34m=\u001b[0m\u001b[0;34m'prediction'\u001b[0m\u001b[0;34m)\u001b[0m\u001b[0;34m\u001b[0m\u001b[0;34m\u001b[0m\u001b[0m\n\u001b[0m\u001b[1;32m      3\u001b[0m \u001b[0mplt\u001b[0m\u001b[0;34m.\u001b[0m\u001b[0mtitle\u001b[0m\u001b[0;34m(\u001b[0m\u001b[0;34m'PETR4 - Stock OPEN price prediction (Multiple inputs)'\u001b[0m\u001b[0;34m)\u001b[0m\u001b[0;34m\u001b[0m\u001b[0;34m\u001b[0m\u001b[0m\n\u001b[1;32m      4\u001b[0m \u001b[0mplt\u001b[0m\u001b[0;34m.\u001b[0m\u001b[0mxlabel\u001b[0m\u001b[0;34m(\u001b[0m\u001b[0;34m'time line'\u001b[0m\u001b[0;34m)\u001b[0m\u001b[0;34m\u001b[0m\u001b[0;34m\u001b[0m\u001b[0m\n\u001b[1;32m      5\u001b[0m \u001b[0mplt\u001b[0m\u001b[0;34m.\u001b[0m\u001b[0mylabel\u001b[0m\u001b[0;34m(\u001b[0m\u001b[0;34m'Value R$ (Yahoo)'\u001b[0m\u001b[0;34m)\u001b[0m\u001b[0;34m\u001b[0m\u001b[0;34m\u001b[0m\u001b[0m\n",
      "\u001b[0;32m~/.local/lib/python3.8/site-packages/matplotlib/pyplot.py\u001b[0m in \u001b[0;36mplot\u001b[0;34m(scalex, scaley, data, *args, **kwargs)\u001b[0m\n\u001b[1;32m   2838\u001b[0m \u001b[0;34m@\u001b[0m\u001b[0m_copy_docstring_and_deprecators\u001b[0m\u001b[0;34m(\u001b[0m\u001b[0mAxes\u001b[0m\u001b[0;34m.\u001b[0m\u001b[0mplot\u001b[0m\u001b[0;34m)\u001b[0m\u001b[0;34m\u001b[0m\u001b[0;34m\u001b[0m\u001b[0m\n\u001b[1;32m   2839\u001b[0m \u001b[0;32mdef\u001b[0m \u001b[0mplot\u001b[0m\u001b[0;34m(\u001b[0m\u001b[0;34m*\u001b[0m\u001b[0margs\u001b[0m\u001b[0;34m,\u001b[0m \u001b[0mscalex\u001b[0m\u001b[0;34m=\u001b[0m\u001b[0;32mTrue\u001b[0m\u001b[0;34m,\u001b[0m \u001b[0mscaley\u001b[0m\u001b[0;34m=\u001b[0m\u001b[0;32mTrue\u001b[0m\u001b[0;34m,\u001b[0m \u001b[0mdata\u001b[0m\u001b[0;34m=\u001b[0m\u001b[0;32mNone\u001b[0m\u001b[0;34m,\u001b[0m \u001b[0;34m**\u001b[0m\u001b[0mkwargs\u001b[0m\u001b[0;34m)\u001b[0m\u001b[0;34m:\u001b[0m\u001b[0;34m\u001b[0m\u001b[0;34m\u001b[0m\u001b[0m\n\u001b[0;32m-> 2840\u001b[0;31m     return gca().plot(\n\u001b[0m\u001b[1;32m   2841\u001b[0m         \u001b[0;34m*\u001b[0m\u001b[0margs\u001b[0m\u001b[0;34m,\u001b[0m \u001b[0mscalex\u001b[0m\u001b[0;34m=\u001b[0m\u001b[0mscalex\u001b[0m\u001b[0;34m,\u001b[0m \u001b[0mscaley\u001b[0m\u001b[0;34m=\u001b[0m\u001b[0mscaley\u001b[0m\u001b[0;34m,\u001b[0m\u001b[0;34m\u001b[0m\u001b[0;34m\u001b[0m\u001b[0m\n\u001b[1;32m   2842\u001b[0m         **({\"data\": data} if data is not None else {}), **kwargs)\n",
      "\u001b[0;32m~/.local/lib/python3.8/site-packages/matplotlib/axes/_axes.py\u001b[0m in \u001b[0;36mplot\u001b[0;34m(self, scalex, scaley, data, *args, **kwargs)\u001b[0m\n\u001b[1;32m   1741\u001b[0m         \"\"\"\n\u001b[1;32m   1742\u001b[0m         \u001b[0mkwargs\u001b[0m \u001b[0;34m=\u001b[0m \u001b[0mcbook\u001b[0m\u001b[0;34m.\u001b[0m\u001b[0mnormalize_kwargs\u001b[0m\u001b[0;34m(\u001b[0m\u001b[0mkwargs\u001b[0m\u001b[0;34m,\u001b[0m \u001b[0mmlines\u001b[0m\u001b[0;34m.\u001b[0m\u001b[0mLine2D\u001b[0m\u001b[0;34m)\u001b[0m\u001b[0;34m\u001b[0m\u001b[0;34m\u001b[0m\u001b[0m\n\u001b[0;32m-> 1743\u001b[0;31m         \u001b[0mlines\u001b[0m \u001b[0;34m=\u001b[0m \u001b[0;34m[\u001b[0m\u001b[0;34m*\u001b[0m\u001b[0mself\u001b[0m\u001b[0;34m.\u001b[0m\u001b[0m_get_lines\u001b[0m\u001b[0;34m(\u001b[0m\u001b[0;34m*\u001b[0m\u001b[0margs\u001b[0m\u001b[0;34m,\u001b[0m \u001b[0mdata\u001b[0m\u001b[0;34m=\u001b[0m\u001b[0mdata\u001b[0m\u001b[0;34m,\u001b[0m \u001b[0;34m**\u001b[0m\u001b[0mkwargs\u001b[0m\u001b[0;34m)\u001b[0m\u001b[0;34m]\u001b[0m\u001b[0;34m\u001b[0m\u001b[0;34m\u001b[0m\u001b[0m\n\u001b[0m\u001b[1;32m   1744\u001b[0m         \u001b[0;32mfor\u001b[0m \u001b[0mline\u001b[0m \u001b[0;32min\u001b[0m \u001b[0mlines\u001b[0m\u001b[0;34m:\u001b[0m\u001b[0;34m\u001b[0m\u001b[0;34m\u001b[0m\u001b[0m\n\u001b[1;32m   1745\u001b[0m             \u001b[0mself\u001b[0m\u001b[0;34m.\u001b[0m\u001b[0madd_line\u001b[0m\u001b[0;34m(\u001b[0m\u001b[0mline\u001b[0m\u001b[0;34m)\u001b[0m\u001b[0;34m\u001b[0m\u001b[0;34m\u001b[0m\u001b[0m\n",
      "\u001b[0;32m~/.local/lib/python3.8/site-packages/matplotlib/axes/_base.py\u001b[0m in \u001b[0;36m__call__\u001b[0;34m(self, data, *args, **kwargs)\u001b[0m\n\u001b[1;32m    271\u001b[0m                 \u001b[0mthis\u001b[0m \u001b[0;34m+=\u001b[0m \u001b[0margs\u001b[0m\u001b[0;34m[\u001b[0m\u001b[0;36m0\u001b[0m\u001b[0;34m]\u001b[0m\u001b[0;34m,\u001b[0m\u001b[0;34m\u001b[0m\u001b[0;34m\u001b[0m\u001b[0m\n\u001b[1;32m    272\u001b[0m                 \u001b[0margs\u001b[0m \u001b[0;34m=\u001b[0m \u001b[0margs\u001b[0m\u001b[0;34m[\u001b[0m\u001b[0;36m1\u001b[0m\u001b[0;34m:\u001b[0m\u001b[0;34m]\u001b[0m\u001b[0;34m\u001b[0m\u001b[0;34m\u001b[0m\u001b[0m\n\u001b[0;32m--> 273\u001b[0;31m             \u001b[0;32myield\u001b[0m \u001b[0;32mfrom\u001b[0m \u001b[0mself\u001b[0m\u001b[0;34m.\u001b[0m\u001b[0m_plot_args\u001b[0m\u001b[0;34m(\u001b[0m\u001b[0mthis\u001b[0m\u001b[0;34m,\u001b[0m \u001b[0mkwargs\u001b[0m\u001b[0;34m)\u001b[0m\u001b[0;34m\u001b[0m\u001b[0;34m\u001b[0m\u001b[0m\n\u001b[0m\u001b[1;32m    274\u001b[0m \u001b[0;34m\u001b[0m\u001b[0m\n\u001b[1;32m    275\u001b[0m     \u001b[0;32mdef\u001b[0m \u001b[0mget_next_color\u001b[0m\u001b[0;34m(\u001b[0m\u001b[0mself\u001b[0m\u001b[0;34m)\u001b[0m\u001b[0;34m:\u001b[0m\u001b[0;34m\u001b[0m\u001b[0;34m\u001b[0m\u001b[0m\n",
      "\u001b[0;32m~/.local/lib/python3.8/site-packages/matplotlib/axes/_base.py\u001b[0m in \u001b[0;36m_plot_args\u001b[0;34m(self, tup, kwargs)\u001b[0m\n\u001b[1;32m    400\u001b[0m                              f\"have shapes {x.shape} and {y.shape}\")\n\u001b[1;32m    401\u001b[0m         \u001b[0;32mif\u001b[0m \u001b[0mx\u001b[0m\u001b[0;34m.\u001b[0m\u001b[0mndim\u001b[0m \u001b[0;34m>\u001b[0m \u001b[0;36m2\u001b[0m \u001b[0;32mor\u001b[0m \u001b[0my\u001b[0m\u001b[0;34m.\u001b[0m\u001b[0mndim\u001b[0m \u001b[0;34m>\u001b[0m \u001b[0;36m2\u001b[0m\u001b[0;34m:\u001b[0m\u001b[0;34m\u001b[0m\u001b[0;34m\u001b[0m\u001b[0m\n\u001b[0;32m--> 402\u001b[0;31m             raise ValueError(f\"x and y can be no greater than 2-D, but have \"\n\u001b[0m\u001b[1;32m    403\u001b[0m                              f\"shapes {x.shape} and {y.shape}\")\n\u001b[1;32m    404\u001b[0m         \u001b[0;32mif\u001b[0m \u001b[0mx\u001b[0m\u001b[0;34m.\u001b[0m\u001b[0mndim\u001b[0m \u001b[0;34m==\u001b[0m \u001b[0;36m1\u001b[0m\u001b[0;34m:\u001b[0m\u001b[0;34m\u001b[0m\u001b[0;34m\u001b[0m\u001b[0m\n",
      "\u001b[0;31mValueError\u001b[0m: x and y can be no greater than 2-D, but have shapes (1174,) and (1174, 90, 1)"
     ]
    },
    {
     "data": {
      "image/png": "[encoded data removed]",
      "text/plain": [
       "<Figure size 432x288 with 1 Axes>"
      ]
     },
     "metadata": {
      "needs_background": "light"
     },
     "output_type": "display_data"
    }
   ],
   "source": [
    "plt.plot(y_m, color='red', label='real value')\n",
    "plt.plot(pred_m, color='blue', label='prediction')\n",
    "plt.title('PETR4 - Stock OPEN price prediction (Multiple inputs)')\n",
    "plt.xlabel('time line')\n",
    "plt.ylabel('Value R$ (Yahoo)')\n",
    "plt.legend()\n",
    "plt.show()"
   ]
  },
  {
   "cell_type": "markdown",
   "metadata": {},
   "source": [
    "### ## All results"
   ]
  },
  {
   "cell_type": "code",
   "execution_count": 175,
   "metadata": {},
   "outputs": [
    {
     "data": {
      "image/png": "[encoded data removed]",
      "text/plain": [
       "<Figure size 432x288 with 1 Axes>"
      ]
     },
     "metadata": {
      "needs_background": "light"
     },
     "output_type": "display_data"
    }
   ],
   "source": [
    "plt.plot(y, color='red', label='real value')\n",
    "plt.plot(pred, color='blue', label='prediction')\n",
    "plt.plot(pred_m, color='green', label='prediction multiple inputs')\n",
    "plt.title('PETR4 - Stock OPEN price prediction (Multiple inputs)')\n",
    "plt.xlabel('time line')\n",
    "plt.ylabel('Value R$ (Yahoo)')\n",
    "plt.legend()\n",
    "plt.show()"
   ]
  },
  {
   "cell_type": "code",
   "execution_count": null,
   "metadata": {},
   "outputs": [],
   "source": []
  },
  {
   "cell_type": "code",
   "execution_count": null,
   "metadata": {},
   "outputs": [],
   "source": []
  },
  {
   "cell_type": "code",
   "execution_count": null,
   "metadata": {},
   "outputs": [],
   "source": []
  },
  {
   "cell_type": "code",
   "execution_count": null,
   "metadata": {},
   "outputs": [],
   "source": []
  },
  {
   "cell_type": "code",
   "execution_count": null,
   "metadata": {},
   "outputs": [],
   "source": []
  },
  {
   "cell_type": "code",
   "execution_count": null,
   "metadata": {},
   "outputs": [],
   "source": []
  },
  {
   "cell_type": "code",
   "execution_count": null,
   "metadata": {},
   "outputs": [],
   "source": []
  },
  {
   "cell_type": "code",
   "execution_count": null,
   "metadata": {},
   "outputs": [],
   "source": []
  },
  {
   "cell_type": "code",
   "execution_count": null,
   "metadata": {},
   "outputs": [],
   "source": []
  },
  {
   "cell_type": "code",
   "execution_count": null,
   "metadata": {},
   "outputs": [],
   "source": []
  },
  {
   "cell_type": "code",
   "execution_count": null,
   "metadata": {},
   "outputs": [],
   "source": []
  },
  {
   "cell_type": "code",
   "execution_count": null,
   "metadata": {},
   "outputs": [],
   "source": []
  }
 ],
 "metadata": {
  "kernelspec": {
   "display_name": "Python 3",
   "language": "python",
   "name": "python3"
  },
  "language_info": {
   "codemirror_mode": {
    "name": "ipython",
    "version": 3
   },
   "file_extension": ".py",
   "mimetype": "text/x-python",
   "name": "python",
   "nbconvert_exporter": "python",
   "pygments_lexer": "ipython3",
   "version": "3.8.5"
  }
 },
 "nbformat": 4,
 "nbformat_minor": 4
}
