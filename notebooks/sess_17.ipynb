{
 "cells": [
  {
   "cell_type": "markdown",
   "metadata": {},
   "source": [
    "# Part 17 "
   ]
  },
  {
   "cell_type": "markdown",
   "metadata": {},
   "source": [
    "## # Dataset"
   ]
  },
  {
   "cell_type": "code",
   "execution_count": 1,
   "metadata": {},
   "outputs": [],
   "source": [
    "import numpy as np\n",
    "import pandas as pd"
   ]
  },
  {
   "cell_type": "code",
   "execution_count": 2,
   "metadata": {},
   "outputs": [
    {
     "data": {
      "text/plain": [
       "((178, 14),\n",
       " Index(['Class', 'Alcohol', 'Malic acid', ' Ash', ' Alcalinity of ash',\n",
       "        'Magnesium', 'Total phenols', 'Flavanoids', 'Nonflavanoid phenols',\n",
       "        'Proanthocyanins', 'Color intensity', 'Hue',\n",
       "        'OD280/OD315 of diluted wines', 'Proline'],\n",
       "       dtype='object'))"
      ]
     },
     "execution_count": 2,
     "metadata": {},
     "output_type": "execute_result"
    }
   ],
   "source": [
    "df = pd.read_csv('../datasets/wines.csv')\n",
    "df.shape, df.columns"
   ]
  },
  {
   "cell_type": "code",
   "execution_count": 3,
   "metadata": {},
   "outputs": [
    {
     "data": {
      "text/html": [
       "<div>\n",
       "<style scoped>\n",
       "    .dataframe tbody tr th:only-of-type {\n",
       "        vertical-align: middle;\n",
       "    }\n",
       "\n",
       "    .dataframe tbody tr th {\n",
       "        vertical-align: top;\n",
       "    }\n",
       "\n",
       "    .dataframe thead th {\n",
       "        text-align: right;\n",
       "    }\n",
       "</style>\n",
       "<table border=\"1\" class=\"dataframe\">\n",
       "  <thead>\n",
       "    <tr style=\"text-align: right;\">\n",
       "      <th></th>\n",
       "      <th>Class</th>\n",
       "      <th>Alcohol</th>\n",
       "      <th>Malic acid</th>\n",
       "      <th>Ash</th>\n",
       "      <th>Alcalinity of ash</th>\n",
       "      <th>Magnesium</th>\n",
       "      <th>Total phenols</th>\n",
       "      <th>Flavanoids</th>\n",
       "      <th>Nonflavanoid phenols</th>\n",
       "      <th>Proanthocyanins</th>\n",
       "      <th>Color intensity</th>\n",
       "      <th>Hue</th>\n",
       "      <th>OD280/OD315 of diluted wines</th>\n",
       "      <th>Proline</th>\n",
       "    </tr>\n",
       "  </thead>\n",
       "  <tbody>\n",
       "    <tr>\n",
       "      <th>0</th>\n",
       "      <td>1</td>\n",
       "      <td>14.23</td>\n",
       "      <td>1.71</td>\n",
       "      <td>2.43</td>\n",
       "      <td>15.6</td>\n",
       "      <td>127</td>\n",
       "      <td>2.80</td>\n",
       "      <td>3.06</td>\n",
       "      <td>0.28</td>\n",
       "      <td>2.29</td>\n",
       "      <td>5.64</td>\n",
       "      <td>1.04</td>\n",
       "      <td>3.92</td>\n",
       "      <td>1065</td>\n",
       "    </tr>\n",
       "    <tr>\n",
       "      <th>1</th>\n",
       "      <td>1</td>\n",
       "      <td>13.20</td>\n",
       "      <td>1.78</td>\n",
       "      <td>2.14</td>\n",
       "      <td>11.2</td>\n",
       "      <td>100</td>\n",
       "      <td>2.65</td>\n",
       "      <td>2.76</td>\n",
       "      <td>0.26</td>\n",
       "      <td>1.28</td>\n",
       "      <td>4.38</td>\n",
       "      <td>1.05</td>\n",
       "      <td>3.40</td>\n",
       "      <td>1050</td>\n",
       "    </tr>\n",
       "    <tr>\n",
       "      <th>2</th>\n",
       "      <td>1</td>\n",
       "      <td>13.16</td>\n",
       "      <td>2.36</td>\n",
       "      <td>2.67</td>\n",
       "      <td>18.6</td>\n",
       "      <td>101</td>\n",
       "      <td>2.80</td>\n",
       "      <td>3.24</td>\n",
       "      <td>0.30</td>\n",
       "      <td>2.81</td>\n",
       "      <td>5.68</td>\n",
       "      <td>1.03</td>\n",
       "      <td>3.17</td>\n",
       "      <td>1185</td>\n",
       "    </tr>\n",
       "    <tr>\n",
       "      <th>3</th>\n",
       "      <td>1</td>\n",
       "      <td>14.37</td>\n",
       "      <td>1.95</td>\n",
       "      <td>2.50</td>\n",
       "      <td>16.8</td>\n",
       "      <td>113</td>\n",
       "      <td>3.85</td>\n",
       "      <td>3.49</td>\n",
       "      <td>0.24</td>\n",
       "      <td>2.18</td>\n",
       "      <td>7.80</td>\n",
       "      <td>0.86</td>\n",
       "      <td>3.45</td>\n",
       "      <td>1480</td>\n",
       "    </tr>\n",
       "    <tr>\n",
       "      <th>4</th>\n",
       "      <td>1</td>\n",
       "      <td>13.24</td>\n",
       "      <td>2.59</td>\n",
       "      <td>2.87</td>\n",
       "      <td>21.0</td>\n",
       "      <td>118</td>\n",
       "      <td>2.80</td>\n",
       "      <td>2.69</td>\n",
       "      <td>0.39</td>\n",
       "      <td>1.82</td>\n",
       "      <td>4.32</td>\n",
       "      <td>1.04</td>\n",
       "      <td>2.93</td>\n",
       "      <td>735</td>\n",
       "    </tr>\n",
       "  </tbody>\n",
       "</table>\n",
       "</div>"
      ],
      "text/plain": [
       "   Class  Alcohol  Malic acid   Ash   Alcalinity of ash  Magnesium  \\\n",
       "0      1    14.23        1.71  2.43                15.6        127   \n",
       "1      1    13.20        1.78  2.14                11.2        100   \n",
       "2      1    13.16        2.36  2.67                18.6        101   \n",
       "3      1    14.37        1.95  2.50                16.8        113   \n",
       "4      1    13.24        2.59  2.87                21.0        118   \n",
       "\n",
       "   Total phenols  Flavanoids  Nonflavanoid phenols  Proanthocyanins  \\\n",
       "0           2.80        3.06                  0.28             2.29   \n",
       "1           2.65        2.76                  0.26             1.28   \n",
       "2           2.80        3.24                  0.30             2.81   \n",
       "3           3.85        3.49                  0.24             2.18   \n",
       "4           2.80        2.69                  0.39             1.82   \n",
       "\n",
       "   Color intensity   Hue  OD280/OD315 of diluted wines  Proline  \n",
       "0             5.64  1.04                          3.92     1065  \n",
       "1             4.38  1.05                          3.40     1050  \n",
       "2             5.68  1.03                          3.17     1185  \n",
       "3             7.80  0.86                          3.45     1480  \n",
       "4             4.32  1.04                          2.93      735  "
      ]
     },
     "execution_count": 3,
     "metadata": {},
     "output_type": "execute_result"
    }
   ],
   "source": [
    "df.head()"
   ]
  },
  {
   "cell_type": "code",
   "execution_count": 4,
   "metadata": {},
   "outputs": [],
   "source": [
    "from utils.utils import _value_counts, _describe, _isnull"
   ]
  },
  {
   "cell_type": "code",
   "execution_count": 5,
   "metadata": {},
   "outputs": [
    {
     "name": "stdout",
     "output_type": "stream",
     "text": [
      ">> Null registers:\n",
      "\n",
      "# Class: 0 null rows\n",
      "# Alcohol: 0 null rows\n",
      "# Malic acid: 0 null rows\n",
      "#  Ash: 0 null rows\n",
      "#  Alcalinity of ash: 0 null rows\n",
      "# Magnesium: 0 null rows\n",
      "# Total phenols: 0 null rows\n",
      "# Flavanoids: 0 null rows\n",
      "# Nonflavanoid phenols: 0 null rows\n",
      "# Proanthocyanins: 0 null rows\n",
      "# Color intensity: 0 null rows\n",
      "# Hue: 0 null rows\n",
      "# OD280/OD315 of diluted wines: 0 null rows\n",
      "# Proline: 0 null rows\n"
     ]
    }
   ],
   "source": [
    "_isnull(df)"
   ]
  },
  {
   "cell_type": "code",
   "execution_count": 6,
   "metadata": {},
   "outputs": [
    {
     "name": "stdout",
     "output_type": "stream",
     "text": [
      ">> Describe columns:\n",
      "\n",
      "# Class:\n",
      "count    178.000000\n",
      "mean       1.938202\n",
      "std        0.775035\n",
      "min        1.000000\n",
      "25%        1.000000\n",
      "50%        2.000000\n",
      "75%        3.000000\n",
      "max        3.000000\n",
      "Name: Class, dtype: float64\n",
      "\n",
      "\n",
      "# Alcohol:\n",
      "count    178.000000\n",
      "mean      13.000618\n",
      "std        0.811827\n",
      "min       11.030000\n",
      "25%       12.362500\n",
      "50%       13.050000\n",
      "75%       13.677500\n",
      "max       14.830000\n",
      "Name: Alcohol, dtype: float64\n",
      "\n",
      "\n",
      "# Malic acid:\n",
      "count    178.000000\n",
      "mean       2.336348\n",
      "std        1.117146\n",
      "min        0.740000\n",
      "25%        1.602500\n",
      "50%        1.865000\n",
      "75%        3.082500\n",
      "max        5.800000\n",
      "Name: Malic acid, dtype: float64\n",
      "\n",
      "\n",
      "#  Ash:\n",
      "count    178.000000\n",
      "mean       2.366517\n",
      "std        0.274344\n",
      "min        1.360000\n",
      "25%        2.210000\n",
      "50%        2.360000\n",
      "75%        2.557500\n",
      "max        3.230000\n",
      "Name:  Ash, dtype: float64\n",
      "\n",
      "\n",
      "#  Alcalinity of ash:\n",
      "count    178.000000\n",
      "mean      19.494944\n",
      "std        3.339564\n",
      "min       10.600000\n",
      "25%       17.200000\n",
      "50%       19.500000\n",
      "75%       21.500000\n",
      "max       30.000000\n",
      "Name:  Alcalinity of ash, dtype: float64\n",
      "\n",
      "\n",
      "# Magnesium:\n",
      "count    178.000000\n",
      "mean      99.741573\n",
      "std       14.282484\n",
      "min       70.000000\n",
      "25%       88.000000\n",
      "50%       98.000000\n",
      "75%      107.000000\n",
      "max      162.000000\n",
      "Name: Magnesium, dtype: float64\n",
      "\n",
      "\n",
      "# Total phenols:\n",
      "count    178.000000\n",
      "mean       2.295112\n",
      "std        0.625851\n",
      "min        0.980000\n",
      "25%        1.742500\n",
      "50%        2.355000\n",
      "75%        2.800000\n",
      "max        3.880000\n",
      "Name: Total phenols, dtype: float64\n",
      "\n",
      "\n",
      "# Flavanoids:\n",
      "count    178.000000\n",
      "mean       2.029270\n",
      "std        0.998859\n",
      "min        0.340000\n",
      "25%        1.205000\n",
      "50%        2.135000\n",
      "75%        2.875000\n",
      "max        5.080000\n",
      "Name: Flavanoids, dtype: float64\n",
      "\n",
      "\n",
      "# Nonflavanoid phenols:\n",
      "count    178.000000\n",
      "mean       0.361854\n",
      "std        0.124453\n",
      "min        0.130000\n",
      "25%        0.270000\n",
      "50%        0.340000\n",
      "75%        0.437500\n",
      "max        0.660000\n",
      "Name: Nonflavanoid phenols, dtype: float64\n",
      "\n",
      "\n",
      "# Proanthocyanins:\n",
      "count    178.000000\n",
      "mean       1.590899\n",
      "std        0.572359\n",
      "min        0.410000\n",
      "25%        1.250000\n",
      "50%        1.555000\n",
      "75%        1.950000\n",
      "max        3.580000\n",
      "Name: Proanthocyanins, dtype: float64\n",
      "\n",
      "\n",
      "# Color intensity:\n",
      "count    178.000000\n",
      "mean       5.058090\n",
      "std        2.318286\n",
      "min        1.280000\n",
      "25%        3.220000\n",
      "50%        4.690000\n",
      "75%        6.200000\n",
      "max       13.000000\n",
      "Name: Color intensity, dtype: float64\n",
      "\n",
      "\n",
      "# Hue:\n",
      "count    178.000000\n",
      "mean       0.957449\n",
      "std        0.228572\n",
      "min        0.480000\n",
      "25%        0.782500\n",
      "50%        0.965000\n",
      "75%        1.120000\n",
      "max        1.710000\n",
      "Name: Hue, dtype: float64\n",
      "\n",
      "\n",
      "# OD280/OD315 of diluted wines:\n",
      "count    178.000000\n",
      "mean       2.611685\n",
      "std        0.709990\n",
      "min        1.270000\n",
      "25%        1.937500\n",
      "50%        2.780000\n",
      "75%        3.170000\n",
      "max        4.000000\n",
      "Name: OD280/OD315 of diluted wines, dtype: float64\n",
      "\n",
      "\n",
      "# Proline:\n",
      "count     178.000000\n",
      "mean      746.893258\n",
      "std       314.907474\n",
      "min       278.000000\n",
      "25%       500.500000\n",
      "50%       673.500000\n",
      "75%       985.000000\n",
      "max      1680.000000\n",
      "Name: Proline, dtype: float64\n",
      "\n",
      "\n"
     ]
    }
   ],
   "source": [
    "_describe(df)"
   ]
  },
  {
   "cell_type": "code",
   "execution_count": 7,
   "metadata": {},
   "outputs": [
    {
     "name": "stdout",
     "output_type": "stream",
     "text": [
      ">> Value counts:\n",
      "\n",
      "# Class:\n",
      "2    71\n",
      "1    59\n",
      "3    48\n",
      "Name: Class, dtype: int64\n",
      "\n",
      "\n",
      "# Alcohol:\n",
      "12.37    6\n",
      "13.05    6\n",
      "12.08    5\n",
      "12.29    4\n",
      "12.00    3\n",
      "        ..\n",
      "13.34    1\n",
      "13.69    1\n",
      "13.90    1\n",
      "13.84    1\n",
      "13.75    1\n",
      "Name: Alcohol, Length: 126, dtype: int64\n",
      "\n",
      "\n",
      "# Malic acid:\n",
      "1.73    7\n",
      "1.81    4\n",
      "1.67    4\n",
      "1.68    3\n",
      "1.61    3\n",
      "       ..\n",
      "3.45    1\n",
      "2.51    1\n",
      "4.61    1\n",
      "3.83    1\n",
      "2.68    1\n",
      "Name: Malic acid, Length: 133, dtype: int64\n",
      "\n",
      "\n",
      "#  Ash:\n",
      "2.30    7\n",
      "2.28    7\n",
      "2.70    6\n",
      "2.36    6\n",
      "2.32    6\n",
      "       ..\n",
      "2.16    1\n",
      "2.78    1\n",
      "2.53    1\n",
      "1.71    1\n",
      "1.95    1\n",
      "Name:  Ash, Length: 79, dtype: int64\n",
      "\n",
      "\n",
      "#  Alcalinity of ash:\n",
      "20.0    15\n",
      "21.0    11\n",
      "16.0    11\n",
      "18.0    10\n",
      "19.0     9\n",
      "        ..\n",
      "19.4     1\n",
      "11.2     1\n",
      "21.6     1\n",
      "18.1     1\n",
      "14.8     1\n",
      "Name:  Alcalinity of ash, Length: 63, dtype: int64\n",
      "\n",
      "\n",
      "# Magnesium:\n",
      "88     13\n",
      "86     11\n",
      "101     9\n",
      "98      9\n",
      "96      8\n",
      "102     7\n",
      "112     6\n",
      "94      6\n",
      "85      6\n",
      "97      5\n",
      "80      5\n",
      "92      5\n",
      "103     5\n",
      "89      5\n",
      "90      4\n",
      "108     4\n",
      "107     4\n",
      "106     4\n",
      "120     3\n",
      "118     3\n",
      "116     3\n",
      "87      3\n",
      "100     3\n",
      "84      3\n",
      "111     3\n",
      "110     3\n",
      "78      3\n",
      "104     3\n",
      "95      3\n",
      "105     2\n",
      "93      2\n",
      "113     2\n",
      "91      2\n",
      "115     2\n",
      "82      1\n",
      "81      1\n",
      "162     1\n",
      "99      1\n",
      "151     1\n",
      "117     1\n",
      "119     1\n",
      "121     1\n",
      "122     1\n",
      "123     1\n",
      "124     1\n",
      "126     1\n",
      "127     1\n",
      "128     1\n",
      "132     1\n",
      "134     1\n",
      "136     1\n",
      "139     1\n",
      "70      1\n",
      "Name: Magnesium, dtype: int64\n",
      "\n",
      "\n",
      "# Total phenols:\n",
      "2.20    8\n",
      "3.00    6\n",
      "2.80    6\n",
      "2.60    6\n",
      "2.00    5\n",
      "       ..\n",
      "2.90    1\n",
      "2.02    1\n",
      "3.27    1\n",
      "2.83    1\n",
      "1.93    1\n",
      "Name: Total phenols, Length: 97, dtype: int64\n",
      "\n",
      "\n",
      "# Flavanoids:\n",
      "2.65    4\n",
      "0.58    3\n",
      "2.68    3\n",
      "0.60    3\n",
      "1.25    3\n",
      "       ..\n",
      "2.78    1\n",
      "1.02    1\n",
      "1.30    1\n",
      "2.90    1\n",
      "3.25    1\n",
      "Name: Flavanoids, Length: 132, dtype: int64\n",
      "\n",
      "\n",
      "# Nonflavanoid phenols:\n",
      "0.26    11\n",
      "0.43    11\n",
      "0.29    10\n",
      "0.32     9\n",
      "0.30     8\n",
      "0.37     8\n",
      "0.34     8\n",
      "0.27     8\n",
      "0.40     8\n",
      "0.24     7\n",
      "0.53     7\n",
      "0.21     6\n",
      "0.22     6\n",
      "0.28     5\n",
      "0.39     5\n",
      "0.17     5\n",
      "0.50     5\n",
      "0.52     5\n",
      "0.47     4\n",
      "0.42     4\n",
      "0.48     4\n",
      "0.63     4\n",
      "0.58     3\n",
      "0.60     3\n",
      "0.45     3\n",
      "0.61     3\n",
      "0.14     2\n",
      "0.19     2\n",
      "0.25     2\n",
      "0.20     2\n",
      "0.31     2\n",
      "0.55     1\n",
      "0.41     1\n",
      "0.66     1\n",
      "0.56     1\n",
      "0.13     1\n",
      "0.44     1\n",
      "0.33     1\n",
      "0.35     1\n",
      "Name: Nonflavanoid phenols, dtype: int64\n",
      "\n",
      "\n",
      "# Proanthocyanins:\n",
      "1.35    9\n",
      "1.46    7\n",
      "1.87    6\n",
      "1.25    5\n",
      "1.56    4\n",
      "       ..\n",
      "1.53    1\n",
      "0.68    1\n",
      "1.72    1\n",
      "1.71    1\n",
      "0.88    1\n",
      "Name: Proanthocyanins, Length: 101, dtype: int64\n",
      "\n",
      "\n",
      "# Color intensity:\n",
      "2.60    4\n",
      "4.60    4\n",
      "3.80    4\n",
      "3.05    3\n",
      "5.70    3\n",
      "       ..\n",
      "6.90    1\n",
      "7.80    1\n",
      "5.20    1\n",
      "5.05    1\n",
      "6.75    1\n",
      "Name: Color intensity, Length: 132, dtype: int64\n",
      "\n",
      "\n",
      "# Hue:\n",
      "1.04    8\n",
      "1.23    7\n",
      "1.12    6\n",
      "0.89    5\n",
      "0.57    5\n",
      "       ..\n",
      "1.17    1\n",
      "0.55    1\n",
      "0.76    1\n",
      "1.22    1\n",
      "0.69    1\n",
      "Name: Hue, Length: 78, dtype: int64\n",
      "\n",
      "\n",
      "# OD280/OD315 of diluted wines:\n",
      "2.87    5\n",
      "3.00    4\n",
      "1.82    4\n",
      "2.78    4\n",
      "2.77    3\n",
      "       ..\n",
      "3.31    1\n",
      "3.69    1\n",
      "2.01    1\n",
      "1.96    1\n",
      "2.73    1\n",
      "Name: OD280/OD315 of diluted wines, Length: 122, dtype: int64\n",
      "\n",
      "\n",
      "# Proline:\n",
      "680     5\n",
      "520     5\n",
      "630     4\n",
      "625     4\n",
      "750     4\n",
      "       ..\n",
      "385     1\n",
      "1020    1\n",
      "392     1\n",
      "720     1\n",
      "502     1\n",
      "Name: Proline, Length: 121, dtype: int64\n",
      "\n",
      "\n"
     ]
    }
   ],
   "source": [
    "_value_counts(df)"
   ]
  },
  {
   "cell_type": "code",
   "execution_count": 8,
   "metadata": {},
   "outputs": [
    {
     "data": {
      "text/plain": [
       "(178, 14)"
      ]
     },
     "execution_count": 8,
     "metadata": {},
     "output_type": "execute_result"
    }
   ],
   "source": [
    "df.shape"
   ]
  },
  {
   "cell_type": "code",
   "execution_count": 9,
   "metadata": {},
   "outputs": [
    {
     "data": {
      "text/plain": [
       "(178, 13)"
      ]
     },
     "execution_count": 9,
     "metadata": {},
     "output_type": "execute_result"
    }
   ],
   "source": [
    "x = df.drop(labels='Class', axis=1)\n",
    "x.shape"
   ]
  },
  {
   "cell_type": "code",
   "execution_count": 10,
   "metadata": {},
   "outputs": [
    {
     "data": {
      "text/plain": [
       "(178,)"
      ]
     },
     "execution_count": 10,
     "metadata": {},
     "output_type": "execute_result"
    }
   ],
   "source": [
    "y = df['Class']\n",
    "y.shape"
   ]
  },
  {
   "cell_type": "code",
   "execution_count": 11,
   "metadata": {},
   "outputs": [],
   "source": [
    "from sklearn.model_selection import train_test_split"
   ]
  },
  {
   "cell_type": "code",
   "execution_count": null,
   "metadata": {},
   "outputs": [],
   "source": []
  },
  {
   "cell_type": "code",
   "execution_count": 12,
   "metadata": {},
   "outputs": [],
   "source": [
    "from sklearn.metrics import classification_report"
   ]
  },
  {
   "cell_type": "markdown",
   "metadata": {},
   "source": [
    "## # Model"
   ]
  },
  {
   "cell_type": "markdown",
   "metadata": {},
   "source": [
    "## ## Self organizing map (SOM)"
   ]
  },
  {
   "cell_type": "code",
   "execution_count": 14,
   "metadata": {},
   "outputs": [],
   "source": [
    "from math import sqrt"
   ]
  },
  {
   "cell_type": "code",
   "execution_count": 22,
   "metadata": {},
   "outputs": [
    {
     "data": {
      "text/plain": [
       "8"
      ]
     },
     "execution_count": 22,
     "metadata": {},
     "output_type": "execute_result"
    }
   ],
   "source": [
    "_xy = int(sqrt(int(5*sqrt(int(x.shape[0])))))\n",
    "_xy"
   ]
  },
  {
   "cell_type": "code",
   "execution_count": 13,
   "metadata": {},
   "outputs": [],
   "source": [
    "from minisom import MiniSom"
   ]
  },
  {
   "cell_type": "code",
   "execution_count": 25,
   "metadata": {},
   "outputs": [
    {
     "data": {
      "text/plain": [
       "<minisom.MiniSom at 0x7fc7c2eaa4f0>"
      ]
     },
     "execution_count": 25,
     "metadata": {},
     "output_type": "execute_result"
    }
   ],
   "source": [
    "som = MiniSom(x=_xy, y=_xy, input_len=x.shape[1], sigma=1.0, random_seed=42)\n",
    "# the method does not generalize for DataFrames, thus we pass df.values\n",
    "som.random_weights_init(x.values)\n",
    "# num_iteration == epochs\n",
    "som.train_random(data=x.values, num_iteration=100)"
   ]
  },
  {
   "cell_type": "code",
   "execution_count": 34,
   "metadata": {},
   "outputs": [
    {
     "data": {
      "text/plain": [
       "(8, 8, 13)"
      ]
     },
     "execution_count": 34,
     "metadata": {},
     "output_type": "execute_result"
    }
   ],
   "source": [
    "som._weights.shape"
   ]
  },
  {
   "cell_type": "code",
   "execution_count": 36,
   "metadata": {},
   "outputs": [
    {
     "data": {
      "text/plain": [
       "(8, 8)"
      ]
     },
     "execution_count": 36,
     "metadata": {},
     "output_type": "execute_result"
    }
   ],
   "source": [
    "som._activation_map.shape"
   ]
  },
  {
   "cell_type": "code",
   "execution_count": 40,
   "metadata": {},
   "outputs": [
    {
     "data": {
      "text/plain": [
       "array([[26.,  5.,  9.,  6.,  1.,  1.,  3.,  1.],\n",
       "       [ 9., 17.,  6.,  7.,  1.,  1.,  1.,  0.],\n",
       "       [ 8., 12.,  6.,  3.,  2.,  1.,  5.,  2.],\n",
       "       [ 0.,  0.,  0.,  3.,  1.,  0.,  0.,  0.],\n",
       "       [ 0.,  0.,  5.,  1.,  0.,  1.,  1.,  0.],\n",
       "       [ 6.,  3.,  0.,  1.,  0.,  2.,  0.,  0.],\n",
       "       [ 3.,  7.,  3.,  2.,  0.,  0.,  2.,  1.],\n",
       "       [ 0.,  0.,  1.,  0.,  0.,  1.,  0.,  1.]])"
      ]
     },
     "execution_count": 40,
     "metadata": {},
     "output_type": "execute_result"
    }
   ],
   "source": [
    "# take a look at how many each output neuron was chosen as a BMU\n",
    "som.activation_response(x.values)"
   ]
  },
  {
   "cell_type": "code",
   "execution_count": 44,
   "metadata": {},
   "outputs": [
    {
     "data": {
      "text/plain": [
       "(8, 8)"
      ]
     },
     "execution_count": 44,
     "metadata": {},
     "output_type": "execute_result"
    }
   ],
   "source": [
    "som.distance_map().shape"
   ]
  },
  {
   "cell_type": "code",
   "execution_count": null,
   "metadata": {},
   "outputs": [],
   "source": []
  },
  {
   "cell_type": "code",
   "execution_count": null,
   "metadata": {},
   "outputs": [],
   "source": []
  },
  {
   "cell_type": "code",
   "execution_count": 49,
   "metadata": {},
   "outputs": [
    {
     "ename": "ModuleNotFoundError",
     "evalue": "No module named 'seaborn'",
     "output_type": "error",
     "traceback": [
      "\u001b[0;31m---------------------------------------------------------------------------\u001b[0m",
      "\u001b[0;31mModuleNotFoundError\u001b[0m                       Traceback (most recent call last)",
      "\u001b[0;32m<ipython-input-49-a84c0541e888>\u001b[0m in \u001b[0;36m<module>\u001b[0;34m\u001b[0m\n\u001b[0;32m----> 1\u001b[0;31m \u001b[0;32mimport\u001b[0m \u001b[0mseaborn\u001b[0m \u001b[0;32mas\u001b[0m \u001b[0msns\u001b[0m\u001b[0;34m\u001b[0m\u001b[0;34m\u001b[0m\u001b[0m\n\u001b[0m",
      "\u001b[0;31mModuleNotFoundError\u001b[0m: No module named 'seaborn'"
     ]
    }
   ],
   "source": [
    "import seaborn as sns"
   ]
  },
  {
   "cell_type": "code",
   "execution_count": null,
   "metadata": {},
   "outputs": [],
   "source": []
  },
  {
   "cell_type": "code",
   "execution_count": 42,
   "metadata": {},
   "outputs": [],
   "source": [
    "from pylab import pcolor, colorbar"
   ]
  },
  {
   "cell_type": "code",
   "execution_count": null,
   "metadata": {},
   "outputs": [],
   "source": []
  },
  {
   "cell_type": "code",
   "execution_count": null,
   "metadata": {},
   "outputs": [],
   "source": []
  },
  {
   "cell_type": "code",
   "execution_count": null,
   "metadata": {},
   "outputs": [],
   "source": []
  },
  {
   "cell_type": "code",
   "execution_count": null,
   "metadata": {},
   "outputs": [],
   "source": []
  },
  {
   "cell_type": "markdown",
   "metadata": {},
   "source": [
    "### ## Evaluation"
   ]
  },
  {
   "cell_type": "code",
   "execution_count": null,
   "metadata": {},
   "outputs": [],
   "source": []
  },
  {
   "cell_type": "markdown",
   "metadata": {},
   "source": [
    "## ## K-means Clustering"
   ]
  },
  {
   "cell_type": "code",
   "execution_count": null,
   "metadata": {},
   "outputs": [],
   "source": []
  },
  {
   "cell_type": "code",
   "execution_count": null,
   "metadata": {},
   "outputs": [],
   "source": []
  },
  {
   "cell_type": "code",
   "execution_count": null,
   "metadata": {},
   "outputs": [],
   "source": []
  },
  {
   "cell_type": "code",
   "execution_count": null,
   "metadata": {},
   "outputs": [],
   "source": []
  },
  {
   "cell_type": "code",
   "execution_count": null,
   "metadata": {},
   "outputs": [],
   "source": []
  },
  {
   "cell_type": "code",
   "execution_count": null,
   "metadata": {},
   "outputs": [],
   "source": []
  },
  {
   "cell_type": "markdown",
   "metadata": {},
   "source": [
    "### ## Evaluation"
   ]
  },
  {
   "cell_type": "code",
   "execution_count": null,
   "metadata": {},
   "outputs": [],
   "source": []
  },
  {
   "cell_type": "markdown",
   "metadata": {},
   "source": [
    "## ## KNN"
   ]
  },
  {
   "cell_type": "code",
   "execution_count": null,
   "metadata": {},
   "outputs": [],
   "source": []
  },
  {
   "cell_type": "code",
   "execution_count": null,
   "metadata": {},
   "outputs": [],
   "source": []
  },
  {
   "cell_type": "code",
   "execution_count": null,
   "metadata": {},
   "outputs": [],
   "source": []
  },
  {
   "cell_type": "code",
   "execution_count": null,
   "metadata": {},
   "outputs": [],
   "source": []
  },
  {
   "cell_type": "code",
   "execution_count": null,
   "metadata": {},
   "outputs": [],
   "source": []
  },
  {
   "cell_type": "markdown",
   "metadata": {},
   "source": [
    "### ## Evaluation"
   ]
  },
  {
   "cell_type": "code",
   "execution_count": null,
   "metadata": {},
   "outputs": [],
   "source": []
  },
  {
   "cell_type": "code",
   "execution_count": null,
   "metadata": {},
   "outputs": [],
   "source": []
  },
  {
   "cell_type": "code",
   "execution_count": null,
   "metadata": {},
   "outputs": [],
   "source": []
  },
  {
   "cell_type": "code",
   "execution_count": null,
   "metadata": {},
   "outputs": [],
   "source": []
  },
  {
   "cell_type": "code",
   "execution_count": null,
   "metadata": {},
   "outputs": [],
   "source": []
  },
  {
   "cell_type": "code",
   "execution_count": null,
   "metadata": {},
   "outputs": [],
   "source": []
  },
  {
   "cell_type": "code",
   "execution_count": null,
   "metadata": {},
   "outputs": [],
   "source": []
  }
 ],
 "metadata": {
  "kernelspec": {
   "display_name": "Python 3",
   "language": "python",
   "name": "python3"
  },
  "language_info": {
   "codemirror_mode": {
    "name": "ipython",
    "version": 3
   },
   "file_extension": ".py",
   "mimetype": "text/x-python",
   "name": "python",
   "nbconvert_exporter": "python",
   "pygments_lexer": "ipython3",
   "version": "3.8.5"
  }
 },
 "nbformat": 4,
 "nbformat_minor": 4
}
