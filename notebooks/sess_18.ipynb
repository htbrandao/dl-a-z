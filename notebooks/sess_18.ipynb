{
 "cells": [
  {
   "cell_type": "markdown",
   "metadata": {},
   "source": [
    "# Part 18 "
   ]
  },
  {
   "cell_type": "markdown",
   "metadata": {},
   "source": [
    "## # Dataset"
   ]
  },
  {
   "cell_type": "code",
   "execution_count": 58,
   "metadata": {},
   "outputs": [],
   "source": [
    "import numpy as np\n",
    "import pandas as pd\n",
    "import seaborn as sns\n",
    "import matplotlib.pyplot as plt\n",
    "from datass.dataframe import inspection\n",
    "\n",
    "%matplotlib notebook\n",
    "%config Completer.use_jedi = False"
   ]
  },
  {
   "cell_type": "code",
   "execution_count": 2,
   "metadata": {},
   "outputs": [
    {
     "data": {
      "text/plain": [
       "((2000, 5),\n",
       " Index(['clientid', 'income', 'age', 'loan', 'default'], dtype='object'))"
      ]
     },
     "execution_count": 2,
     "metadata": {},
     "output_type": "execute_result"
    }
   ],
   "source": [
    "df = pd.read_csv('../datasets/credit_data.csv')\n",
    "df.shape, df.columns"
   ]
  },
  {
   "cell_type": "code",
   "execution_count": 3,
   "metadata": {},
   "outputs": [
    {
     "data": {
      "text/html": [
       "<div>\n",
       "<style scoped>\n",
       "    .dataframe tbody tr th:only-of-type {\n",
       "        vertical-align: middle;\n",
       "    }\n",
       "\n",
       "    .dataframe tbody tr th {\n",
       "        vertical-align: top;\n",
       "    }\n",
       "\n",
       "    .dataframe thead th {\n",
       "        text-align: right;\n",
       "    }\n",
       "</style>\n",
       "<table border=\"1\" class=\"dataframe\">\n",
       "  <thead>\n",
       "    <tr style=\"text-align: right;\">\n",
       "      <th></th>\n",
       "      <th>clientid</th>\n",
       "      <th>income</th>\n",
       "      <th>age</th>\n",
       "      <th>loan</th>\n",
       "      <th>default</th>\n",
       "    </tr>\n",
       "  </thead>\n",
       "  <tbody>\n",
       "    <tr>\n",
       "      <th>0</th>\n",
       "      <td>1</td>\n",
       "      <td>66155.925095</td>\n",
       "      <td>59.017015</td>\n",
       "      <td>8106.532131</td>\n",
       "      <td>0</td>\n",
       "    </tr>\n",
       "    <tr>\n",
       "      <th>1</th>\n",
       "      <td>2</td>\n",
       "      <td>34415.153966</td>\n",
       "      <td>48.117153</td>\n",
       "      <td>6564.745018</td>\n",
       "      <td>0</td>\n",
       "    </tr>\n",
       "    <tr>\n",
       "      <th>2</th>\n",
       "      <td>3</td>\n",
       "      <td>57317.170063</td>\n",
       "      <td>63.108049</td>\n",
       "      <td>8020.953296</td>\n",
       "      <td>0</td>\n",
       "    </tr>\n",
       "    <tr>\n",
       "      <th>3</th>\n",
       "      <td>4</td>\n",
       "      <td>42709.534201</td>\n",
       "      <td>45.751972</td>\n",
       "      <td>6103.642260</td>\n",
       "      <td>0</td>\n",
       "    </tr>\n",
       "    <tr>\n",
       "      <th>4</th>\n",
       "      <td>5</td>\n",
       "      <td>66952.688845</td>\n",
       "      <td>18.584336</td>\n",
       "      <td>8770.099235</td>\n",
       "      <td>1</td>\n",
       "    </tr>\n",
       "  </tbody>\n",
       "</table>\n",
       "</div>"
      ],
      "text/plain": [
       "   clientid        income        age         loan  default\n",
       "0         1  66155.925095  59.017015  8106.532131        0\n",
       "1         2  34415.153966  48.117153  6564.745018        0\n",
       "2         3  57317.170063  63.108049  8020.953296        0\n",
       "3         4  42709.534201  45.751972  6103.642260        0\n",
       "4         5  66952.688845  18.584336  8770.099235        1"
      ]
     },
     "execution_count": 3,
     "metadata": {},
     "output_type": "execute_result"
    }
   ],
   "source": [
    "df.head()"
   ]
  },
  {
   "cell_type": "code",
   "execution_count": 4,
   "metadata": {},
   "outputs": [
    {
     "name": "stdout",
     "output_type": "stream",
     "text": [
      ">> Null registers:\n",
      "\n",
      "# clientid: 0 null rows\n",
      "# income: 0 null rows\n",
      "# age: 3 rows\n",
      "# loan: 0 null rows\n",
      "# default: 0 null rows\n"
     ]
    }
   ],
   "source": [
    "inspection._isnull(df)"
   ]
  },
  {
   "cell_type": "code",
   "execution_count": 5,
   "metadata": {},
   "outputs": [
    {
     "name": "stdout",
     "output_type": "stream",
     "text": [
      ">> Describe columns:\n",
      "\n",
      "# clientid:\n",
      "count    2000.000000\n",
      "mean     1000.500000\n",
      "std       577.494589\n",
      "min         1.000000\n",
      "25%       500.750000\n",
      "50%      1000.500000\n",
      "75%      1500.250000\n",
      "max      2000.000000\n",
      "Name: clientid, dtype: float64\n",
      "\n",
      "\n",
      "# income:\n",
      "count     2000.000000\n",
      "mean     45331.600018\n",
      "std      14326.327119\n",
      "min      20014.489470\n",
      "25%      32796.459717\n",
      "50%      45789.117313\n",
      "75%      57791.281668\n",
      "max      69995.685578\n",
      "Name: income, dtype: float64\n",
      "\n",
      "\n",
      "# age:\n",
      "count    1997.000000\n",
      "mean       40.807559\n",
      "std        13.624469\n",
      "min       -52.423280\n",
      "25%        28.990415\n",
      "50%        41.317159\n",
      "75%        52.587040\n",
      "max        63.971796\n",
      "Name: age, dtype: float64\n",
      "\n",
      "\n",
      "# loan:\n",
      "count     2000.000000\n",
      "mean      4444.369695\n",
      "std       3045.410024\n",
      "min          1.377630\n",
      "25%       1939.708847\n",
      "50%       3974.719419\n",
      "75%       6432.410625\n",
      "max      13766.051239\n",
      "Name: loan, dtype: float64\n",
      "\n",
      "\n",
      "# default:\n",
      "count    2000.000000\n",
      "mean        0.141500\n",
      "std         0.348624\n",
      "min         0.000000\n",
      "25%         0.000000\n",
      "50%         0.000000\n",
      "75%         0.000000\n",
      "max         1.000000\n",
      "Name: default, dtype: float64\n",
      "\n",
      "\n"
     ]
    }
   ],
   "source": [
    "inspection._describe(df)"
   ]
  },
  {
   "cell_type": "code",
   "execution_count": 6,
   "metadata": {},
   "outputs": [
    {
     "data": {
      "text/plain": [
       "40.80755937840458"
      ]
     },
     "execution_count": 6,
     "metadata": {},
     "output_type": "execute_result"
    }
   ],
   "source": [
    "age_mean = df['age'].mean()\n",
    "age_mean"
   ]
  },
  {
   "cell_type": "code",
   "execution_count": 7,
   "metadata": {},
   "outputs": [],
   "source": [
    "df['age'] = df['age'].apply(lambda x: age_mean if x < 0 else x)\n",
    "df['age'] = df['age'].fillna(value=age_mean)"
   ]
  },
  {
   "cell_type": "code",
   "execution_count": 8,
   "metadata": {},
   "outputs": [
    {
     "name": "stdout",
     "output_type": "stream",
     "text": [
      ">> Null registers:\n",
      "\n",
      "# clientid: 0 null rows\n",
      "# income: 0 null rows\n",
      "# age: 0 null rows\n",
      "# loan: 0 null rows\n",
      "# default: 0 null rows\n"
     ]
    }
   ],
   "source": [
    "inspection._isnull(df)"
   ]
  },
  {
   "cell_type": "code",
   "execution_count": 9,
   "metadata": {},
   "outputs": [
    {
     "data": {
      "text/plain": [
       "count    2000.000000\n",
       "mean       40.927340\n",
       "std        13.251871\n",
       "min        18.055189\n",
       "25%        29.102161\n",
       "50%        41.300710\n",
       "75%        52.582340\n",
       "max        63.971796\n",
       "Name: age, dtype: float64"
      ]
     },
     "execution_count": 9,
     "metadata": {},
     "output_type": "execute_result"
    }
   ],
   "source": [
    "df['age'].describe()"
   ]
  },
  {
   "cell_type": "code",
   "execution_count": 59,
   "metadata": {
    "scrolled": true
   },
   "outputs": [
    {
     "data": {
      "application/javascript": [
       "/* Put everything inside the global mpl namespace */\n",
       "/* global mpl */\n",
       "window.mpl = {};\n",
       "\n",
       "mpl.get_websocket_type = function () {\n",
       "    if (typeof WebSocket !== 'undefined') {\n",
       "        return WebSocket;\n",
       "    } else if (typeof MozWebSocket !== 'undefined') {\n",
       "        return MozWebSocket;\n",
       "    } else {\n",
       "        alert(\n",
       "            'Your browser does not have WebSocket support. ' +\n",
       "                'Please try Chrome, Safari or Firefox ≥ 6. ' +\n",
       "                'Firefox 4 and 5 are also supported but you ' +\n",
       "                'have to enable WebSockets in about:config.'\n",
       "        );\n",
       "    }\n",
       "};\n",
       "\n",
       "mpl.figure = function (figure_id, websocket, ondownload, parent_element) {\n",
       "    this.id = figure_id;\n",
       "\n",
       "    this.ws = websocket;\n",
       "\n",
       "    this.supports_binary = this.ws.binaryType !== undefined;\n",
       "\n",
       "    if (!this.supports_binary) {\n",
       "        var warnings = document.getElementById('mpl-warnings');\n",
       "        if (warnings) {\n",
       "            warnings.style.display = 'block';\n",
       "            warnings.textContent =\n",
       "                'This browser does not support binary websocket messages. ' +\n",
       "                'Performance may be slow.';\n",
       "        }\n",
       "    }\n",
       "\n",
       "    this.imageObj = new Image();\n",
       "\n",
       "    this.context = undefined;\n",
       "    this.message = undefined;\n",
       "    this.canvas = undefined;\n",
       "    this.rubberband_canvas = undefined;\n",
       "    this.rubberband_context = undefined;\n",
       "    this.format_dropdown = undefined;\n",
       "\n",
       "    this.image_mode = 'full';\n",
       "\n",
       "    this.root = document.createElement('div');\n",
       "    this.root.setAttribute('style', 'display: inline-block');\n",
       "    this._root_extra_style(this.root);\n",
       "\n",
       "    parent_element.appendChild(this.root);\n",
       "\n",
       "    this._init_header(this);\n",
       "    this._init_canvas(this);\n",
       "    this._init_toolbar(this);\n",
       "\n",
       "    var fig = this;\n",
       "\n",
       "    this.waiting = false;\n",
       "\n",
       "    this.ws.onopen = function () {\n",
       "        fig.send_message('supports_binary', { value: fig.supports_binary });\n",
       "        fig.send_message('send_image_mode', {});\n",
       "        if (fig.ratio !== 1) {\n",
       "            fig.send_message('set_dpi_ratio', { dpi_ratio: fig.ratio });\n",
       "        }\n",
       "        fig.send_message('refresh', {});\n",
       "    };\n",
       "\n",
       "    this.imageObj.onload = function () {\n",
       "        if (fig.image_mode === 'full') {\n",
       "            // Full images could contain transparency (where diff images\n",
       "            // almost always do), so we need to clear the canvas so that\n",
       "            // there is no ghosting.\n",
       "            fig.context.clearRect(0, 0, fig.canvas.width, fig.canvas.height);\n",
       "        }\n",
       "        fig.context.drawImage(fig.imageObj, 0, 0);\n",
       "    };\n",
       "\n",
       "    this.imageObj.onunload = function () {\n",
       "        fig.ws.close();\n",
       "    };\n",
       "\n",
       "    this.ws.onmessage = this._make_on_message_function(this);\n",
       "\n",
       "    this.ondownload = ondownload;\n",
       "};\n",
       "\n",
       "mpl.figure.prototype._init_header = function () {\n",
       "    var titlebar = document.createElement('div');\n",
       "    titlebar.classList =\n",
       "        'ui-dialog-titlebar ui-widget-header ui-corner-all ui-helper-clearfix';\n",
       "    var titletext = document.createElement('div');\n",
       "    titletext.classList = 'ui-dialog-title';\n",
       "    titletext.setAttribute(\n",
       "        'style',\n",
       "        'width: 100%; text-align: center; padding: 3px;'\n",
       "    );\n",
       "    titlebar.appendChild(titletext);\n",
       "    this.root.appendChild(titlebar);\n",
       "    this.header = titletext;\n",
       "};\n",
       "\n",
       "mpl.figure.prototype._canvas_extra_style = function (_canvas_div) {};\n",
       "\n",
       "mpl.figure.prototype._root_extra_style = function (_canvas_div) {};\n",
       "\n",
       "mpl.figure.prototype._init_canvas = function () {\n",
       "    var fig = this;\n",
       "\n",
       "    var canvas_div = (this.canvas_div = document.createElement('div'));\n",
       "    canvas_div.setAttribute(\n",
       "        'style',\n",
       "        'border: 1px solid #ddd;' +\n",
       "            'box-sizing: content-box;' +\n",
       "            'clear: both;' +\n",
       "            'min-height: 1px;' +\n",
       "            'min-width: 1px;' +\n",
       "            'outline: 0;' +\n",
       "            'overflow: hidden;' +\n",
       "            'position: relative;' +\n",
       "            'resize: both;'\n",
       "    );\n",
       "\n",
       "    function on_keyboard_event_closure(name) {\n",
       "        return function (event) {\n",
       "            return fig.key_event(event, name);\n",
       "        };\n",
       "    }\n",
       "\n",
       "    canvas_div.addEventListener(\n",
       "        'keydown',\n",
       "        on_keyboard_event_closure('key_press')\n",
       "    );\n",
       "    canvas_div.addEventListener(\n",
       "        'keyup',\n",
       "        on_keyboard_event_closure('key_release')\n",
       "    );\n",
       "\n",
       "    this._canvas_extra_style(canvas_div);\n",
       "    this.root.appendChild(canvas_div);\n",
       "\n",
       "    var canvas = (this.canvas = document.createElement('canvas'));\n",
       "    canvas.classList.add('mpl-canvas');\n",
       "    canvas.setAttribute('style', 'box-sizing: content-box;');\n",
       "\n",
       "    this.context = canvas.getContext('2d');\n",
       "\n",
       "    var backingStore =\n",
       "        this.context.backingStorePixelRatio ||\n",
       "        this.context.webkitBackingStorePixelRatio ||\n",
       "        this.context.mozBackingStorePixelRatio ||\n",
       "        this.context.msBackingStorePixelRatio ||\n",
       "        this.context.oBackingStorePixelRatio ||\n",
       "        this.context.backingStorePixelRatio ||\n",
       "        1;\n",
       "\n",
       "    this.ratio = (window.devicePixelRatio || 1) / backingStore;\n",
       "    if (this.ratio !== 1) {\n",
       "        fig.send_message('set_dpi_ratio', { dpi_ratio: this.ratio });\n",
       "    }\n",
       "\n",
       "    var rubberband_canvas = (this.rubberband_canvas = document.createElement(\n",
       "        'canvas'\n",
       "    ));\n",
       "    rubberband_canvas.setAttribute(\n",
       "        'style',\n",
       "        'box-sizing: content-box; position: absolute; left: 0; top: 0; z-index: 1;'\n",
       "    );\n",
       "\n",
       "    // Apply a ponyfill if ResizeObserver is not implemented by browser.\n",
       "    if (this.ResizeObserver === undefined) {\n",
       "        if (window.ResizeObserver !== undefined) {\n",
       "            this.ResizeObserver = window.ResizeObserver;\n",
       "        } else {\n",
       "            var obs = _JSXTOOLS_RESIZE_OBSERVER({});\n",
       "            this.ResizeObserver = obs.ResizeObserver;\n",
       "        }\n",
       "    }\n",
       "\n",
       "    this.resizeObserverInstance = new this.ResizeObserver(function (entries) {\n",
       "        var nentries = entries.length;\n",
       "        for (var i = 0; i < nentries; i++) {\n",
       "            var entry = entries[i];\n",
       "            var width, height;\n",
       "            if (entry.contentBoxSize) {\n",
       "                if (entry.contentBoxSize instanceof Array) {\n",
       "                    // Chrome 84 implements new version of spec.\n",
       "                    width = entry.contentBoxSize[0].inlineSize;\n",
       "                    height = entry.contentBoxSize[0].blockSize;\n",
       "                } else {\n",
       "                    // Firefox implements old version of spec.\n",
       "                    width = entry.contentBoxSize.inlineSize;\n",
       "                    height = entry.contentBoxSize.blockSize;\n",
       "                }\n",
       "            } else {\n",
       "                // Chrome <84 implements even older version of spec.\n",
       "                width = entry.contentRect.width;\n",
       "                height = entry.contentRect.height;\n",
       "            }\n",
       "\n",
       "            // Keep the size of the canvas and rubber band canvas in sync with\n",
       "            // the canvas container.\n",
       "            if (entry.devicePixelContentBoxSize) {\n",
       "                // Chrome 84 implements new version of spec.\n",
       "                canvas.setAttribute(\n",
       "                    'width',\n",
       "                    entry.devicePixelContentBoxSize[0].inlineSize\n",
       "                );\n",
       "                canvas.setAttribute(\n",
       "                    'height',\n",
       "                    entry.devicePixelContentBoxSize[0].blockSize\n",
       "                );\n",
       "            } else {\n",
       "                canvas.setAttribute('width', width * fig.ratio);\n",
       "                canvas.setAttribute('height', height * fig.ratio);\n",
       "            }\n",
       "            canvas.setAttribute(\n",
       "                'style',\n",
       "                'width: ' + width + 'px; height: ' + height + 'px;'\n",
       "            );\n",
       "\n",
       "            rubberband_canvas.setAttribute('width', width);\n",
       "            rubberband_canvas.setAttribute('height', height);\n",
       "\n",
       "            // And update the size in Python. We ignore the initial 0/0 size\n",
       "            // that occurs as the element is placed into the DOM, which should\n",
       "            // otherwise not happen due to the minimum size styling.\n",
       "            if (width != 0 && height != 0) {\n",
       "                fig.request_resize(width, height);\n",
       "            }\n",
       "        }\n",
       "    });\n",
       "    this.resizeObserverInstance.observe(canvas_div);\n",
       "\n",
       "    function on_mouse_event_closure(name) {\n",
       "        return function (event) {\n",
       "            return fig.mouse_event(event, name);\n",
       "        };\n",
       "    }\n",
       "\n",
       "    rubberband_canvas.addEventListener(\n",
       "        'mousedown',\n",
       "        on_mouse_event_closure('button_press')\n",
       "    );\n",
       "    rubberband_canvas.addEventListener(\n",
       "        'mouseup',\n",
       "        on_mouse_event_closure('button_release')\n",
       "    );\n",
       "    // Throttle sequential mouse events to 1 every 20ms.\n",
       "    rubberband_canvas.addEventListener(\n",
       "        'mousemove',\n",
       "        on_mouse_event_closure('motion_notify')\n",
       "    );\n",
       "\n",
       "    rubberband_canvas.addEventListener(\n",
       "        'mouseenter',\n",
       "        on_mouse_event_closure('figure_enter')\n",
       "    );\n",
       "    rubberband_canvas.addEventListener(\n",
       "        'mouseleave',\n",
       "        on_mouse_event_closure('figure_leave')\n",
       "    );\n",
       "\n",
       "    canvas_div.addEventListener('wheel', function (event) {\n",
       "        if (event.deltaY < 0) {\n",
       "            event.step = 1;\n",
       "        } else {\n",
       "            event.step = -1;\n",
       "        }\n",
       "        on_mouse_event_closure('scroll')(event);\n",
       "    });\n",
       "\n",
       "    canvas_div.appendChild(canvas);\n",
       "    canvas_div.appendChild(rubberband_canvas);\n",
       "\n",
       "    this.rubberband_context = rubberband_canvas.getContext('2d');\n",
       "    this.rubberband_context.strokeStyle = '#000000';\n",
       "\n",
       "    this._resize_canvas = function (width, height, forward) {\n",
       "        if (forward) {\n",
       "            canvas_div.style.width = width + 'px';\n",
       "            canvas_div.style.height = height + 'px';\n",
       "        }\n",
       "    };\n",
       "\n",
       "    // Disable right mouse context menu.\n",
       "    this.rubberband_canvas.addEventListener('contextmenu', function (_e) {\n",
       "        event.preventDefault();\n",
       "        return false;\n",
       "    });\n",
       "\n",
       "    function set_focus() {\n",
       "        canvas.focus();\n",
       "        canvas_div.focus();\n",
       "    }\n",
       "\n",
       "    window.setTimeout(set_focus, 100);\n",
       "};\n",
       "\n",
       "mpl.figure.prototype._init_toolbar = function () {\n",
       "    var fig = this;\n",
       "\n",
       "    var toolbar = document.createElement('div');\n",
       "    toolbar.classList = 'mpl-toolbar';\n",
       "    this.root.appendChild(toolbar);\n",
       "\n",
       "    function on_click_closure(name) {\n",
       "        return function (_event) {\n",
       "            return fig.toolbar_button_onclick(name);\n",
       "        };\n",
       "    }\n",
       "\n",
       "    function on_mouseover_closure(tooltip) {\n",
       "        return function (event) {\n",
       "            if (!event.currentTarget.disabled) {\n",
       "                return fig.toolbar_button_onmouseover(tooltip);\n",
       "            }\n",
       "        };\n",
       "    }\n",
       "\n",
       "    fig.buttons = {};\n",
       "    var buttonGroup = document.createElement('div');\n",
       "    buttonGroup.classList = 'mpl-button-group';\n",
       "    for (var toolbar_ind in mpl.toolbar_items) {\n",
       "        var name = mpl.toolbar_items[toolbar_ind][0];\n",
       "        var tooltip = mpl.toolbar_items[toolbar_ind][1];\n",
       "        var image = mpl.toolbar_items[toolbar_ind][2];\n",
       "        var method_name = mpl.toolbar_items[toolbar_ind][3];\n",
       "\n",
       "        if (!name) {\n",
       "            /* Instead of a spacer, we start a new button group. */\n",
       "            if (buttonGroup.hasChildNodes()) {\n",
       "                toolbar.appendChild(buttonGroup);\n",
       "            }\n",
       "            buttonGroup = document.createElement('div');\n",
       "            buttonGroup.classList = 'mpl-button-group';\n",
       "            continue;\n",
       "        }\n",
       "\n",
       "        var button = (fig.buttons[name] = document.createElement('button'));\n",
       "        button.classList = 'mpl-widget';\n",
       "        button.setAttribute('role', 'button');\n",
       "        button.setAttribute('aria-disabled', 'false');\n",
       "        button.addEventListener('click', on_click_closure(method_name));\n",
       "        button.addEventListener('mouseover', on_mouseover_closure(tooltip));\n",
       "\n",
       "        var icon_img = document.createElement('img');\n",
       "        icon_img.src = '_images/' + image + '.png';\n",
       "        icon_img.srcset = '_images/' + image + '_large.png 2x';\n",
       "        icon_img.alt = tooltip;\n",
       "        button.appendChild(icon_img);\n",
       "\n",
       "        buttonGroup.appendChild(button);\n",
       "    }\n",
       "\n",
       "    if (buttonGroup.hasChildNodes()) {\n",
       "        toolbar.appendChild(buttonGroup);\n",
       "    }\n",
       "\n",
       "    var fmt_picker = document.createElement('select');\n",
       "    fmt_picker.classList = 'mpl-widget';\n",
       "    toolbar.appendChild(fmt_picker);\n",
       "    this.format_dropdown = fmt_picker;\n",
       "\n",
       "    for (var ind in mpl.extensions) {\n",
       "        var fmt = mpl.extensions[ind];\n",
       "        var option = document.createElement('option');\n",
       "        option.selected = fmt === mpl.default_extension;\n",
       "        option.innerHTML = fmt;\n",
       "        fmt_picker.appendChild(option);\n",
       "    }\n",
       "\n",
       "    var status_bar = document.createElement('span');\n",
       "    status_bar.classList = 'mpl-message';\n",
       "    toolbar.appendChild(status_bar);\n",
       "    this.message = status_bar;\n",
       "};\n",
       "\n",
       "mpl.figure.prototype.request_resize = function (x_pixels, y_pixels) {\n",
       "    // Request matplotlib to resize the figure. Matplotlib will then trigger a resize in the client,\n",
       "    // which will in turn request a refresh of the image.\n",
       "    this.send_message('resize', { width: x_pixels, height: y_pixels });\n",
       "};\n",
       "\n",
       "mpl.figure.prototype.send_message = function (type, properties) {\n",
       "    properties['type'] = type;\n",
       "    properties['figure_id'] = this.id;\n",
       "    this.ws.send(JSON.stringify(properties));\n",
       "};\n",
       "\n",
       "mpl.figure.prototype.send_draw_message = function () {\n",
       "    if (!this.waiting) {\n",
       "        this.waiting = true;\n",
       "        this.ws.send(JSON.stringify({ type: 'draw', figure_id: this.id }));\n",
       "    }\n",
       "};\n",
       "\n",
       "mpl.figure.prototype.handle_save = function (fig, _msg) {\n",
       "    var format_dropdown = fig.format_dropdown;\n",
       "    var format = format_dropdown.options[format_dropdown.selectedIndex].value;\n",
       "    fig.ondownload(fig, format);\n",
       "};\n",
       "\n",
       "mpl.figure.prototype.handle_resize = function (fig, msg) {\n",
       "    var size = msg['size'];\n",
       "    if (size[0] !== fig.canvas.width || size[1] !== fig.canvas.height) {\n",
       "        fig._resize_canvas(size[0], size[1], msg['forward']);\n",
       "        fig.send_message('refresh', {});\n",
       "    }\n",
       "};\n",
       "\n",
       "mpl.figure.prototype.handle_rubberband = function (fig, msg) {\n",
       "    var x0 = msg['x0'] / fig.ratio;\n",
       "    var y0 = (fig.canvas.height - msg['y0']) / fig.ratio;\n",
       "    var x1 = msg['x1'] / fig.ratio;\n",
       "    var y1 = (fig.canvas.height - msg['y1']) / fig.ratio;\n",
       "    x0 = Math.floor(x0) + 0.5;\n",
       "    y0 = Math.floor(y0) + 0.5;\n",
       "    x1 = Math.floor(x1) + 0.5;\n",
       "    y1 = Math.floor(y1) + 0.5;\n",
       "    var min_x = Math.min(x0, x1);\n",
       "    var min_y = Math.min(y0, y1);\n",
       "    var width = Math.abs(x1 - x0);\n",
       "    var height = Math.abs(y1 - y0);\n",
       "\n",
       "    fig.rubberband_context.clearRect(\n",
       "        0,\n",
       "        0,\n",
       "        fig.canvas.width / fig.ratio,\n",
       "        fig.canvas.height / fig.ratio\n",
       "    );\n",
       "\n",
       "    fig.rubberband_context.strokeRect(min_x, min_y, width, height);\n",
       "};\n",
       "\n",
       "mpl.figure.prototype.handle_figure_label = function (fig, msg) {\n",
       "    // Updates the figure title.\n",
       "    fig.header.textContent = msg['label'];\n",
       "};\n",
       "\n",
       "mpl.figure.prototype.handle_cursor = function (fig, msg) {\n",
       "    var cursor = msg['cursor'];\n",
       "    switch (cursor) {\n",
       "        case 0:\n",
       "            cursor = 'pointer';\n",
       "            break;\n",
       "        case 1:\n",
       "            cursor = 'default';\n",
       "            break;\n",
       "        case 2:\n",
       "            cursor = 'crosshair';\n",
       "            break;\n",
       "        case 3:\n",
       "            cursor = 'move';\n",
       "            break;\n",
       "    }\n",
       "    fig.rubberband_canvas.style.cursor = cursor;\n",
       "};\n",
       "\n",
       "mpl.figure.prototype.handle_message = function (fig, msg) {\n",
       "    fig.message.textContent = msg['message'];\n",
       "};\n",
       "\n",
       "mpl.figure.prototype.handle_draw = function (fig, _msg) {\n",
       "    // Request the server to send over a new figure.\n",
       "    fig.send_draw_message();\n",
       "};\n",
       "\n",
       "mpl.figure.prototype.handle_image_mode = function (fig, msg) {\n",
       "    fig.image_mode = msg['mode'];\n",
       "};\n",
       "\n",
       "mpl.figure.prototype.handle_history_buttons = function (fig, msg) {\n",
       "    for (var key in msg) {\n",
       "        if (!(key in fig.buttons)) {\n",
       "            continue;\n",
       "        }\n",
       "        fig.buttons[key].disabled = !msg[key];\n",
       "        fig.buttons[key].setAttribute('aria-disabled', !msg[key]);\n",
       "    }\n",
       "};\n",
       "\n",
       "mpl.figure.prototype.handle_navigate_mode = function (fig, msg) {\n",
       "    if (msg['mode'] === 'PAN') {\n",
       "        fig.buttons['Pan'].classList.add('active');\n",
       "        fig.buttons['Zoom'].classList.remove('active');\n",
       "    } else if (msg['mode'] === 'ZOOM') {\n",
       "        fig.buttons['Pan'].classList.remove('active');\n",
       "        fig.buttons['Zoom'].classList.add('active');\n",
       "    } else {\n",
       "        fig.buttons['Pan'].classList.remove('active');\n",
       "        fig.buttons['Zoom'].classList.remove('active');\n",
       "    }\n",
       "};\n",
       "\n",
       "mpl.figure.prototype.updated_canvas_event = function () {\n",
       "    // Called whenever the canvas gets updated.\n",
       "    this.send_message('ack', {});\n",
       "};\n",
       "\n",
       "// A function to construct a web socket function for onmessage handling.\n",
       "// Called in the figure constructor.\n",
       "mpl.figure.prototype._make_on_message_function = function (fig) {\n",
       "    return function socket_on_message(evt) {\n",
       "        if (evt.data instanceof Blob) {\n",
       "            /* FIXME: We get \"Resource interpreted as Image but\n",
       "             * transferred with MIME type text/plain:\" errors on\n",
       "             * Chrome.  But how to set the MIME type?  It doesn't seem\n",
       "             * to be part of the websocket stream */\n",
       "            evt.data.type = 'image/png';\n",
       "\n",
       "            /* Free the memory for the previous frames */\n",
       "            if (fig.imageObj.src) {\n",
       "                (window.URL || window.webkitURL).revokeObjectURL(\n",
       "                    fig.imageObj.src\n",
       "                );\n",
       "            }\n",
       "\n",
       "            fig.imageObj.src = (window.URL || window.webkitURL).createObjectURL(\n",
       "                evt.data\n",
       "            );\n",
       "            fig.updated_canvas_event();\n",
       "            fig.waiting = false;\n",
       "            return;\n",
       "        } else if (\n",
       "            typeof evt.data === 'string' &&\n",
       "            evt.data.slice(0, 21) === 'data:image/png;base64'\n",
       "        ) {\n",
       "            fig.imageObj.src = evt.data;\n",
       "            fig.updated_canvas_event();\n",
       "            fig.waiting = false;\n",
       "            return;\n",
       "        }\n",
       "\n",
       "        var msg = JSON.parse(evt.data);\n",
       "        var msg_type = msg['type'];\n",
       "\n",
       "        // Call the  \"handle_{type}\" callback, which takes\n",
       "        // the figure and JSON message as its only arguments.\n",
       "        try {\n",
       "            var callback = fig['handle_' + msg_type];\n",
       "        } catch (e) {\n",
       "            console.log(\n",
       "                \"No handler for the '\" + msg_type + \"' message type: \",\n",
       "                msg\n",
       "            );\n",
       "            return;\n",
       "        }\n",
       "\n",
       "        if (callback) {\n",
       "            try {\n",
       "                // console.log(\"Handling '\" + msg_type + \"' message: \", msg);\n",
       "                callback(fig, msg);\n",
       "            } catch (e) {\n",
       "                console.log(\n",
       "                    \"Exception inside the 'handler_\" + msg_type + \"' callback:\",\n",
       "                    e,\n",
       "                    e.stack,\n",
       "                    msg\n",
       "                );\n",
       "            }\n",
       "        }\n",
       "    };\n",
       "};\n",
       "\n",
       "// from http://stackoverflow.com/questions/1114465/getting-mouse-location-in-canvas\n",
       "mpl.findpos = function (e) {\n",
       "    //this section is from http://www.quirksmode.org/js/events_properties.html\n",
       "    var targ;\n",
       "    if (!e) {\n",
       "        e = window.event;\n",
       "    }\n",
       "    if (e.target) {\n",
       "        targ = e.target;\n",
       "    } else if (e.srcElement) {\n",
       "        targ = e.srcElement;\n",
       "    }\n",
       "    if (targ.nodeType === 3) {\n",
       "        // defeat Safari bug\n",
       "        targ = targ.parentNode;\n",
       "    }\n",
       "\n",
       "    // pageX,Y are the mouse positions relative to the document\n",
       "    var boundingRect = targ.getBoundingClientRect();\n",
       "    var x = e.pageX - (boundingRect.left + document.body.scrollLeft);\n",
       "    var y = e.pageY - (boundingRect.top + document.body.scrollTop);\n",
       "\n",
       "    return { x: x, y: y };\n",
       "};\n",
       "\n",
       "/*\n",
       " * return a copy of an object with only non-object keys\n",
       " * we need this to avoid circular references\n",
       " * http://stackoverflow.com/a/24161582/3208463\n",
       " */\n",
       "function simpleKeys(original) {\n",
       "    return Object.keys(original).reduce(function (obj, key) {\n",
       "        if (typeof original[key] !== 'object') {\n",
       "            obj[key] = original[key];\n",
       "        }\n",
       "        return obj;\n",
       "    }, {});\n",
       "}\n",
       "\n",
       "mpl.figure.prototype.mouse_event = function (event, name) {\n",
       "    var canvas_pos = mpl.findpos(event);\n",
       "\n",
       "    if (name === 'button_press') {\n",
       "        this.canvas.focus();\n",
       "        this.canvas_div.focus();\n",
       "    }\n",
       "\n",
       "    var x = canvas_pos.x * this.ratio;\n",
       "    var y = canvas_pos.y * this.ratio;\n",
       "\n",
       "    this.send_message(name, {\n",
       "        x: x,\n",
       "        y: y,\n",
       "        button: event.button,\n",
       "        step: event.step,\n",
       "        guiEvent: simpleKeys(event),\n",
       "    });\n",
       "\n",
       "    /* This prevents the web browser from automatically changing to\n",
       "     * the text insertion cursor when the button is pressed.  We want\n",
       "     * to control all of the cursor setting manually through the\n",
       "     * 'cursor' event from matplotlib */\n",
       "    event.preventDefault();\n",
       "    return false;\n",
       "};\n",
       "\n",
       "mpl.figure.prototype._key_event_extra = function (_event, _name) {\n",
       "    // Handle any extra behaviour associated with a key event\n",
       "};\n",
       "\n",
       "mpl.figure.prototype.key_event = function (event, name) {\n",
       "    // Prevent repeat events\n",
       "    if (name === 'key_press') {\n",
       "        if (event.which === this._key) {\n",
       "            return;\n",
       "        } else {\n",
       "            this._key = event.which;\n",
       "        }\n",
       "    }\n",
       "    if (name === 'key_release') {\n",
       "        this._key = null;\n",
       "    }\n",
       "\n",
       "    var value = '';\n",
       "    if (event.ctrlKey && event.which !== 17) {\n",
       "        value += 'ctrl+';\n",
       "    }\n",
       "    if (event.altKey && event.which !== 18) {\n",
       "        value += 'alt+';\n",
       "    }\n",
       "    if (event.shiftKey && event.which !== 16) {\n",
       "        value += 'shift+';\n",
       "    }\n",
       "\n",
       "    value += 'k';\n",
       "    value += event.which.toString();\n",
       "\n",
       "    this._key_event_extra(event, name);\n",
       "\n",
       "    this.send_message(name, { key: value, guiEvent: simpleKeys(event) });\n",
       "    return false;\n",
       "};\n",
       "\n",
       "mpl.figure.prototype.toolbar_button_onclick = function (name) {\n",
       "    if (name === 'download') {\n",
       "        this.handle_save(this, null);\n",
       "    } else {\n",
       "        this.send_message('toolbar_button', { name: name });\n",
       "    }\n",
       "};\n",
       "\n",
       "mpl.figure.prototype.toolbar_button_onmouseover = function (tooltip) {\n",
       "    this.message.textContent = tooltip;\n",
       "};\n",
       "\n",
       "///////////////// REMAINING CONTENT GENERATED BY embed_js.py /////////////////\n",
       "// prettier-ignore\n",
       "var _JSXTOOLS_RESIZE_OBSERVER=function(A){var t,i=new WeakMap,n=new WeakMap,a=new WeakMap,r=new WeakMap,o=new Set;function s(e){if(!(this instanceof s))throw new TypeError(\"Constructor requires 'new' operator\");i.set(this,e)}function h(){throw new TypeError(\"Function is not a constructor\")}function c(e,t,i,n){e=0 in arguments?Number(arguments[0]):0,t=1 in arguments?Number(arguments[1]):0,i=2 in arguments?Number(arguments[2]):0,n=3 in arguments?Number(arguments[3]):0,this.right=(this.x=this.left=e)+(this.width=i),this.bottom=(this.y=this.top=t)+(this.height=n),Object.freeze(this)}function d(){t=requestAnimationFrame(d);var s=new WeakMap,p=new Set;o.forEach((function(t){r.get(t).forEach((function(i){var r=t instanceof window.SVGElement,o=a.get(t),d=r?0:parseFloat(o.paddingTop),f=r?0:parseFloat(o.paddingRight),l=r?0:parseFloat(o.paddingBottom),u=r?0:parseFloat(o.paddingLeft),g=r?0:parseFloat(o.borderTopWidth),m=r?0:parseFloat(o.borderRightWidth),w=r?0:parseFloat(o.borderBottomWidth),b=u+f,F=d+l,v=(r?0:parseFloat(o.borderLeftWidth))+m,W=g+w,y=r?0:t.offsetHeight-W-t.clientHeight,E=r?0:t.offsetWidth-v-t.clientWidth,R=b+v,z=F+W,M=r?t.width:parseFloat(o.width)-R-E,O=r?t.height:parseFloat(o.height)-z-y;if(n.has(t)){var k=n.get(t);if(k[0]===M&&k[1]===O)return}n.set(t,[M,O]);var S=Object.create(h.prototype);S.target=t,S.contentRect=new c(u,d,M,O),s.has(i)||(s.set(i,[]),p.add(i)),s.get(i).push(S)}))})),p.forEach((function(e){i.get(e).call(e,s.get(e),e)}))}return s.prototype.observe=function(i){if(i instanceof window.Element){r.has(i)||(r.set(i,new Set),o.add(i),a.set(i,window.getComputedStyle(i)));var n=r.get(i);n.has(this)||n.add(this),cancelAnimationFrame(t),t=requestAnimationFrame(d)}},s.prototype.unobserve=function(i){if(i instanceof window.Element&&r.has(i)){var n=r.get(i);n.has(this)&&(n.delete(this),n.size||(r.delete(i),o.delete(i))),n.size||r.delete(i),o.size||cancelAnimationFrame(t)}},A.DOMRectReadOnly=c,A.ResizeObserver=s,A.ResizeObserverEntry=h,A}; // eslint-disable-line\n",
       "mpl.toolbar_items = [[\"Home\", \"Reset original view\", \"fa fa-home icon-home\", \"home\"], [\"Back\", \"Back to previous view\", \"fa fa-arrow-left icon-arrow-left\", \"back\"], [\"Forward\", \"Forward to next view\", \"fa fa-arrow-right icon-arrow-right\", \"forward\"], [\"\", \"\", \"\", \"\"], [\"Pan\", \"Left button pans, Right button zooms\\nx/y fixes axis, CTRL fixes aspect\", \"fa fa-arrows icon-move\", \"pan\"], [\"Zoom\", \"Zoom to rectangle\\nx/y fixes axis, CTRL fixes aspect\", \"fa fa-square-o icon-check-empty\", \"zoom\"], [\"\", \"\", \"\", \"\"], [\"Download\", \"Download plot\", \"fa fa-floppy-o icon-save\", \"download\"]];\n",
       "\n",
       "mpl.extensions = [\"eps\", \"jpeg\", \"pdf\", \"png\", \"ps\", \"raw\", \"svg\", \"tif\"];\n",
       "\n",
       "mpl.default_extension = \"png\";/* global mpl */\n",
       "\n",
       "var comm_websocket_adapter = function (comm) {\n",
       "    // Create a \"websocket\"-like object which calls the given IPython comm\n",
       "    // object with the appropriate methods. Currently this is a non binary\n",
       "    // socket, so there is still some room for performance tuning.\n",
       "    var ws = {};\n",
       "\n",
       "    ws.close = function () {\n",
       "        comm.close();\n",
       "    };\n",
       "    ws.send = function (m) {\n",
       "        //console.log('sending', m);\n",
       "        comm.send(m);\n",
       "    };\n",
       "    // Register the callback with on_msg.\n",
       "    comm.on_msg(function (msg) {\n",
       "        //console.log('receiving', msg['content']['data'], msg);\n",
       "        // Pass the mpl event to the overridden (by mpl) onmessage function.\n",
       "        ws.onmessage(msg['content']['data']);\n",
       "    });\n",
       "    return ws;\n",
       "};\n",
       "\n",
       "mpl.mpl_figure_comm = function (comm, msg) {\n",
       "    // This is the function which gets called when the mpl process\n",
       "    // starts-up an IPython Comm through the \"matplotlib\" channel.\n",
       "\n",
       "    var id = msg.content.data.id;\n",
       "    // Get hold of the div created by the display call when the Comm\n",
       "    // socket was opened in Python.\n",
       "    var element = document.getElementById(id);\n",
       "    var ws_proxy = comm_websocket_adapter(comm);\n",
       "\n",
       "    function ondownload(figure, _format) {\n",
       "        window.open(figure.canvas.toDataURL());\n",
       "    }\n",
       "\n",
       "    var fig = new mpl.figure(id, ws_proxy, ondownload, element);\n",
       "\n",
       "    // Call onopen now - mpl needs it, as it is assuming we've passed it a real\n",
       "    // web socket which is closed, not our websocket->open comm proxy.\n",
       "    ws_proxy.onopen();\n",
       "\n",
       "    fig.parent_element = element;\n",
       "    fig.cell_info = mpl.find_output_cell(\"<div id='\" + id + \"'></div>\");\n",
       "    if (!fig.cell_info) {\n",
       "        console.error('Failed to find cell for figure', id, fig);\n",
       "        return;\n",
       "    }\n",
       "    fig.cell_info[0].output_area.element.on(\n",
       "        'cleared',\n",
       "        { fig: fig },\n",
       "        fig._remove_fig_handler\n",
       "    );\n",
       "};\n",
       "\n",
       "mpl.figure.prototype.handle_close = function (fig, msg) {\n",
       "    var width = fig.canvas.width / fig.ratio;\n",
       "    fig.cell_info[0].output_area.element.off(\n",
       "        'cleared',\n",
       "        fig._remove_fig_handler\n",
       "    );\n",
       "    fig.resizeObserverInstance.unobserve(fig.canvas_div);\n",
       "\n",
       "    // Update the output cell to use the data from the current canvas.\n",
       "    fig.push_to_output();\n",
       "    var dataURL = fig.canvas.toDataURL();\n",
       "    // Re-enable the keyboard manager in IPython - without this line, in FF,\n",
       "    // the notebook keyboard shortcuts fail.\n",
       "    IPython.keyboard_manager.enable();\n",
       "    fig.parent_element.innerHTML =\n",
       "        '<img src=\"' + dataURL + '\" width=\"' + width + '\">';\n",
       "    fig.close_ws(fig, msg);\n",
       "};\n",
       "\n",
       "mpl.figure.prototype.close_ws = function (fig, msg) {\n",
       "    fig.send_message('closing', msg);\n",
       "    // fig.ws.close()\n",
       "};\n",
       "\n",
       "mpl.figure.prototype.push_to_output = function (_remove_interactive) {\n",
       "    // Turn the data on the canvas into data in the output cell.\n",
       "    var width = this.canvas.width / this.ratio;\n",
       "    var dataURL = this.canvas.toDataURL();\n",
       "    this.cell_info[1]['text/html'] =\n",
       "        '<img src=\"' + dataURL + '\" width=\"' + width + '\">';\n",
       "};\n",
       "\n",
       "mpl.figure.prototype.updated_canvas_event = function () {\n",
       "    // Tell IPython that the notebook contents must change.\n",
       "    IPython.notebook.set_dirty(true);\n",
       "    this.send_message('ack', {});\n",
       "    var fig = this;\n",
       "    // Wait a second, then push the new image to the DOM so\n",
       "    // that it is saved nicely (might be nice to debounce this).\n",
       "    setTimeout(function () {\n",
       "        fig.push_to_output();\n",
       "    }, 1000);\n",
       "};\n",
       "\n",
       "mpl.figure.prototype._init_toolbar = function () {\n",
       "    var fig = this;\n",
       "\n",
       "    var toolbar = document.createElement('div');\n",
       "    toolbar.classList = 'btn-toolbar';\n",
       "    this.root.appendChild(toolbar);\n",
       "\n",
       "    function on_click_closure(name) {\n",
       "        return function (_event) {\n",
       "            return fig.toolbar_button_onclick(name);\n",
       "        };\n",
       "    }\n",
       "\n",
       "    function on_mouseover_closure(tooltip) {\n",
       "        return function (event) {\n",
       "            if (!event.currentTarget.disabled) {\n",
       "                return fig.toolbar_button_onmouseover(tooltip);\n",
       "            }\n",
       "        };\n",
       "    }\n",
       "\n",
       "    fig.buttons = {};\n",
       "    var buttonGroup = document.createElement('div');\n",
       "    buttonGroup.classList = 'btn-group';\n",
       "    var button;\n",
       "    for (var toolbar_ind in mpl.toolbar_items) {\n",
       "        var name = mpl.toolbar_items[toolbar_ind][0];\n",
       "        var tooltip = mpl.toolbar_items[toolbar_ind][1];\n",
       "        var image = mpl.toolbar_items[toolbar_ind][2];\n",
       "        var method_name = mpl.toolbar_items[toolbar_ind][3];\n",
       "\n",
       "        if (!name) {\n",
       "            /* Instead of a spacer, we start a new button group. */\n",
       "            if (buttonGroup.hasChildNodes()) {\n",
       "                toolbar.appendChild(buttonGroup);\n",
       "            }\n",
       "            buttonGroup = document.createElement('div');\n",
       "            buttonGroup.classList = 'btn-group';\n",
       "            continue;\n",
       "        }\n",
       "\n",
       "        button = fig.buttons[name] = document.createElement('button');\n",
       "        button.classList = 'btn btn-default';\n",
       "        button.href = '#';\n",
       "        button.title = name;\n",
       "        button.innerHTML = '<i class=\"fa ' + image + ' fa-lg\"></i>';\n",
       "        button.addEventListener('click', on_click_closure(method_name));\n",
       "        button.addEventListener('mouseover', on_mouseover_closure(tooltip));\n",
       "        buttonGroup.appendChild(button);\n",
       "    }\n",
       "\n",
       "    if (buttonGroup.hasChildNodes()) {\n",
       "        toolbar.appendChild(buttonGroup);\n",
       "    }\n",
       "\n",
       "    // Add the status bar.\n",
       "    var status_bar = document.createElement('span');\n",
       "    status_bar.classList = 'mpl-message pull-right';\n",
       "    toolbar.appendChild(status_bar);\n",
       "    this.message = status_bar;\n",
       "\n",
       "    // Add the close button to the window.\n",
       "    var buttongrp = document.createElement('div');\n",
       "    buttongrp.classList = 'btn-group inline pull-right';\n",
       "    button = document.createElement('button');\n",
       "    button.classList = 'btn btn-mini btn-primary';\n",
       "    button.href = '#';\n",
       "    button.title = 'Stop Interaction';\n",
       "    button.innerHTML = '<i class=\"fa fa-power-off icon-remove icon-large\"></i>';\n",
       "    button.addEventListener('click', function (_evt) {\n",
       "        fig.handle_close(fig, {});\n",
       "    });\n",
       "    button.addEventListener(\n",
       "        'mouseover',\n",
       "        on_mouseover_closure('Stop Interaction')\n",
       "    );\n",
       "    buttongrp.appendChild(button);\n",
       "    var titlebar = this.root.querySelector('.ui-dialog-titlebar');\n",
       "    titlebar.insertBefore(buttongrp, titlebar.firstChild);\n",
       "};\n",
       "\n",
       "mpl.figure.prototype._remove_fig_handler = function (event) {\n",
       "    var fig = event.data.fig;\n",
       "    if (event.target !== this) {\n",
       "        // Ignore bubbled events from children.\n",
       "        return;\n",
       "    }\n",
       "    fig.close_ws(fig, {});\n",
       "};\n",
       "\n",
       "mpl.figure.prototype._root_extra_style = function (el) {\n",
       "    el.style.boxSizing = 'content-box'; // override notebook setting of border-box.\n",
       "};\n",
       "\n",
       "mpl.figure.prototype._canvas_extra_style = function (el) {\n",
       "    // this is important to make the div 'focusable\n",
       "    el.setAttribute('tabindex', 0);\n",
       "    // reach out to IPython and tell the keyboard manager to turn it's self\n",
       "    // off when our div gets focus\n",
       "\n",
       "    // location in version 3\n",
       "    if (IPython.notebook.keyboard_manager) {\n",
       "        IPython.notebook.keyboard_manager.register_events(el);\n",
       "    } else {\n",
       "        // location in version 2\n",
       "        IPython.keyboard_manager.register_events(el);\n",
       "    }\n",
       "};\n",
       "\n",
       "mpl.figure.prototype._key_event_extra = function (event, _name) {\n",
       "    var manager = IPython.notebook.keyboard_manager;\n",
       "    if (!manager) {\n",
       "        manager = IPython.keyboard_manager;\n",
       "    }\n",
       "\n",
       "    // Check for shift+enter\n",
       "    if (event.shiftKey && event.which === 13) {\n",
       "        this.canvas_div.blur();\n",
       "        // select the cell after this one\n",
       "        var index = IPython.notebook.find_cell_index(this.cell_info[0]);\n",
       "        IPython.notebook.select(index + 1);\n",
       "    }\n",
       "};\n",
       "\n",
       "mpl.figure.prototype.handle_save = function (fig, _msg) {\n",
       "    fig.ondownload(fig, null);\n",
       "};\n",
       "\n",
       "mpl.find_output_cell = function (html_output) {\n",
       "    // Return the cell and output element which can be found *uniquely* in the notebook.\n",
       "    // Note - this is a bit hacky, but it is done because the \"notebook_saving.Notebook\"\n",
       "    // IPython event is triggered only after the cells have been serialised, which for\n",
       "    // our purposes (turning an active figure into a static one), is too late.\n",
       "    var cells = IPython.notebook.get_cells();\n",
       "    var ncells = cells.length;\n",
       "    for (var i = 0; i < ncells; i++) {\n",
       "        var cell = cells[i];\n",
       "        if (cell.cell_type === 'code') {\n",
       "            for (var j = 0; j < cell.output_area.outputs.length; j++) {\n",
       "                var data = cell.output_area.outputs[j];\n",
       "                if (data.data) {\n",
       "                    // IPython >= 3 moved mimebundle to data attribute of output\n",
       "                    data = data.data;\n",
       "                }\n",
       "                if (data['text/html'] === html_output) {\n",
       "                    return [cell, data, j];\n",
       "                }\n",
       "            }\n",
       "        }\n",
       "    }\n",
       "};\n",
       "\n",
       "// Register the function which deals with the matplotlib target/channel.\n",
       "// The kernel may be null if the page has been refreshed.\n",
       "if (IPython.notebook.kernel !== null) {\n",
       "    IPython.notebook.kernel.comm_manager.register_target(\n",
       "        'matplotlib',\n",
       "        mpl.mpl_figure_comm\n",
       "    );\n",
       "}\n"
      ],
      "text/plain": [
       "<IPython.core.display.Javascript object>"
      ]
     },
     "metadata": {},
     "output_type": "display_data"
    },
    {
     "data": {
      "text/html": [
       "<img src=\"data:image/png;base64,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\" width=\"640\">"
      ],
      "text/plain": [
       "<IPython.core.display.HTML object>"
      ]
     },
     "metadata": {},
     "output_type": "display_data"
    }
   ],
   "source": [
    "corr = df.drop(labels='clientid', axis=1).corr()\n",
    "sns.heatmap(corr)\n",
    "plt.show()"
   ]
  },
  {
   "cell_type": "code",
   "execution_count": 11,
   "metadata": {},
   "outputs": [
    {
     "data": {
      "text/plain": [
       "((2000, 3), (2000,))"
      ]
     },
     "execution_count": 11,
     "metadata": {},
     "output_type": "execute_result"
    }
   ],
   "source": [
    "x = df.drop(labels=['clientid', 'default'], axis=1)\n",
    "y = df['default']\n",
    "x.shape, y.shape"
   ]
  },
  {
   "cell_type": "markdown",
   "metadata": {},
   "source": [
    "## # Model"
   ]
  },
  {
   "cell_type": "markdown",
   "metadata": {},
   "source": [
    "### ## Self Organize Map"
   ]
  },
  {
   "cell_type": "code",
   "execution_count": 12,
   "metadata": {},
   "outputs": [],
   "source": [
    "from math import sqrt\n",
    "from minisom import MiniSom"
   ]
  },
  {
   "cell_type": "code",
   "execution_count": 13,
   "metadata": {},
   "outputs": [
    {
     "data": {
      "text/plain": [
       "14"
      ]
     },
     "execution_count": 13,
     "metadata": {},
     "output_type": "execute_result"
    }
   ],
   "source": [
    "_xy = 5 * int(sqrt(x.shape[0]))\n",
    "_xy = int(sqrt(_xy))\n",
    "_xy"
   ]
  },
  {
   "cell_type": "code",
   "execution_count": 14,
   "metadata": {},
   "outputs": [],
   "source": [
    "som = MiniSom(x=_xy, y=_xy, input_len=x.shape[1])\n",
    "som.random_weights_init(x.values)\n",
    "som.train_random(data=x.values, num_iteration=100)"
   ]
  },
  {
   "cell_type": "code",
   "execution_count": null,
   "metadata": {},
   "outputs": [],
   "source": []
  },
  {
   "cell_type": "code",
   "execution_count": null,
   "metadata": {},
   "outputs": [],
   "source": []
  },
  {
   "cell_type": "code",
   "execution_count": null,
   "metadata": {},
   "outputs": [],
   "source": []
  },
  {
   "cell_type": "code",
   "execution_count": null,
   "metadata": {},
   "outputs": [],
   "source": []
  },
  {
   "cell_type": "code",
   "execution_count": 15,
   "metadata": {},
   "outputs": [],
   "source": [
    "from pylab import pcolor, colorbar, plot"
   ]
  },
  {
   "cell_type": "code",
   "execution_count": 16,
   "metadata": {},
   "outputs": [
    {
     "data": {
      "text/plain": [
       "<matplotlib.colorbar.Colorbar at 0x7f8db35c75e0>"
      ]
     },
     "execution_count": 16,
     "metadata": {},
     "output_type": "execute_result"
    }
   ],
   "source": [
    "pcolor(som.distance_map().T)\n",
    "colorbar()"
   ]
  },
  {
   "cell_type": "code",
   "execution_count": null,
   "metadata": {},
   "outputs": [],
   "source": []
  },
  {
   "cell_type": "code",
   "execution_count": null,
   "metadata": {},
   "outputs": [],
   "source": []
  },
  {
   "cell_type": "code",
   "execution_count": null,
   "metadata": {},
   "outputs": [],
   "source": []
  },
  {
   "cell_type": "code",
   "execution_count": null,
   "metadata": {},
   "outputs": [],
   "source": []
  },
  {
   "cell_type": "code",
   "execution_count": null,
   "metadata": {},
   "outputs": [],
   "source": []
  },
  {
   "cell_type": "code",
   "execution_count": 17,
   "metadata": {},
   "outputs": [],
   "source": [
    "from sklearn.model_selection import train_test_split\n",
    "from sklearn.metrics import classification_report, confusion_matrix"
   ]
  },
  {
   "cell_type": "code",
   "execution_count": 18,
   "metadata": {},
   "outputs": [
    {
     "data": {
      "text/plain": [
       "((1500, 3), (1500,), (500, 3), (500,))"
      ]
     },
     "execution_count": 18,
     "metadata": {},
     "output_type": "execute_result"
    }
   ],
   "source": [
    "xtrain, xtest, ytrain, ytest = train_test_split(x, y, test_size=0.25, random_state=42)\n",
    "\n",
    "xtrain.shape, ytrain.shape, xtest.shape, ytest.shape"
   ]
  },
  {
   "cell_type": "code",
   "execution_count": 19,
   "metadata": {},
   "outputs": [],
   "source": [
    "model_evaluation = {}"
   ]
  },
  {
   "cell_type": "markdown",
   "metadata": {},
   "source": [
    "### ## Dense NN"
   ]
  },
  {
   "cell_type": "code",
   "execution_count": 20,
   "metadata": {},
   "outputs": [],
   "source": [
    "from keras.backend import clear_session\n",
    "from keras.models import Sequential\n",
    "from keras.layers import Dense, Dropout"
   ]
  },
  {
   "cell_type": "code",
   "execution_count": 21,
   "metadata": {},
   "outputs": [],
   "source": [
    "def model():\n",
    "    clear_session()\n",
    "    model = Sequential()\n",
    "    model.add(Dense(units=32, activation='relu', input_dim=(x.shape[1])))\n",
    "    model.add(Dense(units=1, activation='sigmoid'))\n",
    "    model.compile(optimizer='adam', loss='binary_crossentropy', metrics='binary_accuracy')\n",
    "    return model"
   ]
  },
  {
   "cell_type": "code",
   "execution_count": 22,
   "metadata": {
    "scrolled": true
   },
   "outputs": [
    {
     "data": {
      "text/plain": [
       "<tensorflow.python.keras.callbacks.History at 0x7f8d84426790>"
      ]
     },
     "execution_count": 22,
     "metadata": {},
     "output_type": "execute_result"
    }
   ],
   "source": [
    "clf = model()\n",
    "clf.fit(x=xtrain, y=ytrain, validation_data=(xtest, ytest), epochs=200, verbose=0)"
   ]
  },
  {
   "cell_type": "code",
   "execution_count": 23,
   "metadata": {
    "scrolled": true
   },
   "outputs": [],
   "source": [
    "pred_nn = clf.predict(xtest)\n",
    "pred_nn = [1 if p > 0.5 else 0 for p in pred_nn]"
   ]
  },
  {
   "cell_type": "code",
   "execution_count": 24,
   "metadata": {},
   "outputs": [
    {
     "name": "stdout",
     "output_type": "stream",
     "text": [
      "              precision    recall  f1-score   support\n",
      "\n",
      "           0       0.94      0.94      0.94       422\n",
      "           1       0.68      0.68      0.68        78\n",
      "\n",
      "    accuracy                           0.90       500\n",
      "   macro avg       0.81      0.81      0.81       500\n",
      "weighted avg       0.90      0.90      0.90       500\n",
      "\n"
     ]
    }
   ],
   "source": [
    "_ = classification_report(ytest, pred_nn)\n",
    "print(_)"
   ]
  },
  {
   "cell_type": "code",
   "execution_count": 25,
   "metadata": {},
   "outputs": [],
   "source": [
    "model_evaluation['dense_nn'] = pred_nn"
   ]
  },
  {
   "cell_type": "markdown",
   "metadata": {},
   "source": [
    "### ## K-NN"
   ]
  },
  {
   "cell_type": "code",
   "execution_count": 26,
   "metadata": {},
   "outputs": [],
   "source": [
    "from sklearn.neighbors import KNeighborsClassifier"
   ]
  },
  {
   "cell_type": "code",
   "execution_count": 27,
   "metadata": {},
   "outputs": [],
   "source": [
    "clf = KNeighborsClassifier()"
   ]
  },
  {
   "cell_type": "code",
   "execution_count": 28,
   "metadata": {},
   "outputs": [
    {
     "data": {
      "text/plain": [
       "KNeighborsClassifier()"
      ]
     },
     "execution_count": 28,
     "metadata": {},
     "output_type": "execute_result"
    }
   ],
   "source": [
    "clf.fit(X=xtrain, y=ytrain)"
   ]
  },
  {
   "cell_type": "code",
   "execution_count": 29,
   "metadata": {},
   "outputs": [],
   "source": [
    "pred_knn = clf.predict(xtest)"
   ]
  },
  {
   "cell_type": "code",
   "execution_count": 30,
   "metadata": {},
   "outputs": [
    {
     "name": "stdout",
     "output_type": "stream",
     "text": [
      "              precision    recall  f1-score   support\n",
      "\n",
      "           0       0.87      0.95      0.90       422\n",
      "           1       0.42      0.22      0.29        78\n",
      "\n",
      "    accuracy                           0.83       500\n",
      "   macro avg       0.65      0.58      0.60       500\n",
      "weighted avg       0.80      0.83      0.81       500\n",
      "\n"
     ]
    }
   ],
   "source": [
    "_ = classification_report(ytest, pred_knn)\n",
    "print(_)"
   ]
  },
  {
   "cell_type": "code",
   "execution_count": 31,
   "metadata": {},
   "outputs": [],
   "source": [
    "model_evaluation['knn'] = pred_knn"
   ]
  },
  {
   "cell_type": "markdown",
   "metadata": {},
   "source": [
    "### ## Random Forest"
   ]
  },
  {
   "cell_type": "code",
   "execution_count": 32,
   "metadata": {},
   "outputs": [],
   "source": [
    "from sklearn.ensemble import RandomForestClassifier"
   ]
  },
  {
   "cell_type": "code",
   "execution_count": 33,
   "metadata": {},
   "outputs": [],
   "source": [
    "clf = RandomForestClassifier()"
   ]
  },
  {
   "cell_type": "code",
   "execution_count": 34,
   "metadata": {},
   "outputs": [
    {
     "data": {
      "text/plain": [
       "RandomForestClassifier()"
      ]
     },
     "execution_count": 34,
     "metadata": {},
     "output_type": "execute_result"
    }
   ],
   "source": [
    "clf.fit(X=xtrain, y=ytrain)"
   ]
  },
  {
   "cell_type": "code",
   "execution_count": 35,
   "metadata": {},
   "outputs": [],
   "source": [
    "pred_rforest = clf.predict(xtest)"
   ]
  },
  {
   "cell_type": "code",
   "execution_count": 36,
   "metadata": {},
   "outputs": [
    {
     "name": "stdout",
     "output_type": "stream",
     "text": [
      "              precision    recall  f1-score   support\n",
      "\n",
      "           0       0.98      1.00      0.99       422\n",
      "           1       1.00      0.90      0.95        78\n",
      "\n",
      "    accuracy                           0.98       500\n",
      "   macro avg       0.99      0.95      0.97       500\n",
      "weighted avg       0.98      0.98      0.98       500\n",
      "\n"
     ]
    }
   ],
   "source": [
    "_ = classification_report(ytest, pred_rforest)\n",
    "print(_)"
   ]
  },
  {
   "cell_type": "code",
   "execution_count": 37,
   "metadata": {},
   "outputs": [],
   "source": [
    "model_evaluation['random_forest'] = pred_rforest"
   ]
  },
  {
   "cell_type": "markdown",
   "metadata": {},
   "source": [
    "### ## SVM"
   ]
  },
  {
   "cell_type": "code",
   "execution_count": 38,
   "metadata": {},
   "outputs": [],
   "source": [
    "from sklearn.svm import SVC"
   ]
  },
  {
   "cell_type": "code",
   "execution_count": 39,
   "metadata": {},
   "outputs": [],
   "source": [
    "model = SVC()"
   ]
  },
  {
   "cell_type": "code",
   "execution_count": 40,
   "metadata": {},
   "outputs": [
    {
     "data": {
      "text/plain": [
       "RandomForestClassifier()"
      ]
     },
     "execution_count": 40,
     "metadata": {},
     "output_type": "execute_result"
    }
   ],
   "source": [
    "clf.fit(X=xtrain, y=ytrain)"
   ]
  },
  {
   "cell_type": "code",
   "execution_count": 41,
   "metadata": {},
   "outputs": [],
   "source": [
    "pred_svm = clf.predict(xtest)"
   ]
  },
  {
   "cell_type": "code",
   "execution_count": 42,
   "metadata": {},
   "outputs": [
    {
     "name": "stdout",
     "output_type": "stream",
     "text": [
      "              precision    recall  f1-score   support\n",
      "\n",
      "           0       0.98      1.00      0.99       422\n",
      "           1       1.00      0.88      0.94        78\n",
      "\n",
      "    accuracy                           0.98       500\n",
      "   macro avg       0.99      0.94      0.96       500\n",
      "weighted avg       0.98      0.98      0.98       500\n",
      "\n"
     ]
    }
   ],
   "source": [
    "_ = classification_report(ytest, pred_svm)\n",
    "print(_)"
   ]
  },
  {
   "cell_type": "code",
   "execution_count": 43,
   "metadata": {},
   "outputs": [],
   "source": [
    "model_evaluation['svm'] = pred_svm"
   ]
  },
  {
   "cell_type": "markdown",
   "metadata": {},
   "source": [
    "### ## Logistic Regression"
   ]
  },
  {
   "cell_type": "code",
   "execution_count": 44,
   "metadata": {},
   "outputs": [],
   "source": [
    "from sklearn.linear_model import LogisticRegression"
   ]
  },
  {
   "cell_type": "code",
   "execution_count": 45,
   "metadata": {},
   "outputs": [],
   "source": [
    "clf = LogisticRegression()"
   ]
  },
  {
   "cell_type": "code",
   "execution_count": 46,
   "metadata": {},
   "outputs": [
    {
     "data": {
      "text/plain": [
       "LogisticRegression()"
      ]
     },
     "execution_count": 46,
     "metadata": {},
     "output_type": "execute_result"
    }
   ],
   "source": [
    "clf.fit(X=xtrain, y=ytrain)"
   ]
  },
  {
   "cell_type": "code",
   "execution_count": 47,
   "metadata": {},
   "outputs": [],
   "source": [
    "pred_logreg = clf.predict(xtest)"
   ]
  },
  {
   "cell_type": "code",
   "execution_count": 48,
   "metadata": {},
   "outputs": [
    {
     "name": "stdout",
     "output_type": "stream",
     "text": [
      "              precision    recall  f1-score   support\n",
      "\n",
      "           0       0.92      0.97      0.94       422\n",
      "           1       0.78      0.51      0.62        78\n",
      "\n",
      "    accuracy                           0.90       500\n",
      "   macro avg       0.85      0.74      0.78       500\n",
      "weighted avg       0.89      0.90      0.89       500\n",
      "\n"
     ]
    }
   ],
   "source": [
    "_ = classification_report(ytest, pred_logreg)\n",
    "print(_)"
   ]
  },
  {
   "cell_type": "code",
   "execution_count": 49,
   "metadata": {},
   "outputs": [],
   "source": [
    "model_evaluation['logreg'] = pred_logreg"
   ]
  },
  {
   "cell_type": "markdown",
   "metadata": {},
   "source": [
    "## # Evaluation"
   ]
  },
  {
   "cell_type": "code",
   "execution_count": 50,
   "metadata": {},
   "outputs": [
    {
     "data": {
      "text/plain": [
       "dict_keys(['dense_nn', 'knn', 'random_forest', 'svm', 'logreg'])"
      ]
     },
     "execution_count": 50,
     "metadata": {},
     "output_type": "execute_result"
    }
   ],
   "source": [
    "model_evaluation.keys()"
   ]
  },
  {
   "cell_type": "code",
   "execution_count": 62,
   "metadata": {},
   "outputs": [],
   "source": [
    "%matplotlib inline"
   ]
  },
  {
   "cell_type": "code",
   "execution_count": 67,
   "metadata": {},
   "outputs": [
    {
     "data": {
      "image/png": "[encoded data removed]",
      "text/plain": [
       "<Figure size 432x288 with 1 Axes>"
      ]
     },
     "metadata": {
      "needs_background": "light"
     },
     "output_type": "display_data"
    },
    {
     "data": {
      "image/png": "[encoded data removed]",
      "text/plain": [
       "<Figure size 432x288 with 1 Axes>"
      ]
     },
     "metadata": {
      "needs_background": "light"
     },
     "output_type": "display_data"
    },
    {
     "data": {
      "image/png": "[encoded data removed]",
      "text/plain": [
       "<Figure size 432x288 with 1 Axes>"
      ]
     },
     "metadata": {
      "needs_background": "light"
     },
     "output_type": "display_data"
    },
    {
     "data": {
      "image/png": "[encoded data removed]",
      "text/plain": [
       "<Figure size 432x288 with 1 Axes>"
      ]
     },
     "metadata": {
      "needs_background": "light"
     },
     "output_type": "display_data"
    },
    {
     "data": {
      "image/png": "[encoded data removed]",
      "text/plain": [
       "<Figure size 432x288 with 1 Axes>"
      ]
     },
     "metadata": {
      "needs_background": "light"
     },
     "output_type": "display_data"
    }
   ],
   "source": [
    "for m in model_evaluation:\n",
    "#     plt.plot(ytest.values, color='red', label='real value')\n",
    "#     plt.plot(model_evaluation[m], color='blue', label=m)\n",
    "    plt.plot(ytest.values - model_evaluation[m], color='red', label=f'ytest - {m}')\n",
    "    plt.xlabel('data index')\n",
    "    plt.ylabel('default')\n",
    "    plt.legend()\n",
    "    plt.show()"
   ]
  },
  {
   "cell_type": "code",
   "execution_count": null,
   "metadata": {},
   "outputs": [],
   "source": []
  }
 ],
 "metadata": {
  "kernelspec": {
   "display_name": "Python 3",
   "language": "python",
   "name": "python3"
  },
  "language_info": {
   "codemirror_mode": {
    "name": "ipython",
    "version": 3
   },
   "file_extension": ".py",
   "mimetype": "text/x-python",
   "name": "python",
   "nbconvert_exporter": "python",
   "pygments_lexer": "ipython3",
   "version": "3.8.5"
  }
 },
 "nbformat": 4,
 "nbformat_minor": 4
}
