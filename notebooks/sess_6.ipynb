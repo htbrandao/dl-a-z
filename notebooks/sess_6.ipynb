{
 "cells": [
  {
   "cell_type": "markdown",
   "metadata": {},
   "source": [
    "# Part 6"
   ]
  },
  {
   "cell_type": "markdown",
   "metadata": {},
   "source": [
    "## # Dataset"
   ]
  },
  {
   "cell_type": "code",
   "execution_count": 1,
   "metadata": {},
   "outputs": [],
   "source": [
    "import pandas as pd"
   ]
  },
  {
   "cell_type": "code",
   "execution_count": 2,
   "metadata": {},
   "outputs": [
    {
     "data": {
      "text/plain": [
       "(371528, 20)"
      ]
     },
     "execution_count": 2,
     "metadata": {},
     "output_type": "execute_result"
    }
   ],
   "source": [
    "df = pd.read_csv('../datasets/autos.csv', encoding='ISO-8859-1')\n",
    "df.shape, df.columns"
   ]
  },
  {
   "cell_type": "code",
   "execution_count": 4,
   "metadata": {},
   "outputs": [],
   "source": [
    "def _value_counts(df):\n",
    "    for c in df.columns:\n",
    "        print(f'# {c}:\\n{df[c].value_counts()}\\n\\n')\n",
    "\n",
    "\n",
    "def _describe(df):\n",
    "    for c in df.columns:\n",
    "        print(f'# {c}:\\n{df[c].describe()}\\n\\n')\n",
    "\n",
    "\n",
    "def _isnull(df):\n",
    "    for c in df.columns:\n",
    "        cnt = df[pd.isnull(df[c])].shape[0]\n",
    "        if cnt != 0:\n",
    "            print(f'# {c}: {cnt} rows')    "
   ]
  },
  {
   "cell_type": "code",
   "execution_count": 5,
   "metadata": {
    "scrolled": true
   },
   "outputs": [
    {
     "name": "stdout",
     "output_type": "stream",
     "text": [
      "# dateCrawled:\n",
      "2016-03-24 14:49:47    7\n",
      "2016-03-26 22:57:31    6\n",
      "2016-03-19 21:49:56    6\n",
      "2016-03-31 17:57:07    5\n",
      "2016-03-08 15:50:29    5\n",
      "                      ..\n",
      "2016-03-31 20:39:17    1\n",
      "2016-03-11 07:37:02    1\n",
      "2016-04-04 12:49:33    1\n",
      "2016-03-24 17:52:36    1\n",
      "2016-03-27 14:37:05    1\n",
      "Name: dateCrawled, Length: 280500, dtype: int64\n",
      "\n",
      "\n",
      "# name:\n",
      "Ford_Fiesta                                                  657\n",
      "BMW_318i                                                     627\n",
      "Opel_Corsa                                                   622\n",
      "Volkswagen_Golf_1.4                                          603\n",
      "BMW_316i                                                     523\n",
      "                                                            ... \n",
      "Citroen_Xantia_1600_Nichtraucher_Fahrzeug_Haengerkupplung      1\n",
      "***_ASTRA_H_in_Blau_***                                        1\n",
      "BMW_318i_Limousine_E46_Rentnerfahrzeug_gepfl_Zustand           1\n",
      "Schoener_Astra_G_mit_Neuem_TÜV                                 1\n",
      "Mercedes_benz_E_200_Automatik___Elegance_Mit_Tuev_2/2017       1\n",
      "Name: name, Length: 233531, dtype: int64\n",
      "\n",
      "\n",
      "# seller:\n",
      "privat        371525\n",
      "gewerblich         3\n",
      "Name: seller, dtype: int64\n",
      "\n",
      "\n",
      "# offerType:\n",
      "Angebot    371516\n",
      "Gesuch         12\n",
      "Name: offerType, dtype: int64\n",
      "\n",
      "\n",
      "# price:\n",
      "0         10778\n",
      "500        5670\n",
      "1500       5394\n",
      "1000       4649\n",
      "1200       4594\n",
      "          ...  \n",
      "23456         1\n",
      "171000        1\n",
      "21830         1\n",
      "13485         1\n",
      "8188          1\n",
      "Name: price, Length: 5597, dtype: int64\n",
      "\n",
      "\n",
      "# abtest:\n",
      "test       192585\n",
      "control    178943\n",
      "Name: abtest, dtype: int64\n",
      "\n",
      "\n",
      "# vehicleType:\n",
      "limousine     95894\n",
      "kleinwagen    80023\n",
      "kombi         67564\n",
      "bus           30201\n",
      "cabrio        22898\n",
      "coupe         19015\n",
      "suv           14707\n",
      "andere         3357\n",
      "Name: vehicleType, dtype: int64\n",
      "\n",
      "\n",
      "# yearOfRegistration:\n",
      "2000    24551\n",
      "1999    22767\n",
      "2005    22316\n",
      "2006    20230\n",
      "2001    20218\n",
      "        ...  \n",
      "1919        1\n",
      "1915        1\n",
      "7800        1\n",
      "1400        1\n",
      "8455        1\n",
      "Name: yearOfRegistration, Length: 155, dtype: int64\n",
      "\n",
      "\n",
      "# gearbox:\n",
      "manuell      274214\n",
      "automatik     77105\n",
      "Name: gearbox, dtype: int64\n",
      "\n",
      "\n",
      "# powerPS:\n",
      "0        40820\n",
      "75       24035\n",
      "60       15907\n",
      "150      15442\n",
      "140      13585\n",
      "         ...  \n",
      "5815         1\n",
      "16051        1\n",
      "1360         1\n",
      "5809         1\n",
      "1398         1\n",
      "Name: powerPS, Length: 794, dtype: int64\n",
      "\n",
      "\n",
      "# model:\n",
      "golf               30070\n",
      "andere             26400\n",
      "3er                20567\n",
      "polo               13092\n",
      "corsa              12573\n",
      "                   ...  \n",
      "serie_2                8\n",
      "rangerover             6\n",
      "serie_3                4\n",
      "serie_1                2\n",
      "discovery_sport        1\n",
      "Name: model, Length: 251, dtype: int64\n",
      "\n",
      "\n",
      "# kilometer:\n",
      "150000    240797\n",
      "125000     38067\n",
      "100000     15920\n",
      "90000      12523\n",
      "80000      11053\n",
      "70000       9773\n",
      "60000       8669\n",
      "50000       7615\n",
      "5000        7069\n",
      "40000       6376\n",
      "30000       6041\n",
      "20000       5676\n",
      "10000       1949\n",
      "Name: kilometer, dtype: int64\n",
      "\n",
      "\n",
      "# monthOfRegistration:\n",
      "0     37675\n",
      "3     36170\n",
      "6     33167\n",
      "4     30918\n",
      "5     30631\n",
      "7     28958\n",
      "10    27337\n",
      "11    25489\n",
      "12    25380\n",
      "9     25074\n",
      "1     24561\n",
      "8     23765\n",
      "2     22403\n",
      "Name: monthOfRegistration, dtype: int64\n",
      "\n",
      "\n",
      "# fuelType:\n",
      "benzin     223857\n",
      "diesel     107746\n",
      "lpg          5378\n",
      "cng           571\n",
      "hybrid        278\n",
      "andere        208\n",
      "elektro       104\n",
      "Name: fuelType, dtype: int64\n",
      "\n",
      "\n",
      "# brand:\n",
      "volkswagen        79640\n",
      "bmw               40274\n",
      "opel              40136\n",
      "mercedes_benz     35309\n",
      "audi              32873\n",
      "ford              25573\n",
      "renault           17969\n",
      "peugeot           11027\n",
      "fiat               9676\n",
      "seat               7022\n",
      "mazda              5695\n",
      "skoda              5641\n",
      "smart              5249\n",
      "citroen            5182\n",
      "nissan             5037\n",
      "toyota             4694\n",
      "sonstige_autos     3982\n",
      "hyundai            3646\n",
      "mini               3394\n",
      "volvo              3327\n",
      "mitsubishi         3061\n",
      "honda              2836\n",
      "kia                2555\n",
      "alfa_romeo         2345\n",
      "suzuki             2328\n",
      "porsche            2215\n",
      "chevrolet          1845\n",
      "chrysler           1452\n",
      "dacia               900\n",
      "jeep                807\n",
      "daihatsu            806\n",
      "subaru              779\n",
      "land_rover          770\n",
      "jaguar              621\n",
      "trabant             591\n",
      "daewoo              542\n",
      "saab                530\n",
      "rover               490\n",
      "lancia              484\n",
      "lada                225\n",
      "Name: brand, dtype: int64\n",
      "\n",
      "\n",
      "# notRepairedDamage:\n",
      "nein    263182\n",
      "ja       36286\n",
      "Name: notRepairedDamage, dtype: int64\n",
      "\n",
      "\n",
      "# dateCreated:\n",
      "2016-04-03 00:00:00    14450\n",
      "2016-04-04 00:00:00    14022\n",
      "2016-03-20 00:00:00    13547\n",
      "2016-03-12 00:00:00    13379\n",
      "2016-03-21 00:00:00    13305\n",
      "                       ...  \n",
      "2016-01-15 00:00:00        1\n",
      "2015-12-06 00:00:00        1\n",
      "2015-12-27 00:00:00        1\n",
      "2015-11-17 00:00:00        1\n",
      "2015-06-18 00:00:00        1\n",
      "Name: dateCreated, Length: 114, dtype: int64\n",
      "\n",
      "\n",
      "# nrOfPictures:\n",
      "0    371528\n",
      "Name: nrOfPictures, dtype: int64\n",
      "\n",
      "\n",
      "# postalCode:\n",
      "10115    828\n",
      "65428    637\n",
      "66333    349\n",
      "38518    326\n",
      "44145    323\n",
      "        ... \n",
      "97859      1\n",
      "29484      1\n",
      "85071      1\n",
      "17329      1\n",
      "37297      1\n",
      "Name: postalCode, Length: 8150, dtype: int64\n",
      "\n",
      "\n",
      "# lastSeen:\n",
      "2016-04-06 13:45:54    17\n",
      "2016-04-07 06:45:59    17\n",
      "2016-04-07 07:46:26    16\n",
      "2016-04-07 10:46:23    16\n",
      "2016-04-07 00:45:17    16\n",
      "                       ..\n",
      "2016-03-20 18:32:59     1\n",
      "2016-03-18 05:42:42     1\n",
      "2016-04-02 12:45:48     1\n",
      "2016-03-13 03:45:12     1\n",
      "2016-03-20 05:48:27     1\n",
      "Name: lastSeen, Length: 182806, dtype: int64\n",
      "\n",
      "\n"
     ]
    }
   ],
   "source": [
    "_value_counts(df)"
   ]
  },
  {
   "cell_type": "code",
   "execution_count": 6,
   "metadata": {},
   "outputs": [],
   "source": [
    "df.drop(labels=['dateCrawled', 'dateCreated', 'nrOfPictures', 'postalCode',\n",
    "                'lastSeen', 'offerType', 'name', 'seller', ],\n",
    "        axis=1, inplace=True)"
   ]
  },
  {
   "cell_type": "code",
   "execution_count": 7,
   "metadata": {},
   "outputs": [
    {
     "data": {
      "text/plain": [
       "(371528, 12)"
      ]
     },
     "execution_count": 7,
     "metadata": {},
     "output_type": "execute_result"
    }
   ],
   "source": [
    "df.shape"
   ]
  },
  {
   "cell_type": "code",
   "execution_count": 8,
   "metadata": {},
   "outputs": [],
   "source": [
    "df = df[df['price'] >= 200]"
   ]
  },
  {
   "cell_type": "code",
   "execution_count": 9,
   "metadata": {},
   "outputs": [
    {
     "name": "stdout",
     "output_type": "stream",
     "text": [
      "# vehicleType: 31756 rows\n",
      "# gearbox: 15928 rows\n",
      "# model: 17352 rows\n",
      "# fuelType: 27702 rows\n",
      "# notRepairedDamage: 63347 rows\n"
     ]
    }
   ],
   "source": [
    "_isnull(df)"
   ]
  },
  {
   "cell_type": "code",
   "execution_count": 10,
   "metadata": {},
   "outputs": [
    {
     "data": {
      "text/plain": [
       "nein    258478\n",
       "ja       32233\n",
       "Name: notRepairedDamage, dtype: int64"
      ]
     },
     "execution_count": 10,
     "metadata": {},
     "output_type": "execute_result"
    }
   ],
   "source": [
    "df['notRepairedDamage'].value_counts() # 'nein'"
   ]
  },
  {
   "cell_type": "code",
   "execution_count": 11,
   "metadata": {},
   "outputs": [
    {
     "data": {
      "text/plain": [
       "manuell      262820\n",
       "automatik     75310\n",
       "Name: gearbox, dtype: int64"
      ]
     },
     "execution_count": 11,
     "metadata": {},
     "output_type": "execute_result"
    }
   ],
   "source": [
    "df['gearbox'].value_counts() # 'manuell'"
   ]
  },
  {
   "cell_type": "code",
   "execution_count": 12,
   "metadata": {},
   "outputs": [
    {
     "data": {
      "text/plain": [
       "benzin     214213\n",
       "diesel     105855\n",
       "lpg          5214\n",
       "cng           554\n",
       "hybrid        270\n",
       "andere        151\n",
       "elektro        99\n",
       "Name: fuelType, dtype: int64"
      ]
     },
     "execution_count": 12,
     "metadata": {},
     "output_type": "execute_result"
    }
   ],
   "source": [
    "df['fuelType'].value_counts() # 'benzin'"
   ]
  },
  {
   "cell_type": "code",
   "execution_count": 13,
   "metadata": {},
   "outputs": [
    {
     "data": {
      "text/plain": [
       "limousine     93011\n",
       "kleinwagen    75817\n",
       "kombi         65528\n",
       "bus           29637\n",
       "cabrio        22473\n",
       "coupe         18297\n",
       "suv           14465\n",
       "andere         3074\n",
       "Name: vehicleType, dtype: int64"
      ]
     },
     "execution_count": 13,
     "metadata": {},
     "output_type": "execute_result"
    }
   ],
   "source": [
    "df['vehicleType'].value_counts()"
   ]
  },
  {
   "cell_type": "code",
   "execution_count": 14,
   "metadata": {},
   "outputs": [
    {
     "name": "stdout",
     "output_type": "stream",
     "text": [
      "# type: limousine, price mean: 11459.886142499274, price std: 672818.1296226705\n",
      "# type: kleinwagen, price mean: 6006.349670918132, price std: 519432.7893006211\n",
      "# type: kombi, price mean: 7980.945549993896, price std: 397597.20786176686\n",
      "# type: bus, price mean: 10498.533690994365, price std: 583799.1763782209\n",
      "# type: cabrio, price mean: 15351.120989632003, price std: 667254.0086723928\n",
      "# type: coupe, price mean: 26979.527791441218, price std: 1060621.9230733253\n",
      "# type: suv, price mean: 13464.28053923263, price std: 16313.220873010629\n",
      "# type: andere, price mean: 739683.2693558881, price std: 38774460.77076733\n"
     ]
    }
   ],
   "source": [
    "vehicletypes = ['limousine', 'kleinwagen', 'kombi', 'bus', 'cabrio', 'coupe', 'suv', 'andere']\n",
    "\n",
    "for t in vehicletypes:\n",
    "    m = df[df['vehicleType'] == t]['price'].mean()\n",
    "    s = df[df['vehicleType'] == t]['price'].std()\n",
    "    print( f'# type: {t}, price mean: {m}, price std: {s}')"
   ]
  },
  {
   "cell_type": "code",
   "execution_count": 15,
   "metadata": {},
   "outputs": [
    {
     "data": {
      "text/plain": [
       "(24007.832693034386, 1222378.460034731)"
      ]
     },
     "execution_count": 15,
     "metadata": {},
     "output_type": "execute_result"
    }
   ],
   "source": [
    "x = df[pd.isnull(df['vehicleType'])]['price']\n",
    "x.mean(), x.std() # fill as 'coupe'"
   ]
  },
  {
   "cell_type": "code",
   "execution_count": 16,
   "metadata": {},
   "outputs": [
    {
     "data": {
      "text/plain": [
       "golf               28593\n",
       "andere             25221\n",
       "3er                19818\n",
       "polo               12146\n",
       "corsa              11549\n",
       "                   ...  \n",
       "serie_2                8\n",
       "rangerover             6\n",
       "serie_3                3\n",
       "serie_1                1\n",
       "discovery_sport        1\n",
       "Name: model, Length: 251, dtype: int64"
      ]
     },
     "execution_count": 16,
     "metadata": {},
     "output_type": "execute_result"
    }
   ],
   "source": [
    "df['model'].value_counts() # fill as 'passat'"
   ]
  },
  {
   "cell_type": "code",
   "execution_count": 17,
   "metadata": {},
   "outputs": [
    {
     "name": "stdout",
     "output_type": "stream",
     "text": [
      "# model: amarok, #: 39, price mean: 23648.25641025641\n",
      "# model: 6er, #: 245, price mean: 21734.967346938774\n",
      "# model: passat, #: 9927, price mean: 25131.422887075652\n",
      "# model: defender, #: 139, price mean: 24117.244604316547\n",
      "# model: range_rover_sport, #: 99, price mean: 25190.565656565657\n",
      "# model: cayenne, #: 405, price mean: 25055.63950617284\n",
      "# model: a5, #: 1006, price mean: 22349.46023856859\n",
      "# model: q7, #: 339, price mean: 21780.321533923303\n",
      "# model: glk, #: 225, price mean: 24166.293333333335\n",
      "# model: g_klasse, #: 167, price mean: 26504.760479041917\n",
      "# model: boxster, #: 399, price mean: 23919.854636591477\n",
      "# model: sl, #: 648, price mean: 22545.706790123455\n"
     ]
    }
   ],
   "source": [
    "models = set(df['model'])\n",
    "price_mean = int(x.mean())\n",
    "\n",
    "for md in models:\n",
    "    m = df[df['model'] == md]['price']\n",
    "    qnt = m.shape[0]\n",
    "    m = m.mean()\n",
    "    try:\n",
    "        if int(m) in range(price_mean - 2500, price_mean + 2500):  # 2500 is an arbitrary range\n",
    "            print( f'# model: {md}, #: {qnt}, price mean: {m}')\n",
    "    except:\n",
    "        pass"
   ]
  },
  {
   "cell_type": "code",
   "execution_count": 18,
   "metadata": {},
   "outputs": [
    {
     "data": {
      "text/plain": [
       "{'notRepairedDamage': 'nein',\n",
       " 'gearbox': 'manuell',\n",
       " 'fuelType': 'benzin',\n",
       " 'vehicleType': 'coupe',\n",
       " 'model': 'passat'}"
      ]
     },
     "execution_count": 18,
     "metadata": {},
     "output_type": "execute_result"
    }
   ],
   "source": [
    "_fill_na = dict(zip(\n",
    "    ('notRepairedDamage', 'gearbox', 'fuelType', 'vehicleType', 'model'),\n",
    "    ('nein', 'manuell', 'benzin', 'coupe', 'passat')\n",
    "))\n",
    "\n",
    "_fill_na"
   ]
  },
  {
   "cell_type": "code",
   "execution_count": 19,
   "metadata": {},
   "outputs": [],
   "source": [
    "df.fillna(value=_fill_na, inplace=True)"
   ]
  },
  {
   "cell_type": "code",
   "execution_count": 20,
   "metadata": {},
   "outputs": [],
   "source": [
    "_isnull(df)"
   ]
  },
  {
   "cell_type": "code",
   "execution_count": 21,
   "metadata": {},
   "outputs": [
    {
     "data": {
      "text/plain": [
       "Index(['price', 'abtest', 'vehicleType', 'yearOfRegistration', 'gearbox',\n",
       "       'powerPS', 'model', 'kilometer', 'monthOfRegistration', 'fuelType',\n",
       "       'brand', 'notRepairedDamage'],\n",
       "      dtype='object')"
      ]
     },
     "execution_count": 21,
     "metadata": {},
     "output_type": "execute_result"
    }
   ],
   "source": [
    "df.columns"
   ]
  },
  {
   "cell_type": "code",
   "execution_count": 22,
   "metadata": {},
   "outputs": [
    {
     "data": {
      "text/plain": [
       "(354058,)"
      ]
     },
     "execution_count": 22,
     "metadata": {},
     "output_type": "execute_result"
    }
   ],
   "source": [
    "y = df['price']\n",
    "y.shape"
   ]
  },
  {
   "cell_type": "code",
   "execution_count": 23,
   "metadata": {},
   "outputs": [],
   "source": [
    "_cat_columns = ['abtest', 'vehicleType', 'gearbox', 'model',\n",
    "                'fuelType', 'brand', 'notRepairedDamage']"
   ]
  },
  {
   "cell_type": "markdown",
   "metadata": {},
   "source": [
    "### ## Dummies"
   ]
  },
  {
   "cell_type": "code",
   "execution_count": 24,
   "metadata": {},
   "outputs": [
    {
     "data": {
      "text/plain": [
       "(354058, 11)"
      ]
     },
     "execution_count": 24,
     "metadata": {},
     "output_type": "execute_result"
    }
   ],
   "source": [
    "x_dummies = df.drop(labels='price', axis=1).copy()\n",
    "x_dummies.shape"
   ]
  },
  {
   "cell_type": "code",
   "execution_count": 25,
   "metadata": {},
   "outputs": [
    {
     "name": "stdout",
     "output_type": "stream",
     "text": [
      "# abtest. Adding 2 columns\n",
      "# vehicleType. Adding 8 columns\n",
      "# gearbox. Adding 2 columns\n",
      "# model. Adding 251 columns\n",
      "# fuelType. Adding 7 columns\n",
      "# brand. Adding 40 columns\n",
      "# notRepairedDamage. Adding 2 columns\n"
     ]
    }
   ],
   "source": [
    "for col in _cat_columns:\n",
    "    dummies = pd.get_dummies(df[col])\n",
    "    print(f'# {col}. Adding {dummies.shape[1]} columns')\n",
    "    x_dummies = pd.concat(objs=[x_dummies, dummies], axis=1)"
   ]
  },
  {
   "cell_type": "code",
   "execution_count": 26,
   "metadata": {},
   "outputs": [
    {
     "data": {
      "text/plain": [
       "((354058, 316),\n",
       " Index(['yearOfRegistration', 'powerPS', 'kilometer', 'monthOfRegistration',\n",
       "        'control', 'test', 'andere', 'bus', 'cabrio', 'coupe',\n",
       "        ...\n",
       "        'smart', 'sonstige_autos', 'subaru', 'suzuki', 'toyota', 'trabant',\n",
       "        'volkswagen', 'volvo', 'ja', 'nein'],\n",
       "       dtype='object', length=316))"
      ]
     },
     "execution_count": 26,
     "metadata": {},
     "output_type": "execute_result"
    }
   ],
   "source": [
    "x_dummies.drop(labels=_cat_columns, axis=1, inplace=True)\n",
    "x_dummies.shape, x_dummies.columns"
   ]
  },
  {
   "cell_type": "code",
   "execution_count": 27,
   "metadata": {},
   "outputs": [
    {
     "data": {
      "text/html": [
       "<div>\n",
       "<style scoped>\n",
       "    .dataframe tbody tr th:only-of-type {\n",
       "        vertical-align: middle;\n",
       "    }\n",
       "\n",
       "    .dataframe tbody tr th {\n",
       "        vertical-align: top;\n",
       "    }\n",
       "\n",
       "    .dataframe thead th {\n",
       "        text-align: right;\n",
       "    }\n",
       "</style>\n",
       "<table border=\"1\" class=\"dataframe\">\n",
       "  <thead>\n",
       "    <tr style=\"text-align: right;\">\n",
       "      <th></th>\n",
       "      <th>yearOfRegistration</th>\n",
       "      <th>powerPS</th>\n",
       "      <th>kilometer</th>\n",
       "      <th>monthOfRegistration</th>\n",
       "      <th>control</th>\n",
       "      <th>test</th>\n",
       "      <th>andere</th>\n",
       "      <th>bus</th>\n",
       "      <th>cabrio</th>\n",
       "      <th>coupe</th>\n",
       "      <th>...</th>\n",
       "      <th>smart</th>\n",
       "      <th>sonstige_autos</th>\n",
       "      <th>subaru</th>\n",
       "      <th>suzuki</th>\n",
       "      <th>toyota</th>\n",
       "      <th>trabant</th>\n",
       "      <th>volkswagen</th>\n",
       "      <th>volvo</th>\n",
       "      <th>ja</th>\n",
       "      <th>nein</th>\n",
       "    </tr>\n",
       "  </thead>\n",
       "  <tbody>\n",
       "    <tr>\n",
       "      <th>0</th>\n",
       "      <td>1993</td>\n",
       "      <td>0</td>\n",
       "      <td>150000</td>\n",
       "      <td>0</td>\n",
       "      <td>0</td>\n",
       "      <td>1</td>\n",
       "      <td>0</td>\n",
       "      <td>0</td>\n",
       "      <td>0</td>\n",
       "      <td>1</td>\n",
       "      <td>...</td>\n",
       "      <td>0</td>\n",
       "      <td>0</td>\n",
       "      <td>0</td>\n",
       "      <td>0</td>\n",
       "      <td>0</td>\n",
       "      <td>0</td>\n",
       "      <td>1</td>\n",
       "      <td>0</td>\n",
       "      <td>0</td>\n",
       "      <td>1</td>\n",
       "    </tr>\n",
       "  </tbody>\n",
       "</table>\n",
       "<p>1 rows × 316 columns</p>\n",
       "</div>"
      ],
      "text/plain": [
       "   yearOfRegistration  powerPS  kilometer  monthOfRegistration  control  test  \\\n",
       "0                1993        0     150000                    0        0     1   \n",
       "\n",
       "   andere  bus  cabrio  coupe  ...  smart  sonstige_autos  subaru  suzuki  \\\n",
       "0       0    0       0      1  ...      0               0       0       0   \n",
       "\n",
       "   toyota  trabant  volkswagen  volvo  ja  nein  \n",
       "0       0        0           1      0   0     1  \n",
       "\n",
       "[1 rows x 316 columns]"
      ]
     },
     "execution_count": 27,
     "metadata": {},
     "output_type": "execute_result"
    }
   ],
   "source": [
    "x_dummies.head(1)"
   ]
  },
  {
   "cell_type": "code",
   "execution_count": 28,
   "metadata": {},
   "outputs": [],
   "source": [
    "from sklearn.model_selection import train_test_split"
   ]
  },
  {
   "cell_type": "code",
   "execution_count": 29,
   "metadata": {},
   "outputs": [
    {
     "data": {
      "text/plain": [
       "'(265543, 316), (265543,), (88515, 316), (88515,)'"
      ]
     },
     "execution_count": 29,
     "metadata": {},
     "output_type": "execute_result"
    }
   ],
   "source": [
    "xtrain, xtest, ytrain, ytest = train_test_split(x_dummies, y, test_size=0.25, random_state=42)\n",
    "\n",
    "f'{xtrain.shape}, {ytrain.shape}, {xtest.shape}, {ytest.shape}'"
   ]
  },
  {
   "cell_type": "markdown",
   "metadata": {},
   "source": [
    "## # Model"
   ]
  },
  {
   "cell_type": "code",
   "execution_count": 30,
   "metadata": {},
   "outputs": [],
   "source": [
    "import keras\n",
    "from keras.layers import Dense\n",
    "from keras.models import Sequential\n",
    "from keras.backend import clear_session"
   ]
  },
  {
   "cell_type": "code",
   "execution_count": 31,
   "metadata": {},
   "outputs": [],
   "source": [
    "def model():\n",
    "    clear_session()\n",
    "    \n",
    "    model = Sequential()\n",
    "    model.add(Dense(units=158, activation='relu', input_dim=xtrain.shape[1]))\n",
    "    model.add(Dense(units=158, activation='relu'))\n",
    "    model.add(Dense(units=1, activation='linear'))\n",
    "    model.compile(optimizer='adam', loss='mean_squared_error',\n",
    "                  metrics=['mean_absolute_error'])\n",
    "    print(model.summary())\n",
    "    \n",
    "    return model"
   ]
  },
  {
   "cell_type": "code",
   "execution_count": 32,
   "metadata": {},
   "outputs": [
    {
     "name": "stdout",
     "output_type": "stream",
     "text": [
      "Model: \"sequential\"\n",
      "_________________________________________________________________\n",
      "Layer (type)                 Output Shape              Param #   \n",
      "=================================================================\n",
      "dense (Dense)                (None, 158)               50086     \n",
      "_________________________________________________________________\n",
      "dense_1 (Dense)              (None, 158)               25122     \n",
      "_________________________________________________________________\n",
      "dense_2 (Dense)              (None, 1)                 159       \n",
      "=================================================================\n",
      "Total params: 75,367\n",
      "Trainable params: 75,367\n",
      "Non-trainable params: 0\n",
      "_________________________________________________________________\n",
      "None\n"
     ]
    }
   ],
   "source": [
    "reg = model()"
   ]
  },
  {
   "cell_type": "code",
   "execution_count": 46,
   "metadata": {
    "scrolled": true
   },
   "outputs": [
    {
     "name": "stdout",
     "output_type": "stream",
     "text": [
      "Model: \"sequential\"\n",
      "_________________________________________________________________\n",
      "Layer (type)                 Output Shape              Param #   \n",
      "=================================================================\n",
      "dense (Dense)                (None, 158)               50086     \n",
      "_________________________________________________________________\n",
      "dense_1 (Dense)              (None, 158)               25122     \n",
      "_________________________________________________________________\n",
      "dense_2 (Dense)              (None, 1)                 159       \n",
      "=================================================================\n",
      "Total params: 75,367\n",
      "Trainable params: 75,367\n",
      "Non-trainable params: 0\n",
      "_________________________________________________________________\n",
      "None\n",
      "Epoch 1/20\n",
      "26555/26555 [==============================] - 17s 649us/step - loss: 16412.1445 - mean_absolute_error: 16412.1445 - val_loss: 12307.6533 - val_mean_absolute_error: 12307.6523\n",
      "Epoch 2/20\n",
      "26555/26555 [==============================] - 18s 660us/step - loss: 16055.7734 - mean_absolute_error: 16055.7734 - val_loss: 12063.4121 - val_mean_absolute_error: 12063.4121\n",
      "Epoch 3/20\n",
      "26555/26555 [==============================] - 17s 659us/step - loss: 15975.9395 - mean_absolute_error: 15975.9395 - val_loss: 12201.2910 - val_mean_absolute_error: 12201.2910\n",
      "Epoch 4/20\n",
      "26555/26555 [==============================] - 16s 611us/step - loss: 15912.3535 - mean_absolute_error: 15912.3535 - val_loss: 11875.7852 - val_mean_absolute_error: 11875.7852\n",
      "Epoch 5/20\n",
      "26555/26555 [==============================] - 16s 604us/step - loss: 15867.9824 - mean_absolute_error: 15867.9824 - val_loss: 12331.1904 - val_mean_absolute_error: 12331.1904\n",
      "Epoch 6/20\n",
      "26555/26555 [==============================] - 17s 642us/step - loss: 15829.4717 - mean_absolute_error: 15829.4717 - val_loss: 12109.0889 - val_mean_absolute_error: 12109.0898\n",
      "Epoch 7/20\n",
      "26555/26555 [==============================] - 16s 602us/step - loss: 15790.8320 - mean_absolute_error: 15790.8320 - val_loss: 11828.6572 - val_mean_absolute_error: 11828.6572\n",
      "Epoch 8/20\n",
      "26555/26555 [==============================] - 16s 610us/step - loss: 15758.5527 - mean_absolute_error: 15758.5527 - val_loss: 11739.1719 - val_mean_absolute_error: 11739.1719\n",
      "Epoch 9/20\n",
      "26555/26555 [==============================] - 16s 618us/step - loss: 15736.5361 - mean_absolute_error: 15736.5361 - val_loss: 11741.8438 - val_mean_absolute_error: 11741.8438\n",
      "Epoch 10/20\n",
      "26555/26555 [==============================] - 18s 682us/step - loss: 15711.8193 - mean_absolute_error: 15711.8193 - val_loss: 11725.5566 - val_mean_absolute_error: 11725.5566\n",
      "Epoch 11/20\n",
      "26555/26555 [==============================] - 17s 634us/step - loss: 15700.0742 - mean_absolute_error: 15700.0742 - val_loss: 11947.7891 - val_mean_absolute_error: 11947.7891\n",
      "Epoch 12/20\n",
      "26555/26555 [==============================] - 17s 657us/step - loss: 15693.9004 - mean_absolute_error: 15693.9004 - val_loss: 11755.6689 - val_mean_absolute_error: 11755.6689\n",
      "Epoch 13/20\n",
      "26555/26555 [==============================] - 18s 680us/step - loss: 15676.8486 - mean_absolute_error: 15676.8486 - val_loss: 11737.2725 - val_mean_absolute_error: 11737.2725\n",
      "Epoch 14/20\n",
      "26555/26555 [==============================] - 17s 655us/step - loss: 15661.3213 - mean_absolute_error: 15661.3213 - val_loss: 11928.0430 - val_mean_absolute_error: 11928.0430\n",
      "Epoch 15/20\n",
      "26555/26555 [==============================] - 18s 669us/step - loss: 15646.9766 - mean_absolute_error: 15646.9766 - val_loss: 11797.0039 - val_mean_absolute_error: 11797.0039\n",
      "Epoch 16/20\n",
      "26555/26555 [==============================] - 17s 626us/step - loss: 15649.5820 - mean_absolute_error: 15649.5820 - val_loss: 11705.7598 - val_mean_absolute_error: 11705.7598\n",
      "Epoch 17/20\n",
      "26555/26555 [==============================] - 17s 636us/step - loss: 15636.4180 - mean_absolute_error: 15636.4180 - val_loss: 11657.4268 - val_mean_absolute_error: 11657.4268\n",
      "Epoch 18/20\n",
      "26555/26555 [==============================] - 17s 650us/step - loss: 15631.5010 - mean_absolute_error: 15631.5010 - val_loss: 11627.0068 - val_mean_absolute_error: 11627.0068\n",
      "Epoch 19/20\n",
      "26555/26555 [==============================] - 17s 631us/step - loss: 15624.8232 - mean_absolute_error: 15624.8232 - val_loss: 11861.7256 - val_mean_absolute_error: 11861.7256\n",
      "Epoch 20/20\n",
      "26555/26555 [==============================] - 16s 608us/step - loss: 15624.8291 - mean_absolute_error: 15624.8291 - val_loss: 11733.8623 - val_mean_absolute_error: 11733.8623\n"
     ]
    },
    {
     "data": {
      "text/plain": [
       "<tensorflow.python.keras.callbacks.History at 0x7f5eac081f40>"
      ]
     },
     "execution_count": 46,
     "metadata": {},
     "output_type": "execute_result"
    }
   ],
   "source": [
    "reg.fit(x=xtrain, y=ytrain, validation_data=(xtest, ytest), epochs=20)"
   ]
  },
  {
   "cell_type": "markdown",
   "metadata": {},
   "source": [
    "## # Evaluation"
   ]
  },
  {
   "cell_type": "code",
   "execution_count": 47,
   "metadata": {},
   "outputs": [],
   "source": [
    "pred = reg.predict(xtest)"
   ]
  },
  {
   "cell_type": "code",
   "execution_count": 48,
   "metadata": {},
   "outputs": [
    {
     "data": {
      "text/plain": [
       "8991.851219823264"
      ]
     },
     "execution_count": 48,
     "metadata": {},
     "output_type": "execute_result"
    }
   ],
   "source": [
    "ytest.mean() - pred.mean()"
   ]
  },
  {
   "cell_type": "code",
   "execution_count": 49,
   "metadata": {},
   "outputs": [
    {
     "data": {
      "text/plain": [
       "888574.9806477927"
      ]
     },
     "execution_count": 49,
     "metadata": {},
     "output_type": "execute_result"
    }
   ],
   "source": [
    "ytest.std() - pred.std()"
   ]
  },
  {
   "cell_type": "markdown",
   "metadata": {},
   "source": [
    "### ## Cross Validation"
   ]
  },
  {
   "cell_type": "code",
   "execution_count": 50,
   "metadata": {},
   "outputs": [],
   "source": [
    "from sklearn.model_selection import cross_val_score\n",
    "from keras.wrappers.scikit_learn import KerasRegressor"
   ]
  },
  {
   "cell_type": "code",
   "execution_count": 51,
   "metadata": {},
   "outputs": [],
   "source": [
    "reg = KerasRegressor(build_fn=model, epochs=20, batch_size=10)"
   ]
  },
  {
   "cell_type": "code",
   "execution_count": 52,
   "metadata": {
    "scrolled": true
   },
   "outputs": [
    {
     "name": "stdout",
     "output_type": "stream",
     "text": [
      "Model: \"sequential\"\n",
      "_________________________________________________________________\n",
      "Layer (type)                 Output Shape              Param #   \n",
      "=================================================================\n",
      "dense (Dense)                (None, 158)               50086     \n",
      "_________________________________________________________________\n",
      "dense_1 (Dense)              (None, 158)               25122     \n",
      "_________________________________________________________________\n",
      "dense_2 (Dense)              (None, 1)                 159       \n",
      "=================================================================\n",
      "Total params: 75,367\n",
      "Trainable params: 75,367\n",
      "Non-trainable params: 0\n",
      "_________________________________________________________________\n",
      "None\n",
      "Epoch 1/20\n",
      "31866/31866 [==============================] - 18s 562us/step - loss: 16617.3047 - mean_absolute_error: 16617.3066\n",
      "Epoch 2/20\n",
      "31866/31866 [==============================] - 18s 558us/step - loss: 16296.2041 - mean_absolute_error: 16296.2041\n",
      "Epoch 3/20\n",
      "31866/31866 [==============================] - 17s 543us/step - loss: 16212.3613 - mean_absolute_error: 16212.3613\n",
      "Epoch 4/20\n",
      "31866/31866 [==============================] - 17s 541us/step - loss: 16141.3135 - mean_absolute_error: 16141.3154\n",
      "Epoch 5/20\n",
      "31866/31866 [==============================] - 19s 595us/step - loss: 16094.7188 - mean_absolute_error: 16094.7188\n",
      "Epoch 6/20\n",
      "31866/31866 [==============================] - 28s 890us/step - loss: 16053.0430 - mean_absolute_error: 16053.0430\n",
      "Epoch 7/20\n",
      "31866/31866 [==============================] - 27s 862us/step - loss: 16010.7568 - mean_absolute_error: 16010.7568\n",
      "Epoch 8/20\n",
      "31866/31866 [==============================] - 19s 596us/step - loss: 15985.1836 - mean_absolute_error: 15985.1836\n",
      "Epoch 9/20\n",
      "31866/31866 [==============================] - 26s 823us/step - loss: 15965.4609 - mean_absolute_error: 15965.4609\n",
      "Epoch 10/20\n",
      "31866/31866 [==============================] - 27s 843us/step - loss: 15952.3945 - mean_absolute_error: 15952.3945\n",
      "Epoch 11/20\n",
      "31866/31866 [==============================] - 27s 838us/step - loss: 15933.0312 - mean_absolute_error: 15933.0312\n",
      "Epoch 12/20\n",
      "31866/31866 [==============================] - 29s 910us/step - loss: 15923.3105 - mean_absolute_error: 15923.3105\n",
      "Epoch 13/20\n",
      "31866/31866 [==============================] - 22s 687us/step - loss: 15912.2529 - mean_absolute_error: 15912.2529\n",
      "Epoch 14/20\n",
      "31866/31866 [==============================] - 18s 575us/step - loss: 15902.3193 - mean_absolute_error: 15902.3193\n",
      "Epoch 15/20\n",
      "31866/31866 [==============================] - 18s 559us/step - loss: 15897.4268 - mean_absolute_error: 15897.4268\n",
      "Epoch 16/20\n",
      "31866/31866 [==============================] - 17s 545us/step - loss: 15890.9248 - mean_absolute_error: 15890.9248\n",
      "Epoch 17/20\n",
      "31866/31866 [==============================] - 19s 609us/step - loss: 15884.7461 - mean_absolute_error: 15884.7461\n",
      "Epoch 18/20\n",
      "31866/31866 [==============================] - 19s 605us/step - loss: 15873.3145 - mean_absolute_error: 15873.3145\n",
      "Epoch 19/20\n",
      "31866/31866 [==============================] - 20s 631us/step - loss: 15868.7012 - mean_absolute_error: 15868.7012\n",
      "Epoch 20/20\n",
      "31866/31866 [==============================] - 20s 624us/step - loss: 15865.6602 - mean_absolute_error: 15865.6582\n"
     ]
    },
    {
     "ename": "ValueError",
     "evalue": "Classification metrics can't handle a mix of multiclass and continuous targets",
     "output_type": "error",
     "traceback": [
      "\u001b[0;31m---------------------------------------------------------------------------\u001b[0m",
      "\u001b[0;31mValueError\u001b[0m                                Traceback (most recent call last)",
      "\u001b[0;32m<ipython-input-52-87052693c3ae>\u001b[0m in \u001b[0;36m<module>\u001b[0;34m\u001b[0m\n\u001b[0;32m----> 1\u001b[0;31m \u001b[0mcvs\u001b[0m \u001b[0;34m=\u001b[0m \u001b[0mcross_val_score\u001b[0m\u001b[0;34m(\u001b[0m\u001b[0mestimator\u001b[0m\u001b[0;34m=\u001b[0m\u001b[0mreg\u001b[0m\u001b[0;34m,\u001b[0m \u001b[0mX\u001b[0m\u001b[0;34m=\u001b[0m\u001b[0mx_dummies\u001b[0m\u001b[0;34m,\u001b[0m \u001b[0my\u001b[0m\u001b[0;34m=\u001b[0m\u001b[0my\u001b[0m\u001b[0;34m,\u001b[0m \u001b[0mcv\u001b[0m\u001b[0;34m=\u001b[0m\u001b[0;36m10\u001b[0m\u001b[0;34m,\u001b[0m \u001b[0mscoring\u001b[0m\u001b[0;34m=\u001b[0m\u001b[0;34m'accuracy'\u001b[0m\u001b[0;34m)\u001b[0m\u001b[0;34m\u001b[0m\u001b[0;34m\u001b[0m\u001b[0m\n\u001b[0m",
      "\u001b[0;32m~/.local/lib/python3.8/site-packages/sklearn/utils/validation.py\u001b[0m in \u001b[0;36minner_f\u001b[0;34m(*args, **kwargs)\u001b[0m\n\u001b[1;32m     70\u001b[0m                           FutureWarning)\n\u001b[1;32m     71\u001b[0m         \u001b[0mkwargs\u001b[0m\u001b[0;34m.\u001b[0m\u001b[0mupdate\u001b[0m\u001b[0;34m(\u001b[0m\u001b[0;34m{\u001b[0m\u001b[0mk\u001b[0m\u001b[0;34m:\u001b[0m \u001b[0marg\u001b[0m \u001b[0;32mfor\u001b[0m \u001b[0mk\u001b[0m\u001b[0;34m,\u001b[0m \u001b[0marg\u001b[0m \u001b[0;32min\u001b[0m \u001b[0mzip\u001b[0m\u001b[0;34m(\u001b[0m\u001b[0msig\u001b[0m\u001b[0;34m.\u001b[0m\u001b[0mparameters\u001b[0m\u001b[0;34m,\u001b[0m \u001b[0margs\u001b[0m\u001b[0;34m)\u001b[0m\u001b[0;34m}\u001b[0m\u001b[0;34m)\u001b[0m\u001b[0;34m\u001b[0m\u001b[0;34m\u001b[0m\u001b[0m\n\u001b[0;32m---> 72\u001b[0;31m         \u001b[0;32mreturn\u001b[0m \u001b[0mf\u001b[0m\u001b[0;34m(\u001b[0m\u001b[0;34m**\u001b[0m\u001b[0mkwargs\u001b[0m\u001b[0;34m)\u001b[0m\u001b[0;34m\u001b[0m\u001b[0;34m\u001b[0m\u001b[0m\n\u001b[0m\u001b[1;32m     73\u001b[0m     \u001b[0;32mreturn\u001b[0m \u001b[0minner_f\u001b[0m\u001b[0;34m\u001b[0m\u001b[0;34m\u001b[0m\u001b[0m\n\u001b[1;32m     74\u001b[0m \u001b[0;34m\u001b[0m\u001b[0m\n",
      "\u001b[0;32m~/.local/lib/python3.8/site-packages/sklearn/model_selection/_validation.py\u001b[0m in \u001b[0;36mcross_val_score\u001b[0;34m(estimator, X, y, groups, scoring, cv, n_jobs, verbose, fit_params, pre_dispatch, error_score)\u001b[0m\n\u001b[1;32m    399\u001b[0m     \u001b[0mscorer\u001b[0m \u001b[0;34m=\u001b[0m \u001b[0mcheck_scoring\u001b[0m\u001b[0;34m(\u001b[0m\u001b[0mestimator\u001b[0m\u001b[0;34m,\u001b[0m \u001b[0mscoring\u001b[0m\u001b[0;34m=\u001b[0m\u001b[0mscoring\u001b[0m\u001b[0;34m)\u001b[0m\u001b[0;34m\u001b[0m\u001b[0;34m\u001b[0m\u001b[0m\n\u001b[1;32m    400\u001b[0m \u001b[0;34m\u001b[0m\u001b[0m\n\u001b[0;32m--> 401\u001b[0;31m     cv_results = cross_validate(estimator=estimator, X=X, y=y, groups=groups,\n\u001b[0m\u001b[1;32m    402\u001b[0m                                 \u001b[0mscoring\u001b[0m\u001b[0;34m=\u001b[0m\u001b[0;34m{\u001b[0m\u001b[0;34m'score'\u001b[0m\u001b[0;34m:\u001b[0m \u001b[0mscorer\u001b[0m\u001b[0;34m}\u001b[0m\u001b[0;34m,\u001b[0m \u001b[0mcv\u001b[0m\u001b[0;34m=\u001b[0m\u001b[0mcv\u001b[0m\u001b[0;34m,\u001b[0m\u001b[0;34m\u001b[0m\u001b[0;34m\u001b[0m\u001b[0m\n\u001b[1;32m    403\u001b[0m                                 \u001b[0mn_jobs\u001b[0m\u001b[0;34m=\u001b[0m\u001b[0mn_jobs\u001b[0m\u001b[0;34m,\u001b[0m \u001b[0mverbose\u001b[0m\u001b[0;34m=\u001b[0m\u001b[0mverbose\u001b[0m\u001b[0;34m,\u001b[0m\u001b[0;34m\u001b[0m\u001b[0;34m\u001b[0m\u001b[0m\n",
      "\u001b[0;32m~/.local/lib/python3.8/site-packages/sklearn/utils/validation.py\u001b[0m in \u001b[0;36minner_f\u001b[0;34m(*args, **kwargs)\u001b[0m\n\u001b[1;32m     70\u001b[0m                           FutureWarning)\n\u001b[1;32m     71\u001b[0m         \u001b[0mkwargs\u001b[0m\u001b[0;34m.\u001b[0m\u001b[0mupdate\u001b[0m\u001b[0;34m(\u001b[0m\u001b[0;34m{\u001b[0m\u001b[0mk\u001b[0m\u001b[0;34m:\u001b[0m \u001b[0marg\u001b[0m \u001b[0;32mfor\u001b[0m \u001b[0mk\u001b[0m\u001b[0;34m,\u001b[0m \u001b[0marg\u001b[0m \u001b[0;32min\u001b[0m \u001b[0mzip\u001b[0m\u001b[0;34m(\u001b[0m\u001b[0msig\u001b[0m\u001b[0;34m.\u001b[0m\u001b[0mparameters\u001b[0m\u001b[0;34m,\u001b[0m \u001b[0margs\u001b[0m\u001b[0;34m)\u001b[0m\u001b[0;34m}\u001b[0m\u001b[0;34m)\u001b[0m\u001b[0;34m\u001b[0m\u001b[0;34m\u001b[0m\u001b[0m\n\u001b[0;32m---> 72\u001b[0;31m         \u001b[0;32mreturn\u001b[0m \u001b[0mf\u001b[0m\u001b[0;34m(\u001b[0m\u001b[0;34m**\u001b[0m\u001b[0mkwargs\u001b[0m\u001b[0;34m)\u001b[0m\u001b[0;34m\u001b[0m\u001b[0;34m\u001b[0m\u001b[0m\n\u001b[0m\u001b[1;32m     73\u001b[0m     \u001b[0;32mreturn\u001b[0m \u001b[0minner_f\u001b[0m\u001b[0;34m\u001b[0m\u001b[0;34m\u001b[0m\u001b[0m\n\u001b[1;32m     74\u001b[0m \u001b[0;34m\u001b[0m\u001b[0m\n",
      "\u001b[0;32m~/.local/lib/python3.8/site-packages/sklearn/model_selection/_validation.py\u001b[0m in \u001b[0;36mcross_validate\u001b[0;34m(estimator, X, y, groups, scoring, cv, n_jobs, verbose, fit_params, pre_dispatch, return_train_score, return_estimator, error_score)\u001b[0m\n\u001b[1;32m    240\u001b[0m     parallel = Parallel(n_jobs=n_jobs, verbose=verbose,\n\u001b[1;32m    241\u001b[0m                         pre_dispatch=pre_dispatch)\n\u001b[0;32m--> 242\u001b[0;31m     scores = parallel(\n\u001b[0m\u001b[1;32m    243\u001b[0m         delayed(_fit_and_score)(\n\u001b[1;32m    244\u001b[0m             \u001b[0mclone\u001b[0m\u001b[0;34m(\u001b[0m\u001b[0mestimator\u001b[0m\u001b[0;34m)\u001b[0m\u001b[0;34m,\u001b[0m \u001b[0mX\u001b[0m\u001b[0;34m,\u001b[0m \u001b[0my\u001b[0m\u001b[0;34m,\u001b[0m \u001b[0mscorers\u001b[0m\u001b[0;34m,\u001b[0m \u001b[0mtrain\u001b[0m\u001b[0;34m,\u001b[0m \u001b[0mtest\u001b[0m\u001b[0;34m,\u001b[0m \u001b[0mverbose\u001b[0m\u001b[0;34m,\u001b[0m \u001b[0;32mNone\u001b[0m\u001b[0;34m,\u001b[0m\u001b[0;34m\u001b[0m\u001b[0;34m\u001b[0m\u001b[0m\n",
      "\u001b[0;32m~/.local/lib/python3.8/site-packages/joblib/parallel.py\u001b[0m in \u001b[0;36m__call__\u001b[0;34m(self, iterable)\u001b[0m\n\u001b[1;32m   1046\u001b[0m             \u001b[0;31m# remaining jobs.\u001b[0m\u001b[0;34m\u001b[0m\u001b[0;34m\u001b[0m\u001b[0;34m\u001b[0m\u001b[0m\n\u001b[1;32m   1047\u001b[0m             \u001b[0mself\u001b[0m\u001b[0;34m.\u001b[0m\u001b[0m_iterating\u001b[0m \u001b[0;34m=\u001b[0m \u001b[0;32mFalse\u001b[0m\u001b[0;34m\u001b[0m\u001b[0;34m\u001b[0m\u001b[0m\n\u001b[0;32m-> 1048\u001b[0;31m             \u001b[0;32mif\u001b[0m \u001b[0mself\u001b[0m\u001b[0;34m.\u001b[0m\u001b[0mdispatch_one_batch\u001b[0m\u001b[0;34m(\u001b[0m\u001b[0miterator\u001b[0m\u001b[0;34m)\u001b[0m\u001b[0;34m:\u001b[0m\u001b[0;34m\u001b[0m\u001b[0;34m\u001b[0m\u001b[0m\n\u001b[0m\u001b[1;32m   1049\u001b[0m                 \u001b[0mself\u001b[0m\u001b[0;34m.\u001b[0m\u001b[0m_iterating\u001b[0m \u001b[0;34m=\u001b[0m \u001b[0mself\u001b[0m\u001b[0;34m.\u001b[0m\u001b[0m_original_iterator\u001b[0m \u001b[0;32mis\u001b[0m \u001b[0;32mnot\u001b[0m \u001b[0;32mNone\u001b[0m\u001b[0;34m\u001b[0m\u001b[0;34m\u001b[0m\u001b[0m\n\u001b[1;32m   1050\u001b[0m \u001b[0;34m\u001b[0m\u001b[0m\n",
      "\u001b[0;32m~/.local/lib/python3.8/site-packages/joblib/parallel.py\u001b[0m in \u001b[0;36mdispatch_one_batch\u001b[0;34m(self, iterator)\u001b[0m\n\u001b[1;32m    864\u001b[0m                 \u001b[0;32mreturn\u001b[0m \u001b[0;32mFalse\u001b[0m\u001b[0;34m\u001b[0m\u001b[0;34m\u001b[0m\u001b[0m\n\u001b[1;32m    865\u001b[0m             \u001b[0;32melse\u001b[0m\u001b[0;34m:\u001b[0m\u001b[0;34m\u001b[0m\u001b[0;34m\u001b[0m\u001b[0m\n\u001b[0;32m--> 866\u001b[0;31m                 \u001b[0mself\u001b[0m\u001b[0;34m.\u001b[0m\u001b[0m_dispatch\u001b[0m\u001b[0;34m(\u001b[0m\u001b[0mtasks\u001b[0m\u001b[0;34m)\u001b[0m\u001b[0;34m\u001b[0m\u001b[0;34m\u001b[0m\u001b[0m\n\u001b[0m\u001b[1;32m    867\u001b[0m                 \u001b[0;32mreturn\u001b[0m \u001b[0;32mTrue\u001b[0m\u001b[0;34m\u001b[0m\u001b[0;34m\u001b[0m\u001b[0m\n\u001b[1;32m    868\u001b[0m \u001b[0;34m\u001b[0m\u001b[0m\n",
      "\u001b[0;32m~/.local/lib/python3.8/site-packages/joblib/parallel.py\u001b[0m in \u001b[0;36m_dispatch\u001b[0;34m(self, batch)\u001b[0m\n\u001b[1;32m    782\u001b[0m         \u001b[0;32mwith\u001b[0m \u001b[0mself\u001b[0m\u001b[0;34m.\u001b[0m\u001b[0m_lock\u001b[0m\u001b[0;34m:\u001b[0m\u001b[0;34m\u001b[0m\u001b[0;34m\u001b[0m\u001b[0m\n\u001b[1;32m    783\u001b[0m             \u001b[0mjob_idx\u001b[0m \u001b[0;34m=\u001b[0m \u001b[0mlen\u001b[0m\u001b[0;34m(\u001b[0m\u001b[0mself\u001b[0m\u001b[0;34m.\u001b[0m\u001b[0m_jobs\u001b[0m\u001b[0;34m)\u001b[0m\u001b[0;34m\u001b[0m\u001b[0;34m\u001b[0m\u001b[0m\n\u001b[0;32m--> 784\u001b[0;31m             \u001b[0mjob\u001b[0m \u001b[0;34m=\u001b[0m \u001b[0mself\u001b[0m\u001b[0;34m.\u001b[0m\u001b[0m_backend\u001b[0m\u001b[0;34m.\u001b[0m\u001b[0mapply_async\u001b[0m\u001b[0;34m(\u001b[0m\u001b[0mbatch\u001b[0m\u001b[0;34m,\u001b[0m \u001b[0mcallback\u001b[0m\u001b[0;34m=\u001b[0m\u001b[0mcb\u001b[0m\u001b[0;34m)\u001b[0m\u001b[0;34m\u001b[0m\u001b[0;34m\u001b[0m\u001b[0m\n\u001b[0m\u001b[1;32m    785\u001b[0m             \u001b[0;31m# A job can complete so quickly than its callback is\u001b[0m\u001b[0;34m\u001b[0m\u001b[0;34m\u001b[0m\u001b[0;34m\u001b[0m\u001b[0m\n\u001b[1;32m    786\u001b[0m             \u001b[0;31m# called before we get here, causing self._jobs to\u001b[0m\u001b[0;34m\u001b[0m\u001b[0;34m\u001b[0m\u001b[0;34m\u001b[0m\u001b[0m\n",
      "\u001b[0;32m~/.local/lib/python3.8/site-packages/joblib/_parallel_backends.py\u001b[0m in \u001b[0;36mapply_async\u001b[0;34m(self, func, callback)\u001b[0m\n\u001b[1;32m    206\u001b[0m     \u001b[0;32mdef\u001b[0m \u001b[0mapply_async\u001b[0m\u001b[0;34m(\u001b[0m\u001b[0mself\u001b[0m\u001b[0;34m,\u001b[0m \u001b[0mfunc\u001b[0m\u001b[0;34m,\u001b[0m \u001b[0mcallback\u001b[0m\u001b[0;34m=\u001b[0m\u001b[0;32mNone\u001b[0m\u001b[0;34m)\u001b[0m\u001b[0;34m:\u001b[0m\u001b[0;34m\u001b[0m\u001b[0;34m\u001b[0m\u001b[0m\n\u001b[1;32m    207\u001b[0m         \u001b[0;34m\"\"\"Schedule a func to be run\"\"\"\u001b[0m\u001b[0;34m\u001b[0m\u001b[0;34m\u001b[0m\u001b[0m\n\u001b[0;32m--> 208\u001b[0;31m         \u001b[0mresult\u001b[0m \u001b[0;34m=\u001b[0m \u001b[0mImmediateResult\u001b[0m\u001b[0;34m(\u001b[0m\u001b[0mfunc\u001b[0m\u001b[0;34m)\u001b[0m\u001b[0;34m\u001b[0m\u001b[0;34m\u001b[0m\u001b[0m\n\u001b[0m\u001b[1;32m    209\u001b[0m         \u001b[0;32mif\u001b[0m \u001b[0mcallback\u001b[0m\u001b[0;34m:\u001b[0m\u001b[0;34m\u001b[0m\u001b[0;34m\u001b[0m\u001b[0m\n\u001b[1;32m    210\u001b[0m             \u001b[0mcallback\u001b[0m\u001b[0;34m(\u001b[0m\u001b[0mresult\u001b[0m\u001b[0;34m)\u001b[0m\u001b[0;34m\u001b[0m\u001b[0;34m\u001b[0m\u001b[0m\n",
      "\u001b[0;32m~/.local/lib/python3.8/site-packages/joblib/_parallel_backends.py\u001b[0m in \u001b[0;36m__init__\u001b[0;34m(self, batch)\u001b[0m\n\u001b[1;32m    570\u001b[0m         \u001b[0;31m# Don't delay the application, to avoid keeping the input\u001b[0m\u001b[0;34m\u001b[0m\u001b[0;34m\u001b[0m\u001b[0;34m\u001b[0m\u001b[0m\n\u001b[1;32m    571\u001b[0m         \u001b[0;31m# arguments in memory\u001b[0m\u001b[0;34m\u001b[0m\u001b[0;34m\u001b[0m\u001b[0;34m\u001b[0m\u001b[0m\n\u001b[0;32m--> 572\u001b[0;31m         \u001b[0mself\u001b[0m\u001b[0;34m.\u001b[0m\u001b[0mresults\u001b[0m \u001b[0;34m=\u001b[0m \u001b[0mbatch\u001b[0m\u001b[0;34m(\u001b[0m\u001b[0;34m)\u001b[0m\u001b[0;34m\u001b[0m\u001b[0;34m\u001b[0m\u001b[0m\n\u001b[0m\u001b[1;32m    573\u001b[0m \u001b[0;34m\u001b[0m\u001b[0m\n\u001b[1;32m    574\u001b[0m     \u001b[0;32mdef\u001b[0m \u001b[0mget\u001b[0m\u001b[0;34m(\u001b[0m\u001b[0mself\u001b[0m\u001b[0;34m)\u001b[0m\u001b[0;34m:\u001b[0m\u001b[0;34m\u001b[0m\u001b[0;34m\u001b[0m\u001b[0m\n",
      "\u001b[0;32m~/.local/lib/python3.8/site-packages/joblib/parallel.py\u001b[0m in \u001b[0;36m__call__\u001b[0;34m(self)\u001b[0m\n\u001b[1;32m    260\u001b[0m         \u001b[0;31m# change the default number of processes to -1\u001b[0m\u001b[0;34m\u001b[0m\u001b[0;34m\u001b[0m\u001b[0;34m\u001b[0m\u001b[0m\n\u001b[1;32m    261\u001b[0m         \u001b[0;32mwith\u001b[0m \u001b[0mparallel_backend\u001b[0m\u001b[0;34m(\u001b[0m\u001b[0mself\u001b[0m\u001b[0;34m.\u001b[0m\u001b[0m_backend\u001b[0m\u001b[0;34m,\u001b[0m \u001b[0mn_jobs\u001b[0m\u001b[0;34m=\u001b[0m\u001b[0mself\u001b[0m\u001b[0;34m.\u001b[0m\u001b[0m_n_jobs\u001b[0m\u001b[0;34m)\u001b[0m\u001b[0;34m:\u001b[0m\u001b[0;34m\u001b[0m\u001b[0;34m\u001b[0m\u001b[0m\n\u001b[0;32m--> 262\u001b[0;31m             return [func(*args, **kwargs)\n\u001b[0m\u001b[1;32m    263\u001b[0m                     for func, args, kwargs in self.items]\n\u001b[1;32m    264\u001b[0m \u001b[0;34m\u001b[0m\u001b[0m\n",
      "\u001b[0;32m~/.local/lib/python3.8/site-packages/joblib/parallel.py\u001b[0m in \u001b[0;36m<listcomp>\u001b[0;34m(.0)\u001b[0m\n\u001b[1;32m    260\u001b[0m         \u001b[0;31m# change the default number of processes to -1\u001b[0m\u001b[0;34m\u001b[0m\u001b[0;34m\u001b[0m\u001b[0;34m\u001b[0m\u001b[0m\n\u001b[1;32m    261\u001b[0m         \u001b[0;32mwith\u001b[0m \u001b[0mparallel_backend\u001b[0m\u001b[0;34m(\u001b[0m\u001b[0mself\u001b[0m\u001b[0;34m.\u001b[0m\u001b[0m_backend\u001b[0m\u001b[0;34m,\u001b[0m \u001b[0mn_jobs\u001b[0m\u001b[0;34m=\u001b[0m\u001b[0mself\u001b[0m\u001b[0;34m.\u001b[0m\u001b[0m_n_jobs\u001b[0m\u001b[0;34m)\u001b[0m\u001b[0;34m:\u001b[0m\u001b[0;34m\u001b[0m\u001b[0;34m\u001b[0m\u001b[0m\n\u001b[0;32m--> 262\u001b[0;31m             return [func(*args, **kwargs)\n\u001b[0m\u001b[1;32m    263\u001b[0m                     for func, args, kwargs in self.items]\n\u001b[1;32m    264\u001b[0m \u001b[0;34m\u001b[0m\u001b[0m\n",
      "\u001b[0;32m~/.local/lib/python3.8/site-packages/sklearn/model_selection/_validation.py\u001b[0m in \u001b[0;36m_fit_and_score\u001b[0;34m(estimator, X, y, scorer, train, test, verbose, parameters, fit_params, return_train_score, return_parameters, return_n_test_samples, return_times, return_estimator, error_score)\u001b[0m\n\u001b[1;32m    558\u001b[0m     \u001b[0;32melse\u001b[0m\u001b[0;34m:\u001b[0m\u001b[0;34m\u001b[0m\u001b[0;34m\u001b[0m\u001b[0m\n\u001b[1;32m    559\u001b[0m         \u001b[0mfit_time\u001b[0m \u001b[0;34m=\u001b[0m \u001b[0mtime\u001b[0m\u001b[0;34m.\u001b[0m\u001b[0mtime\u001b[0m\u001b[0;34m(\u001b[0m\u001b[0;34m)\u001b[0m \u001b[0;34m-\u001b[0m \u001b[0mstart_time\u001b[0m\u001b[0;34m\u001b[0m\u001b[0;34m\u001b[0m\u001b[0m\n\u001b[0;32m--> 560\u001b[0;31m         \u001b[0mtest_scores\u001b[0m \u001b[0;34m=\u001b[0m \u001b[0m_score\u001b[0m\u001b[0;34m(\u001b[0m\u001b[0mestimator\u001b[0m\u001b[0;34m,\u001b[0m \u001b[0mX_test\u001b[0m\u001b[0;34m,\u001b[0m \u001b[0my_test\u001b[0m\u001b[0;34m,\u001b[0m \u001b[0mscorer\u001b[0m\u001b[0;34m)\u001b[0m\u001b[0;34m\u001b[0m\u001b[0;34m\u001b[0m\u001b[0m\n\u001b[0m\u001b[1;32m    561\u001b[0m         \u001b[0mscore_time\u001b[0m \u001b[0;34m=\u001b[0m \u001b[0mtime\u001b[0m\u001b[0;34m.\u001b[0m\u001b[0mtime\u001b[0m\u001b[0;34m(\u001b[0m\u001b[0;34m)\u001b[0m \u001b[0;34m-\u001b[0m \u001b[0mstart_time\u001b[0m \u001b[0;34m-\u001b[0m \u001b[0mfit_time\u001b[0m\u001b[0;34m\u001b[0m\u001b[0;34m\u001b[0m\u001b[0m\n\u001b[1;32m    562\u001b[0m         \u001b[0;32mif\u001b[0m \u001b[0mreturn_train_score\u001b[0m\u001b[0;34m:\u001b[0m\u001b[0;34m\u001b[0m\u001b[0;34m\u001b[0m\u001b[0m\n",
      "\u001b[0;32m~/.local/lib/python3.8/site-packages/sklearn/model_selection/_validation.py\u001b[0m in \u001b[0;36m_score\u001b[0;34m(estimator, X_test, y_test, scorer)\u001b[0m\n\u001b[1;32m    605\u001b[0m         \u001b[0mscores\u001b[0m \u001b[0;34m=\u001b[0m \u001b[0mscorer\u001b[0m\u001b[0;34m(\u001b[0m\u001b[0mestimator\u001b[0m\u001b[0;34m,\u001b[0m \u001b[0mX_test\u001b[0m\u001b[0;34m)\u001b[0m\u001b[0;34m\u001b[0m\u001b[0;34m\u001b[0m\u001b[0m\n\u001b[1;32m    606\u001b[0m     \u001b[0;32melse\u001b[0m\u001b[0;34m:\u001b[0m\u001b[0;34m\u001b[0m\u001b[0;34m\u001b[0m\u001b[0m\n\u001b[0;32m--> 607\u001b[0;31m         \u001b[0mscores\u001b[0m \u001b[0;34m=\u001b[0m \u001b[0mscorer\u001b[0m\u001b[0;34m(\u001b[0m\u001b[0mestimator\u001b[0m\u001b[0;34m,\u001b[0m \u001b[0mX_test\u001b[0m\u001b[0;34m,\u001b[0m \u001b[0my_test\u001b[0m\u001b[0;34m)\u001b[0m\u001b[0;34m\u001b[0m\u001b[0;34m\u001b[0m\u001b[0m\n\u001b[0m\u001b[1;32m    608\u001b[0m \u001b[0;34m\u001b[0m\u001b[0m\n\u001b[1;32m    609\u001b[0m     error_msg = (\"scoring must return a number, got %s (%s) \"\n",
      "\u001b[0;32m~/.local/lib/python3.8/site-packages/sklearn/metrics/_scorer.py\u001b[0m in \u001b[0;36m__call__\u001b[0;34m(self, estimator, *args, **kwargs)\u001b[0m\n\u001b[1;32m     85\u001b[0m         \u001b[0;32mfor\u001b[0m \u001b[0mname\u001b[0m\u001b[0;34m,\u001b[0m \u001b[0mscorer\u001b[0m \u001b[0;32min\u001b[0m \u001b[0mself\u001b[0m\u001b[0;34m.\u001b[0m\u001b[0m_scorers\u001b[0m\u001b[0;34m.\u001b[0m\u001b[0mitems\u001b[0m\u001b[0;34m(\u001b[0m\u001b[0;34m)\u001b[0m\u001b[0;34m:\u001b[0m\u001b[0;34m\u001b[0m\u001b[0;34m\u001b[0m\u001b[0m\n\u001b[1;32m     86\u001b[0m             \u001b[0;32mif\u001b[0m \u001b[0misinstance\u001b[0m\u001b[0;34m(\u001b[0m\u001b[0mscorer\u001b[0m\u001b[0;34m,\u001b[0m \u001b[0m_BaseScorer\u001b[0m\u001b[0;34m)\u001b[0m\u001b[0;34m:\u001b[0m\u001b[0;34m\u001b[0m\u001b[0;34m\u001b[0m\u001b[0m\n\u001b[0;32m---> 87\u001b[0;31m                 score = scorer._score(cached_call, estimator,\n\u001b[0m\u001b[1;32m     88\u001b[0m                                       *args, **kwargs)\n\u001b[1;32m     89\u001b[0m             \u001b[0;32melse\u001b[0m\u001b[0;34m:\u001b[0m\u001b[0;34m\u001b[0m\u001b[0;34m\u001b[0m\u001b[0m\n",
      "\u001b[0;32m~/.local/lib/python3.8/site-packages/sklearn/metrics/_scorer.py\u001b[0m in \u001b[0;36m_score\u001b[0;34m(self, method_caller, estimator, X, y_true, sample_weight)\u001b[0m\n\u001b[1;32m    210\u001b[0m                                                  **self._kwargs)\n\u001b[1;32m    211\u001b[0m         \u001b[0;32melse\u001b[0m\u001b[0;34m:\u001b[0m\u001b[0;34m\u001b[0m\u001b[0;34m\u001b[0m\u001b[0m\n\u001b[0;32m--> 212\u001b[0;31m             return self._sign * self._score_func(y_true, y_pred,\n\u001b[0m\u001b[1;32m    213\u001b[0m                                                  **self._kwargs)\n\u001b[1;32m    214\u001b[0m \u001b[0;34m\u001b[0m\u001b[0m\n",
      "\u001b[0;32m~/.local/lib/python3.8/site-packages/sklearn/utils/validation.py\u001b[0m in \u001b[0;36minner_f\u001b[0;34m(*args, **kwargs)\u001b[0m\n\u001b[1;32m     70\u001b[0m                           FutureWarning)\n\u001b[1;32m     71\u001b[0m         \u001b[0mkwargs\u001b[0m\u001b[0;34m.\u001b[0m\u001b[0mupdate\u001b[0m\u001b[0;34m(\u001b[0m\u001b[0;34m{\u001b[0m\u001b[0mk\u001b[0m\u001b[0;34m:\u001b[0m \u001b[0marg\u001b[0m \u001b[0;32mfor\u001b[0m \u001b[0mk\u001b[0m\u001b[0;34m,\u001b[0m \u001b[0marg\u001b[0m \u001b[0;32min\u001b[0m \u001b[0mzip\u001b[0m\u001b[0;34m(\u001b[0m\u001b[0msig\u001b[0m\u001b[0;34m.\u001b[0m\u001b[0mparameters\u001b[0m\u001b[0;34m,\u001b[0m \u001b[0margs\u001b[0m\u001b[0;34m)\u001b[0m\u001b[0;34m}\u001b[0m\u001b[0;34m)\u001b[0m\u001b[0;34m\u001b[0m\u001b[0;34m\u001b[0m\u001b[0m\n\u001b[0;32m---> 72\u001b[0;31m         \u001b[0;32mreturn\u001b[0m \u001b[0mf\u001b[0m\u001b[0;34m(\u001b[0m\u001b[0;34m**\u001b[0m\u001b[0mkwargs\u001b[0m\u001b[0;34m)\u001b[0m\u001b[0;34m\u001b[0m\u001b[0;34m\u001b[0m\u001b[0m\n\u001b[0m\u001b[1;32m     73\u001b[0m     \u001b[0;32mreturn\u001b[0m \u001b[0minner_f\u001b[0m\u001b[0;34m\u001b[0m\u001b[0;34m\u001b[0m\u001b[0m\n\u001b[1;32m     74\u001b[0m \u001b[0;34m\u001b[0m\u001b[0m\n",
      "\u001b[0;32m~/.local/lib/python3.8/site-packages/sklearn/metrics/_classification.py\u001b[0m in \u001b[0;36maccuracy_score\u001b[0;34m(y_true, y_pred, normalize, sample_weight)\u001b[0m\n\u001b[1;32m    185\u001b[0m \u001b[0;34m\u001b[0m\u001b[0m\n\u001b[1;32m    186\u001b[0m     \u001b[0;31m# Compute accuracy for each possible representation\u001b[0m\u001b[0;34m\u001b[0m\u001b[0;34m\u001b[0m\u001b[0;34m\u001b[0m\u001b[0m\n\u001b[0;32m--> 187\u001b[0;31m     \u001b[0my_type\u001b[0m\u001b[0;34m,\u001b[0m \u001b[0my_true\u001b[0m\u001b[0;34m,\u001b[0m \u001b[0my_pred\u001b[0m \u001b[0;34m=\u001b[0m \u001b[0m_check_targets\u001b[0m\u001b[0;34m(\u001b[0m\u001b[0my_true\u001b[0m\u001b[0;34m,\u001b[0m \u001b[0my_pred\u001b[0m\u001b[0;34m)\u001b[0m\u001b[0;34m\u001b[0m\u001b[0;34m\u001b[0m\u001b[0m\n\u001b[0m\u001b[1;32m    188\u001b[0m     \u001b[0mcheck_consistent_length\u001b[0m\u001b[0;34m(\u001b[0m\u001b[0my_true\u001b[0m\u001b[0;34m,\u001b[0m \u001b[0my_pred\u001b[0m\u001b[0;34m,\u001b[0m \u001b[0msample_weight\u001b[0m\u001b[0;34m)\u001b[0m\u001b[0;34m\u001b[0m\u001b[0;34m\u001b[0m\u001b[0m\n\u001b[1;32m    189\u001b[0m     \u001b[0;32mif\u001b[0m \u001b[0my_type\u001b[0m\u001b[0;34m.\u001b[0m\u001b[0mstartswith\u001b[0m\u001b[0;34m(\u001b[0m\u001b[0;34m'multilabel'\u001b[0m\u001b[0;34m)\u001b[0m\u001b[0;34m:\u001b[0m\u001b[0;34m\u001b[0m\u001b[0;34m\u001b[0m\u001b[0m\n",
      "\u001b[0;32m~/.local/lib/python3.8/site-packages/sklearn/metrics/_classification.py\u001b[0m in \u001b[0;36m_check_targets\u001b[0;34m(y_true, y_pred)\u001b[0m\n\u001b[1;32m     88\u001b[0m \u001b[0;34m\u001b[0m\u001b[0m\n\u001b[1;32m     89\u001b[0m     \u001b[0;32mif\u001b[0m \u001b[0mlen\u001b[0m\u001b[0;34m(\u001b[0m\u001b[0my_type\u001b[0m\u001b[0;34m)\u001b[0m \u001b[0;34m>\u001b[0m \u001b[0;36m1\u001b[0m\u001b[0;34m:\u001b[0m\u001b[0;34m\u001b[0m\u001b[0;34m\u001b[0m\u001b[0m\n\u001b[0;32m---> 90\u001b[0;31m         raise ValueError(\"Classification metrics can't handle a mix of {0} \"\n\u001b[0m\u001b[1;32m     91\u001b[0m                          \"and {1} targets\".format(type_true, type_pred))\n\u001b[1;32m     92\u001b[0m \u001b[0;34m\u001b[0m\u001b[0m\n",
      "\u001b[0;31mValueError\u001b[0m: Classification metrics can't handle a mix of multiclass and continuous targets"
     ]
    }
   ],
   "source": [
    "cvs = cross_val_score(estimator=reg, X=x_dummies, y=y, cv=10, scoring='accuracy')"
   ]
  },
  {
   "cell_type": "code",
   "execution_count": null,
   "metadata": {},
   "outputs": [],
   "source": [
    "y.mean() - cvs.mean()"
   ]
  },
  {
   "cell_type": "code",
   "execution_count": null,
   "metadata": {},
   "outputs": [],
   "source": [
    "y.std() - cvs.std()"
   ]
  },
  {
   "cell_type": "code",
   "execution_count": null,
   "metadata": {},
   "outputs": [],
   "source": []
  }
 ],
 "metadata": {
  "kernelspec": {
   "display_name": "Python 3",
   "language": "python",
   "name": "python3"
  },
  "language_info": {
   "codemirror_mode": {
    "name": "ipython",
    "version": 3
   },
   "file_extension": ".py",
   "mimetype": "text/x-python",
   "name": "python",
   "nbconvert_exporter": "python",
   "pygments_lexer": "ipython3",
   "version": "3.8.5"
  }
 },
 "nbformat": 4,
 "nbformat_minor": 4
}
