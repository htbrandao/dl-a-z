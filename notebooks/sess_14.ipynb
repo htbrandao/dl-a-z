{
 "cells": [
  {
   "cell_type": "markdown",
   "metadata": {},
   "source": [
    "# Part 14"
   ]
  },
  {
   "cell_type": "markdown",
   "metadata": {},
   "source": [
    "## # Dataset"
   ]
  },
  {
   "cell_type": "code",
   "execution_count": 91,
   "metadata": {},
   "outputs": [],
   "source": [
    "import pandas as pd\n",
    "import numpy as np"
   ]
  },
  {
   "cell_type": "code",
   "execution_count": 185,
   "metadata": {},
   "outputs": [
    {
     "data": {
      "text/plain": [
       "((1245, 7),\n",
       " Index(['Date', 'Open', 'High', 'Low', 'Close', 'Adj Close', 'Volume'], dtype='object'))"
      ]
     },
     "execution_count": 185,
     "metadata": {},
     "output_type": "execute_result"
    }
   ],
   "source": [
    "df = pd.read_csv('../datasets/petr4_treinamento.csv')\n",
    "df.shape, df.columns"
   ]
  },
  {
   "cell_type": "code",
   "execution_count": 186,
   "metadata": {},
   "outputs": [
    {
     "data": {
      "text/html": [
       "<div>\n",
       "<style scoped>\n",
       "    .dataframe tbody tr th:only-of-type {\n",
       "        vertical-align: middle;\n",
       "    }\n",
       "\n",
       "    .dataframe tbody tr th {\n",
       "        vertical-align: top;\n",
       "    }\n",
       "\n",
       "    .dataframe thead th {\n",
       "        text-align: right;\n",
       "    }\n",
       "</style>\n",
       "<table border=\"1\" class=\"dataframe\">\n",
       "  <thead>\n",
       "    <tr style=\"text-align: right;\">\n",
       "      <th></th>\n",
       "      <th>Date</th>\n",
       "      <th>Open</th>\n",
       "      <th>High</th>\n",
       "      <th>Low</th>\n",
       "      <th>Close</th>\n",
       "      <th>Adj Close</th>\n",
       "      <th>Volume</th>\n",
       "    </tr>\n",
       "  </thead>\n",
       "  <tbody>\n",
       "    <tr>\n",
       "      <th>0</th>\n",
       "      <td>2013-01-02</td>\n",
       "      <td>19.990000</td>\n",
       "      <td>20.209999</td>\n",
       "      <td>19.690001</td>\n",
       "      <td>19.690001</td>\n",
       "      <td>18.086271</td>\n",
       "      <td>30182600.0</td>\n",
       "    </tr>\n",
       "    <tr>\n",
       "      <th>1</th>\n",
       "      <td>2013-01-03</td>\n",
       "      <td>19.809999</td>\n",
       "      <td>20.400000</td>\n",
       "      <td>19.700001</td>\n",
       "      <td>20.400000</td>\n",
       "      <td>18.738441</td>\n",
       "      <td>30552600.0</td>\n",
       "    </tr>\n",
       "    <tr>\n",
       "      <th>2</th>\n",
       "      <td>2013-01-04</td>\n",
       "      <td>20.330000</td>\n",
       "      <td>20.620001</td>\n",
       "      <td>20.170000</td>\n",
       "      <td>20.430000</td>\n",
       "      <td>18.766001</td>\n",
       "      <td>36141000.0</td>\n",
       "    </tr>\n",
       "    <tr>\n",
       "      <th>3</th>\n",
       "      <td>2013-01-07</td>\n",
       "      <td>20.480000</td>\n",
       "      <td>20.670000</td>\n",
       "      <td>19.950001</td>\n",
       "      <td>20.080000</td>\n",
       "      <td>18.444506</td>\n",
       "      <td>28069600.0</td>\n",
       "    </tr>\n",
       "    <tr>\n",
       "      <th>4</th>\n",
       "      <td>2013-01-08</td>\n",
       "      <td>20.110001</td>\n",
       "      <td>20.230000</td>\n",
       "      <td>19.459999</td>\n",
       "      <td>19.500000</td>\n",
       "      <td>17.911745</td>\n",
       "      <td>29091300.0</td>\n",
       "    </tr>\n",
       "  </tbody>\n",
       "</table>\n",
       "</div>"
      ],
      "text/plain": [
       "         Date       Open       High        Low      Close  Adj Close  \\\n",
       "0  2013-01-02  19.990000  20.209999  19.690001  19.690001  18.086271   \n",
       "1  2013-01-03  19.809999  20.400000  19.700001  20.400000  18.738441   \n",
       "2  2013-01-04  20.330000  20.620001  20.170000  20.430000  18.766001   \n",
       "3  2013-01-07  20.480000  20.670000  19.950001  20.080000  18.444506   \n",
       "4  2013-01-08  20.110001  20.230000  19.459999  19.500000  17.911745   \n",
       "\n",
       "       Volume  \n",
       "0  30182600.0  \n",
       "1  30552600.0  \n",
       "2  36141000.0  \n",
       "3  28069600.0  \n",
       "4  29091300.0  "
      ]
     },
     "execution_count": 186,
     "metadata": {},
     "output_type": "execute_result"
    }
   ],
   "source": [
    "df.head()"
   ]
  },
  {
   "cell_type": "code",
   "execution_count": 187,
   "metadata": {},
   "outputs": [],
   "source": [
    "def _isnull(df):\n",
    "    for c in df.columns:\n",
    "        cnt = df[pd.isnull(df[c])].shape[0]\n",
    "        if cnt != 0:\n",
    "            print(f'# {c}: {cnt} rows')"
   ]
  },
  {
   "cell_type": "code",
   "execution_count": 188,
   "metadata": {},
   "outputs": [
    {
     "name": "stdout",
     "output_type": "stream",
     "text": [
      "# Open: 3 rows\n",
      "# High: 3 rows\n",
      "# Low: 3 rows\n",
      "# Close: 3 rows\n",
      "# Adj Close: 3 rows\n",
      "# Volume: 3 rows\n"
     ]
    }
   ],
   "source": [
    "_isnull(df)"
   ]
  },
  {
   "cell_type": "code",
   "execution_count": 189,
   "metadata": {},
   "outputs": [
    {
     "data": {
      "text/plain": [
       "(1242, 7)"
      ]
     },
     "execution_count": 189,
     "metadata": {},
     "output_type": "execute_result"
    }
   ],
   "source": [
    "df.dropna(axis=0, inplace=True)\n",
    "df.reset_index(inplace=True, drop=True)\n",
    "df.shape"
   ]
  },
  {
   "cell_type": "code",
   "execution_count": 190,
   "metadata": {},
   "outputs": [],
   "source": [
    "DAYS_BEFORE = 90"
   ]
  },
  {
   "cell_type": "code",
   "execution_count": 191,
   "metadata": {},
   "outputs": [
    {
     "data": {
      "text/plain": [
       "(1242, 7)"
      ]
     },
     "execution_count": 191,
     "metadata": {},
     "output_type": "execute_result"
    }
   ],
   "source": [
    "df.shape"
   ]
  },
  {
   "cell_type": "code",
   "execution_count": 192,
   "metadata": {},
   "outputs": [
    {
     "name": "stderr",
     "output_type": "stream",
     "text": [
      "/home/hbrandao/.local/lib/python3.8/site-packages/pandas/core/indexing.py:670: SettingWithCopyWarning: \n",
      "A value is trying to be set on a copy of a slice from a DataFrame\n",
      "\n",
      "See the caveats in the documentation: https://pandas.pydata.org/pandas-docs/stable/user_guide/indexing.html#returning-a-view-versus-a-copy\n",
      "  iloc._setitem_with_indexer(indexer, value)\n"
     ]
    },
    {
     "data": {
      "text/html": [
       "<div>\n",
       "<style scoped>\n",
       "    .dataframe tbody tr th:only-of-type {\n",
       "        vertical-align: middle;\n",
       "    }\n",
       "\n",
       "    .dataframe tbody tr th {\n",
       "        vertical-align: top;\n",
       "    }\n",
       "\n",
       "    .dataframe thead th {\n",
       "        text-align: right;\n",
       "    }\n",
       "</style>\n",
       "<table border=\"1\" class=\"dataframe\">\n",
       "  <thead>\n",
       "    <tr style=\"text-align: right;\">\n",
       "      <th></th>\n",
       "      <th>Date</th>\n",
       "      <th>Open</th>\n",
       "      <th>High</th>\n",
       "      <th>Low</th>\n",
       "      <th>Close</th>\n",
       "      <th>Adj Close</th>\n",
       "      <th>Volume</th>\n",
       "      <th>x</th>\n",
       "    </tr>\n",
       "  </thead>\n",
       "  <tbody>\n",
       "    <tr>\n",
       "      <th>87</th>\n",
       "      <td>2013-05-14</td>\n",
       "      <td>19.530001</td>\n",
       "      <td>19.680000</td>\n",
       "      <td>19.250000</td>\n",
       "      <td>19.549999</td>\n",
       "      <td>18.298189</td>\n",
       "      <td>30643700.0</td>\n",
       "      <td>NaN</td>\n",
       "    </tr>\n",
       "    <tr>\n",
       "      <th>88</th>\n",
       "      <td>2013-05-15</td>\n",
       "      <td>19.500000</td>\n",
       "      <td>19.639999</td>\n",
       "      <td>19.330000</td>\n",
       "      <td>19.570000</td>\n",
       "      <td>18.316908</td>\n",
       "      <td>21869300.0</td>\n",
       "      <td>NaN</td>\n",
       "    </tr>\n",
       "    <tr>\n",
       "      <th>89</th>\n",
       "      <td>2013-05-16</td>\n",
       "      <td>19.520000</td>\n",
       "      <td>20.080000</td>\n",
       "      <td>19.459999</td>\n",
       "      <td>19.750000</td>\n",
       "      <td>18.485382</td>\n",
       "      <td>25067200.0</td>\n",
       "      <td>NaN</td>\n",
       "    </tr>\n",
       "    <tr>\n",
       "      <th>90</th>\n",
       "      <td>2013-05-17</td>\n",
       "      <td>19.910000</td>\n",
       "      <td>20.049999</td>\n",
       "      <td>19.790001</td>\n",
       "      <td>19.889999</td>\n",
       "      <td>18.616419</td>\n",
       "      <td>19040100.0</td>\n",
       "      <td>0.0</td>\n",
       "    </tr>\n",
       "    <tr>\n",
       "      <th>91</th>\n",
       "      <td>2013-05-20</td>\n",
       "      <td>19.910000</td>\n",
       "      <td>20.250000</td>\n",
       "      <td>19.559999</td>\n",
       "      <td>20.200001</td>\n",
       "      <td>18.906569</td>\n",
       "      <td>30571700.0</td>\n",
       "      <td>0.0</td>\n",
       "    </tr>\n",
       "  </tbody>\n",
       "</table>\n",
       "</div>"
      ],
      "text/plain": [
       "          Date       Open       High        Low      Close  Adj Close  \\\n",
       "87  2013-05-14  19.530001  19.680000  19.250000  19.549999  18.298189   \n",
       "88  2013-05-15  19.500000  19.639999  19.330000  19.570000  18.316908   \n",
       "89  2013-05-16  19.520000  20.080000  19.459999  19.750000  18.485382   \n",
       "90  2013-05-17  19.910000  20.049999  19.790001  19.889999  18.616419   \n",
       "91  2013-05-20  19.910000  20.250000  19.559999  20.200001  18.906569   \n",
       "\n",
       "        Volume    x  \n",
       "87  30643700.0  NaN  \n",
       "88  21869300.0  NaN  \n",
       "89  25067200.0  NaN  \n",
       "90  19040100.0  0.0  \n",
       "91  30571700.0  0.0  "
      ]
     },
     "execution_count": 192,
     "metadata": {},
     "output_type": "execute_result"
    }
   ],
   "source": [
    "df['x'] = np.nan\n",
    "df['x'].iloc[90:] = np.zeros(shape=(1152,))\n",
    "df.iloc[87:92]"
   ]
  },
  {
   "cell_type": "code",
   "execution_count": 208,
   "metadata": {},
   "outputs": [],
   "source": [
    "def daysbefore(days_before, col):\n",
    "    feature = []\n",
    "    target = []\n",
    "    for i in range(days_before, df.shape[0]):\n",
    "        slice_start = i - days_before\n",
    "        slice_stop = i\n",
    "        feature.append(df[col].iloc[slice_start:slice_stop].values)\n",
    "        target.append(df[col].iloc[i])\n",
    "    _ = pd.DataFrame(data=open_feature)\n",
    "    _['target'] = target\n",
    "    return _"
   ]
  },
  {
   "cell_type": "code",
   "execution_count": 210,
   "metadata": {},
   "outputs": [
    {
     "data": {
      "text/plain": [
       "(1242, 9)"
      ]
     },
     "execution_count": 210,
     "metadata": {},
     "output_type": "execute_result"
    }
   ],
   "source": [
    "df_open = daysbefore(90, 'Open')\n",
    "df_open.shape"
   ]
  },
  {
   "cell_type": "code",
   "execution_count": 212,
   "metadata": {},
   "outputs": [
    {
     "data": {
      "text/html": [
       "<div>\n",
       "<style scoped>\n",
       "    .dataframe tbody tr th:only-of-type {\n",
       "        vertical-align: middle;\n",
       "    }\n",
       "\n",
       "    .dataframe tbody tr th {\n",
       "        vertical-align: top;\n",
       "    }\n",
       "\n",
       "    .dataframe thead th {\n",
       "        text-align: right;\n",
       "    }\n",
       "</style>\n",
       "<table border=\"1\" class=\"dataframe\">\n",
       "  <thead>\n",
       "    <tr style=\"text-align: right;\">\n",
       "      <th></th>\n",
       "      <th>0</th>\n",
       "      <th>1</th>\n",
       "      <th>2</th>\n",
       "      <th>3</th>\n",
       "      <th>4</th>\n",
       "      <th>5</th>\n",
       "      <th>6</th>\n",
       "      <th>7</th>\n",
       "      <th>8</th>\n",
       "      <th>9</th>\n",
       "      <th>...</th>\n",
       "      <th>81</th>\n",
       "      <th>82</th>\n",
       "      <th>83</th>\n",
       "      <th>84</th>\n",
       "      <th>85</th>\n",
       "      <th>86</th>\n",
       "      <th>87</th>\n",
       "      <th>88</th>\n",
       "      <th>89</th>\n",
       "      <th>target</th>\n",
       "    </tr>\n",
       "  </thead>\n",
       "  <tbody>\n",
       "    <tr>\n",
       "      <th>0</th>\n",
       "      <td>19.990000</td>\n",
       "      <td>19.809999</td>\n",
       "      <td>20.330000</td>\n",
       "      <td>20.480000</td>\n",
       "      <td>20.110001</td>\n",
       "      <td>19.639999</td>\n",
       "      <td>19.770000</td>\n",
       "      <td>19.850000</td>\n",
       "      <td>20.010000</td>\n",
       "      <td>20.010000</td>\n",
       "      <td>...</td>\n",
       "      <td>20.01</td>\n",
       "      <td>20.400000</td>\n",
       "      <td>20.750000</td>\n",
       "      <td>20.250000</td>\n",
       "      <td>20.160000</td>\n",
       "      <td>19.809999</td>\n",
       "      <td>19.530001</td>\n",
       "      <td>19.500000</td>\n",
       "      <td>19.520000</td>\n",
       "      <td>19.910000</td>\n",
       "    </tr>\n",
       "    <tr>\n",
       "      <th>1</th>\n",
       "      <td>19.809999</td>\n",
       "      <td>20.330000</td>\n",
       "      <td>20.480000</td>\n",
       "      <td>20.110001</td>\n",
       "      <td>19.639999</td>\n",
       "      <td>19.770000</td>\n",
       "      <td>19.850000</td>\n",
       "      <td>20.010000</td>\n",
       "      <td>20.010000</td>\n",
       "      <td>19.889999</td>\n",
       "      <td>...</td>\n",
       "      <td>20.40</td>\n",
       "      <td>20.750000</td>\n",
       "      <td>20.250000</td>\n",
       "      <td>20.160000</td>\n",
       "      <td>19.809999</td>\n",
       "      <td>19.530001</td>\n",
       "      <td>19.500000</td>\n",
       "      <td>19.520000</td>\n",
       "      <td>19.910000</td>\n",
       "      <td>19.910000</td>\n",
       "    </tr>\n",
       "    <tr>\n",
       "      <th>2</th>\n",
       "      <td>20.330000</td>\n",
       "      <td>20.480000</td>\n",
       "      <td>20.110001</td>\n",
       "      <td>19.639999</td>\n",
       "      <td>19.770000</td>\n",
       "      <td>19.850000</td>\n",
       "      <td>20.010000</td>\n",
       "      <td>20.010000</td>\n",
       "      <td>19.889999</td>\n",
       "      <td>19.860001</td>\n",
       "      <td>...</td>\n",
       "      <td>20.75</td>\n",
       "      <td>20.250000</td>\n",
       "      <td>20.160000</td>\n",
       "      <td>19.809999</td>\n",
       "      <td>19.530001</td>\n",
       "      <td>19.500000</td>\n",
       "      <td>19.520000</td>\n",
       "      <td>19.910000</td>\n",
       "      <td>19.910000</td>\n",
       "      <td>20.190001</td>\n",
       "    </tr>\n",
       "    <tr>\n",
       "      <th>3</th>\n",
       "      <td>20.480000</td>\n",
       "      <td>20.110001</td>\n",
       "      <td>19.639999</td>\n",
       "      <td>19.770000</td>\n",
       "      <td>19.850000</td>\n",
       "      <td>20.010000</td>\n",
       "      <td>20.010000</td>\n",
       "      <td>19.889999</td>\n",
       "      <td>19.860001</td>\n",
       "      <td>19.799999</td>\n",
       "      <td>...</td>\n",
       "      <td>20.25</td>\n",
       "      <td>20.160000</td>\n",
       "      <td>19.809999</td>\n",
       "      <td>19.530001</td>\n",
       "      <td>19.500000</td>\n",
       "      <td>19.520000</td>\n",
       "      <td>19.910000</td>\n",
       "      <td>19.910000</td>\n",
       "      <td>20.190001</td>\n",
       "      <td>20.270000</td>\n",
       "    </tr>\n",
       "    <tr>\n",
       "      <th>4</th>\n",
       "      <td>20.110001</td>\n",
       "      <td>19.639999</td>\n",
       "      <td>19.770000</td>\n",
       "      <td>19.850000</td>\n",
       "      <td>20.010000</td>\n",
       "      <td>20.010000</td>\n",
       "      <td>19.889999</td>\n",
       "      <td>19.860001</td>\n",
       "      <td>19.799999</td>\n",
       "      <td>19.570000</td>\n",
       "      <td>...</td>\n",
       "      <td>20.16</td>\n",
       "      <td>19.809999</td>\n",
       "      <td>19.530001</td>\n",
       "      <td>19.500000</td>\n",
       "      <td>19.520000</td>\n",
       "      <td>19.910000</td>\n",
       "      <td>19.910000</td>\n",
       "      <td>20.190001</td>\n",
       "      <td>20.270000</td>\n",
       "      <td>19.549999</td>\n",
       "    </tr>\n",
       "  </tbody>\n",
       "</table>\n",
       "<p>5 rows × 91 columns</p>\n",
       "</div>"
      ],
      "text/plain": [
       "           0          1          2          3          4          5  \\\n",
       "0  19.990000  19.809999  20.330000  20.480000  20.110001  19.639999   \n",
       "1  19.809999  20.330000  20.480000  20.110001  19.639999  19.770000   \n",
       "2  20.330000  20.480000  20.110001  19.639999  19.770000  19.850000   \n",
       "3  20.480000  20.110001  19.639999  19.770000  19.850000  20.010000   \n",
       "4  20.110001  19.639999  19.770000  19.850000  20.010000  20.010000   \n",
       "\n",
       "           6          7          8          9  ...     81         82  \\\n",
       "0  19.770000  19.850000  20.010000  20.010000  ...  20.01  20.400000   \n",
       "1  19.850000  20.010000  20.010000  19.889999  ...  20.40  20.750000   \n",
       "2  20.010000  20.010000  19.889999  19.860001  ...  20.75  20.250000   \n",
       "3  20.010000  19.889999  19.860001  19.799999  ...  20.25  20.160000   \n",
       "4  19.889999  19.860001  19.799999  19.570000  ...  20.16  19.809999   \n",
       "\n",
       "          83         84         85         86         87         88  \\\n",
       "0  20.750000  20.250000  20.160000  19.809999  19.530001  19.500000   \n",
       "1  20.250000  20.160000  19.809999  19.530001  19.500000  19.520000   \n",
       "2  20.160000  19.809999  19.530001  19.500000  19.520000  19.910000   \n",
       "3  19.809999  19.530001  19.500000  19.520000  19.910000  19.910000   \n",
       "4  19.530001  19.500000  19.520000  19.910000  19.910000  20.190001   \n",
       "\n",
       "          89     target  \n",
       "0  19.520000  19.910000  \n",
       "1  19.910000  19.910000  \n",
       "2  19.910000  20.190001  \n",
       "3  20.190001  20.270000  \n",
       "4  20.270000  19.549999  \n",
       "\n",
       "[5 rows x 91 columns]"
      ]
     },
     "execution_count": 212,
     "metadata": {},
     "output_type": "execute_result"
    }
   ],
   "source": [
    "df_open.head()"
   ]
  },
  {
   "cell_type": "code",
   "execution_count": null,
   "metadata": {},
   "outputs": [],
   "source": []
  },
  {
   "cell_type": "code",
   "execution_count": null,
   "metadata": {},
   "outputs": [],
   "source": []
  },
  {
   "cell_type": "code",
   "execution_count": null,
   "metadata": {},
   "outputs": [],
   "source": []
  },
  {
   "cell_type": "code",
   "execution_count": null,
   "metadata": {},
   "outputs": [],
   "source": []
  },
  {
   "cell_type": "code",
   "execution_count": null,
   "metadata": {},
   "outputs": [],
   "source": []
  },
  {
   "cell_type": "markdown",
   "metadata": {},
   "source": [
    "## # Model"
   ]
  },
  {
   "cell_type": "code",
   "execution_count": null,
   "metadata": {},
   "outputs": [],
   "source": []
  },
  {
   "cell_type": "code",
   "execution_count": null,
   "metadata": {},
   "outputs": [],
   "source": []
  },
  {
   "cell_type": "code",
   "execution_count": null,
   "metadata": {},
   "outputs": [],
   "source": []
  },
  {
   "cell_type": "code",
   "execution_count": null,
   "metadata": {},
   "outputs": [],
   "source": []
  },
  {
   "cell_type": "code",
   "execution_count": null,
   "metadata": {},
   "outputs": [],
   "source": []
  },
  {
   "cell_type": "code",
   "execution_count": null,
   "metadata": {},
   "outputs": [],
   "source": []
  },
  {
   "cell_type": "markdown",
   "metadata": {},
   "source": [
    "## # Evaluation"
   ]
  },
  {
   "cell_type": "code",
   "execution_count": null,
   "metadata": {},
   "outputs": [],
   "source": []
  },
  {
   "cell_type": "code",
   "execution_count": null,
   "metadata": {},
   "outputs": [],
   "source": []
  },
  {
   "cell_type": "code",
   "execution_count": null,
   "metadata": {},
   "outputs": [],
   "source": []
  },
  {
   "cell_type": "code",
   "execution_count": null,
   "metadata": {},
   "outputs": [],
   "source": []
  },
  {
   "cell_type": "code",
   "execution_count": null,
   "metadata": {},
   "outputs": [],
   "source": []
  }
 ],
 "metadata": {
  "kernelspec": {
   "display_name": "Python 3",
   "language": "python",
   "name": "python3"
  },
  "language_info": {
   "codemirror_mode": {
    "name": "ipython",
    "version": 3
   },
   "file_extension": ".py",
   "mimetype": "text/x-python",
   "name": "python",
   "nbconvert_exporter": "python",
   "pygments_lexer": "ipython3",
   "version": "3.8.5"
  }
 },
 "nbformat": 4,
 "nbformat_minor": 4
}
